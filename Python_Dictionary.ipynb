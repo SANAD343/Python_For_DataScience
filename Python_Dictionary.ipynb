{
  "nbformat": 4,
  "nbformat_minor": 0,
  "metadata": {
    "colab": {
      "provenance": [],
      "authorship_tag": "ABX9TyPYTimcCSu3+1AkWFMjj6xO",
      "include_colab_link": true
    },
    "kernelspec": {
      "name": "python3",
      "display_name": "Python 3"
    },
    "language_info": {
      "name": "python"
    }
  },
  "cells": [
    {
      "cell_type": "markdown",
      "metadata": {
        "id": "view-in-github",
        "colab_type": "text"
      },
      "source": [
        "<a href=\"https://colab.research.google.com/github/SANAD343/Python_For_DataScience/blob/main/Python_Dictionary.ipynb\" target=\"_parent\"><img src=\"https://colab.research.google.com/assets/colab-badge.svg\" alt=\"Open In Colab\"/></a>"
      ]
    },
    {
      "cell_type": "markdown",
      "source": [
        "#Dictionary\n",
        "\n",
        "Dictionaries are used to store data values in key:value pairs.\n",
        "\n",
        "A dictionary is a collection which is ordered*, changeable and do not allow duplicates.\n",
        "\n",
        "Dictionaries are written with curly brackets, and have keys and values.\n",
        "\n",
        "#Dictionary Items\n",
        "\n",
        "Dictionary items are ordered, changeable, and do not allow duplicates.\n",
        "\n",
        "Dictionary items are presented in key:value pairs, and can be referred to by using the key name.\n",
        "\n",
        "#Changeable\n",
        "\n",
        "Dictionaries are changeable, meaning that we can change, add or remove items after the dictionary has been created."
      ],
      "metadata": {
        "id": "I0Svraa8Xh6Z"
      }
    },
    {
      "cell_type": "code",
      "source": [
        "data1={\"name\":\"himanshu\",\"course\":\"datasciene\",\"mobile_no\":9756309194,\"email_Id\":\"sanad.kv1994@gmail.com\",\"address\":\"kalayanpur\",\"marital status\":\"yes\"}"
      ],
      "metadata": {
        "id": "pwjhLU8LXxlO"
      },
      "execution_count": 1,
      "outputs": []
    },
    {
      "cell_type": "code",
      "source": [
        "type(data1)"
      ],
      "metadata": {
        "colab": {
          "base_uri": "https://localhost:8080/"
        },
        "id": "RkE0b584-yq3",
        "outputId": "9b52d3ab-7cb4-469e-ba75-50b055aeaa91"
      },
      "execution_count": 2,
      "outputs": [
        {
          "output_type": "execute_result",
          "data": {
            "text/plain": [
              "dict"
            ]
          },
          "metadata": {},
          "execution_count": 2
        }
      ]
    },
    {
      "cell_type": "code",
      "source": [
        "for item in (data1): #will get only keys\n",
        "  print(item)"
      ],
      "metadata": {
        "colab": {
          "base_uri": "https://localhost:8080/"
        },
        "id": "-Uy1Mmi4-z-w",
        "outputId": "53b531db-df6f-42fa-84bd-32adf40ca899"
      },
      "execution_count": 3,
      "outputs": [
        {
          "output_type": "stream",
          "name": "stdout",
          "text": [
            "name\n",
            "course\n",
            "mobile_no\n",
            "email_Id\n",
            "address\n",
            "marital status\n"
          ]
        }
      ]
    },
    {
      "cell_type": "markdown",
      "source": [
        "# Nestted Dictionary"
      ],
      "metadata": {
        "id": "phkAHu1d-_H0"
      }
    },
    {
      "cell_type": "code",
      "source": [
        "d2={1:{\"topic\":\"list\"},2:{\"topic\":\"tuple\",\"year\":2023},3:{\"topic\":\"dictionary\",\"year\":2023}}"
      ],
      "metadata": {
        "id": "ScLc3GKV-1yz"
      },
      "execution_count": 4,
      "outputs": []
    },
    {
      "cell_type": "code",
      "source": [
        "print(d2)"
      ],
      "metadata": {
        "colab": {
          "base_uri": "https://localhost:8080/"
        },
        "id": "m810Vr9D_CHN",
        "outputId": "f7e3c7d8-4f76-4080-fdf5-5ecfdd8deb13"
      },
      "execution_count": 5,
      "outputs": [
        {
          "output_type": "stream",
          "name": "stdout",
          "text": [
            "{1: {'topic': 'list'}, 2: {'topic': 'tuple', 'year': 2023}, 3: {'topic': 'dictionary', 'year': 2023}}\n"
          ]
        }
      ]
    },
    {
      "cell_type": "code",
      "source": [
        "for item in d2:\n",
        "  print(item)"
      ],
      "metadata": {
        "colab": {
          "base_uri": "https://localhost:8080/"
        },
        "id": "3DcPEm04_EWH",
        "outputId": "a58011f0-95a0-400f-81b3-3dffd133fddc"
      },
      "execution_count": 6,
      "outputs": [
        {
          "output_type": "stream",
          "name": "stdout",
          "text": [
            "1\n",
            "2\n",
            "3\n"
          ]
        }
      ]
    },
    {
      "cell_type": "code",
      "source": [
        "data1={\"name\":\"himanshu\",\"course\":\"datasciene\",\"mobile_no\":1234567890,\"email_Id\":\"himanshu.kv1994@gmail.com\",\"address\":\"kalayanpur\",\"marital status\":\"yes\"}"
      ],
      "metadata": {
        "id": "pTjcA7Mn_F2y"
      },
      "execution_count": 7,
      "outputs": []
    },
    {
      "cell_type": "code",
      "source": [
        "data1[\"name\"]"
      ],
      "metadata": {
        "colab": {
          "base_uri": "https://localhost:8080/",
          "height": 36
        },
        "id": "ac4b61qL_Q_-",
        "outputId": "14facf2a-5829-47af-d7ad-6396a36ee337"
      },
      "execution_count": 8,
      "outputs": [
        {
          "output_type": "execute_result",
          "data": {
            "text/plain": [
              "'himanshu'"
            ],
            "application/vnd.google.colaboratory.intrinsic+json": {
              "type": "string"
            }
          },
          "metadata": {},
          "execution_count": 8
        }
      ]
    },
    {
      "cell_type": "code",
      "source": [
        "data1[\"address\"]"
      ],
      "metadata": {
        "colab": {
          "base_uri": "https://localhost:8080/",
          "height": 36
        },
        "id": "InG49y4O_RfY",
        "outputId": "c843d497-3eff-493c-d8a0-8dc42f81975a"
      },
      "execution_count": 9,
      "outputs": [
        {
          "output_type": "execute_result",
          "data": {
            "text/plain": [
              "'kalayanpur'"
            ],
            "application/vnd.google.colaboratory.intrinsic+json": {
              "type": "string"
            }
          },
          "metadata": {},
          "execution_count": 9
        }
      ]
    },
    {
      "cell_type": "code",
      "source": [
        "data1[\"kalyanpur\"] #Keyerror"
      ],
      "metadata": {
        "colab": {
          "base_uri": "https://localhost:8080/",
          "height": 146
        },
        "id": "crW5rGlC_TAi",
        "outputId": "9993bd3e-cac9-4e2b-ced7-a9d5042ef032"
      },
      "execution_count": 10,
      "outputs": [
        {
          "output_type": "error",
          "ename": "KeyError",
          "evalue": "'kalyanpur'",
          "traceback": [
            "\u001b[0;31m---------------------------------------------------------------------------\u001b[0m",
            "\u001b[0;31mKeyError\u001b[0m                                  Traceback (most recent call last)",
            "\u001b[0;32m<ipython-input-10-192a74646a3e>\u001b[0m in \u001b[0;36m<cell line: 1>\u001b[0;34m()\u001b[0m\n\u001b[0;32m----> 1\u001b[0;31m \u001b[0mdata1\u001b[0m\u001b[0;34m[\u001b[0m\u001b[0;34m\"kalyanpur\"\u001b[0m\u001b[0;34m]\u001b[0m \u001b[0;31m#Keyerror\u001b[0m\u001b[0;34m\u001b[0m\u001b[0;34m\u001b[0m\u001b[0m\n\u001b[0m",
            "\u001b[0;31mKeyError\u001b[0m: 'kalyanpur'"
          ]
        }
      ]
    },
    {
      "cell_type": "code",
      "source": [
        "d2={1:{\"topic\":\"list\"},2:{\"topic\":\"tuple\",\"year\":2023},3:{\"topic\":\"dictionary\",\"year\":2023}}"
      ],
      "metadata": {
        "id": "j4b1ebZP_UYg"
      },
      "execution_count": 11,
      "outputs": []
    },
    {
      "cell_type": "code",
      "source": [
        "d2[1]"
      ],
      "metadata": {
        "colab": {
          "base_uri": "https://localhost:8080/"
        },
        "id": "OaLNpD-O_Xgk",
        "outputId": "b1f2177e-bf46-4825-e7f0-439296da3db2"
      },
      "execution_count": 12,
      "outputs": [
        {
          "output_type": "execute_result",
          "data": {
            "text/plain": [
              "{'topic': 'list'}"
            ]
          },
          "metadata": {},
          "execution_count": 12
        }
      ]
    },
    {
      "cell_type": "code",
      "source": [
        "d2[\"one\"] #Keyerror"
      ],
      "metadata": {
        "colab": {
          "base_uri": "https://localhost:8080/",
          "height": 146
        },
        "id": "xbDHO7Uh_Y-G",
        "outputId": "ae657092-c7bf-4698-f8d8-0f778aa8664b"
      },
      "execution_count": 13,
      "outputs": [
        {
          "output_type": "error",
          "ename": "KeyError",
          "evalue": "'one'",
          "traceback": [
            "\u001b[0;31m---------------------------------------------------------------------------\u001b[0m",
            "\u001b[0;31mKeyError\u001b[0m                                  Traceback (most recent call last)",
            "\u001b[0;32m<ipython-input-13-96b1d954fff5>\u001b[0m in \u001b[0;36m<cell line: 1>\u001b[0;34m()\u001b[0m\n\u001b[0;32m----> 1\u001b[0;31m \u001b[0md2\u001b[0m\u001b[0;34m[\u001b[0m\u001b[0;34m\"one\"\u001b[0m\u001b[0;34m]\u001b[0m \u001b[0;31m#Keyerror\u001b[0m\u001b[0;34m\u001b[0m\u001b[0;34m\u001b[0m\u001b[0m\n\u001b[0m",
            "\u001b[0;31mKeyError\u001b[0m: 'one'"
          ]
        }
      ]
    },
    {
      "cell_type": "code",
      "source": [
        "d2[1:2] #slicing will not work as like as list and tuple."
      ],
      "metadata": {
        "colab": {
          "base_uri": "https://localhost:8080/",
          "height": 146
        },
        "id": "ueitMSMz_c5L",
        "outputId": "269d4044-239a-4ced-c9e7-893bc2f6ad71"
      },
      "execution_count": 14,
      "outputs": [
        {
          "output_type": "error",
          "ename": "TypeError",
          "evalue": "unhashable type: 'slice'",
          "traceback": [
            "\u001b[0;31m---------------------------------------------------------------------------\u001b[0m",
            "\u001b[0;31mTypeError\u001b[0m                                 Traceback (most recent call last)",
            "\u001b[0;32m<ipython-input-14-be07fc8a231b>\u001b[0m in \u001b[0;36m<cell line: 1>\u001b[0;34m()\u001b[0m\n\u001b[0;32m----> 1\u001b[0;31m \u001b[0md2\u001b[0m\u001b[0;34m[\u001b[0m\u001b[0;36m1\u001b[0m\u001b[0;34m:\u001b[0m\u001b[0;36m2\u001b[0m\u001b[0;34m]\u001b[0m \u001b[0;31m#sclicing will not work as like as list and tuple.\u001b[0m\u001b[0;34m\u001b[0m\u001b[0;34m\u001b[0m\u001b[0m\n\u001b[0m",
            "\u001b[0;31mTypeError\u001b[0m: unhashable type: 'slice'"
          ]
        }
      ]
    },
    {
      "cell_type": "code",
      "source": [
        "#Dictionary as a Constructor"
      ],
      "metadata": {
        "id": "8seUfkL5_eVJ"
      },
      "execution_count": 15,
      "outputs": []
    },
    {
      "cell_type": "code",
      "source": [
        "s1={\"name\":\"himanshu\",\"roll_no\":\"21\",\"stream\":\"EC\",\"college_name\":\"UCER\"}"
      ],
      "metadata": {
        "id": "rRoESAMt_hs2"
      },
      "execution_count": 16,
      "outputs": []
    },
    {
      "cell_type": "code",
      "source": [
        "print(s1)"
      ],
      "metadata": {
        "colab": {
          "base_uri": "https://localhost:8080/"
        },
        "id": "sXCB9-bU_nl4",
        "outputId": "4af913f1-41b6-473a-f746-3c7f7d4b3a49"
      },
      "execution_count": 17,
      "outputs": [
        {
          "output_type": "stream",
          "name": "stdout",
          "text": [
            "{'name': 'himanshu', 'roll_no': '21', 'stream': 'EC', 'college_name': 'UCER'}\n"
          ]
        }
      ]
    },
    {
      "cell_type": "code",
      "source": [
        "#how to make dictinoary with constructor\n",
        "\n",
        "data1=dict(name=\"sanad singh\",roll_no=10,age=25,college_name=\"UCER\") #anything written in funtion are called as parameters or arguments"
      ],
      "metadata": {
        "id": "iWo_P5nw_p7Q"
      },
      "execution_count": 18,
      "outputs": []
    },
    {
      "cell_type": "code",
      "source": [
        "print(data1)"
      ],
      "metadata": {
        "colab": {
          "base_uri": "https://localhost:8080/"
        },
        "id": "5qq0tgCj_tIH",
        "outputId": "6eccaf72-0171-469f-b654-770ecf262183"
      },
      "execution_count": 19,
      "outputs": [
        {
          "output_type": "stream",
          "name": "stdout",
          "text": [
            "{'name': 'sanad singh', 'roll_no': 10, 'age': 25, 'college_name': 'UCER'}\n"
          ]
        }
      ]
    },
    {
      "cell_type": "code",
      "source": [
        "data1[\"course\"]=\"datascience\"   #adding elements to a dictionary"
      ],
      "metadata": {
        "id": "njwz_pEg_vUE"
      },
      "execution_count": 20,
      "outputs": []
    },
    {
      "cell_type": "code",
      "source": [
        "print (data1)"
      ],
      "metadata": {
        "colab": {
          "base_uri": "https://localhost:8080/"
        },
        "id": "MDnFLwke_zgf",
        "outputId": "6944361a-049c-4cb1-9c99-781e0514ef0c"
      },
      "execution_count": 21,
      "outputs": [
        {
          "output_type": "stream",
          "name": "stdout",
          "text": [
            "{'name': 'sanad singh', 'roll_no': 10, 'age': 25, 'college_name': 'UCER', 'course': 'datascience'}\n"
          ]
        }
      ]
    },
    {
      "cell_type": "code",
      "source": [
        "data2=dict(name=\"raj\",location=\"kanpur\",email=\"raj@gmail.com\")"
      ],
      "metadata": {
        "id": "wBMaEUoY_1HI"
      },
      "execution_count": 22,
      "outputs": []
    },
    {
      "cell_type": "code",
      "source": [
        "print(data2)"
      ],
      "metadata": {
        "colab": {
          "base_uri": "https://localhost:8080/"
        },
        "id": "dRjiIREf_95s",
        "outputId": "7be71bfb-60d8-4ad8-8fe4-58b2f90a4194"
      },
      "execution_count": 23,
      "outputs": [
        {
          "output_type": "stream",
          "name": "stdout",
          "text": [
            "{'name': 'raj', 'location': 'kanpur', 'email': 'raj@gmail.com'}\n"
          ]
        }
      ]
    },
    {
      "cell_type": "code",
      "source": [
        "d1=dict() #empty dictinory"
      ],
      "metadata": {
        "id": "ZVSH1DNs__FX"
      },
      "execution_count": 24,
      "outputs": []
    },
    {
      "cell_type": "code",
      "source": [
        "type(d1)"
      ],
      "metadata": {
        "colab": {
          "base_uri": "https://localhost:8080/"
        },
        "id": "K9uBIlviABHV",
        "outputId": "db2013ef-13c8-4d92-a842-955c3d3f0da8"
      },
      "execution_count": 25,
      "outputs": [
        {
          "output_type": "execute_result",
          "data": {
            "text/plain": [
              "dict"
            ]
          },
          "metadata": {},
          "execution_count": 25
        }
      ]
    },
    {
      "cell_type": "code",
      "source": [
        "d1={}"
      ],
      "metadata": {
        "id": "C7ZQ5zZVAC1d"
      },
      "execution_count": 26,
      "outputs": []
    },
    {
      "cell_type": "code",
      "source": [
        "print(d1)"
      ],
      "metadata": {
        "colab": {
          "base_uri": "https://localhost:8080/"
        },
        "id": "XhA45qfYAEEj",
        "outputId": "52be31e7-2a3b-4551-e0a8-c847b286add1"
      },
      "execution_count": 27,
      "outputs": [
        {
          "output_type": "stream",
          "name": "stdout",
          "text": [
            "{}\n"
          ]
        }
      ]
    },
    {
      "cell_type": "code",
      "source": [
        "d1={\"topic\":\"dictionary\",\"website\":\"www.dataloves.com\"}"
      ],
      "metadata": {
        "id": "ApAEGT4ZAGPb"
      },
      "execution_count": 28,
      "outputs": []
    },
    {
      "cell_type": "code",
      "source": [
        "d1[\"website\"]"
      ],
      "metadata": {
        "colab": {
          "base_uri": "https://localhost:8080/",
          "height": 36
        },
        "id": "R4ef6_DFAMYA",
        "outputId": "fb28a2e9-9dcd-4938-e677-eb4f0e2cd0dc"
      },
      "execution_count": 29,
      "outputs": [
        {
          "output_type": "execute_result",
          "data": {
            "text/plain": [
              "'www.dataloves.com'"
            ],
            "application/vnd.google.colaboratory.intrinsic+json": {
              "type": "string"
            }
          },
          "metadata": {},
          "execution_count": 29
        }
      ]
    },
    {
      "cell_type": "code",
      "source": [
        "data2={\"name\":\"sanad\",\"location\":\"kanpur\",\"email\":\"sanad.kv1994@gmail.com\",\"name\":\"himanshu\"}"
      ],
      "metadata": {
        "id": "j896ZH3VAN42"
      },
      "execution_count": 30,
      "outputs": []
    },
    {
      "cell_type": "code",
      "source": [
        "print(data2)"
      ],
      "metadata": {
        "colab": {
          "base_uri": "https://localhost:8080/"
        },
        "id": "T3zQzM-7AQ15",
        "outputId": "46073c54-0433-4420-fbd4-d11101a3f628"
      },
      "execution_count": 31,
      "outputs": [
        {
          "output_type": "stream",
          "name": "stdout",
          "text": [
            "{'name': 'himanshu', 'location': 'kanpur', 'email': 'sanad.kv1994@gmail.com'}\n"
          ]
        }
      ]
    },
    {
      "cell_type": "code",
      "source": [
        "data2[\"name\"]"
      ],
      "metadata": {
        "colab": {
          "base_uri": "https://localhost:8080/",
          "height": 36
        },
        "id": "tVih4sJlAUTB",
        "outputId": "4319d2a0-df22-4e80-800e-709641ee31ac"
      },
      "execution_count": 32,
      "outputs": [
        {
          "output_type": "execute_result",
          "data": {
            "text/plain": [
              "'himanshu'"
            ],
            "application/vnd.google.colaboratory.intrinsic+json": {
              "type": "string"
            }
          },
          "metadata": {},
          "execution_count": 32
        }
      ]
    },
    {
      "cell_type": "code",
      "source": [
        "d={\"article\": {\"topic\",\"dictionary\"},\"website\":\"www.python.org\"}"
      ],
      "metadata": {
        "id": "lZ6XL-5sAYXU"
      },
      "execution_count": 33,
      "outputs": []
    },
    {
      "cell_type": "code",
      "source": [
        "d[\"website\"]"
      ],
      "metadata": {
        "colab": {
          "base_uri": "https://localhost:8080/",
          "height": 36
        },
        "id": "Kdn2I8VzAZ2f",
        "outputId": "0eca2171-b43a-4cf7-c45c-a0361d2ca54f"
      },
      "execution_count": 34,
      "outputs": [
        {
          "output_type": "execute_result",
          "data": {
            "text/plain": [
              "'www.python.org'"
            ],
            "application/vnd.google.colaboratory.intrinsic+json": {
              "type": "string"
            }
          },
          "metadata": {},
          "execution_count": 34
        }
      ]
    },
    {
      "cell_type": "code",
      "source": [
        "d[\"article\"]"
      ],
      "metadata": {
        "colab": {
          "base_uri": "https://localhost:8080/"
        },
        "id": "_lOd9eFXAbum",
        "outputId": "27257b97-4400-4dc5-d1af-707ba522bb11"
      },
      "execution_count": 35,
      "outputs": [
        {
          "output_type": "execute_result",
          "data": {
            "text/plain": [
              "{'dictionary', 'topic'}"
            ]
          },
          "metadata": {},
          "execution_count": 35
        }
      ]
    },
    {
      "cell_type": "code",
      "source": [
        "del d[\"article\"]"
      ],
      "metadata": {
        "id": "4xqIneV3AdFi"
      },
      "execution_count": 36,
      "outputs": []
    },
    {
      "cell_type": "code",
      "source": [
        "print(d)"
      ],
      "metadata": {
        "colab": {
          "base_uri": "https://localhost:8080/"
        },
        "id": "jPS1M6tbAfe4",
        "outputId": "c933f782-f4c7-488f-d10e-78d9e059d398"
      },
      "execution_count": 37,
      "outputs": [
        {
          "output_type": "stream",
          "name": "stdout",
          "text": [
            "{'website': 'www.python.org'}\n"
          ]
        }
      ]
    },
    {
      "cell_type": "code",
      "source": [
        " del d  #del is the attribute it's not a funtion"
      ],
      "metadata": {
        "id": "AODHfA9eAhbb"
      },
      "execution_count": 38,
      "outputs": []
    },
    {
      "cell_type": "code",
      "source": [
        "print(d) #already deleted"
      ],
      "metadata": {
        "colab": {
          "base_uri": "https://localhost:8080/",
          "height": 146
        },
        "id": "Tn_Gp9ksAjFb",
        "outputId": "f6aacc6d-4879-4172-90da-dfb61bc732ed"
      },
      "execution_count": 39,
      "outputs": [
        {
          "output_type": "error",
          "ename": "NameError",
          "evalue": "name 'd' is not defined",
          "traceback": [
            "\u001b[0;31m---------------------------------------------------------------------------\u001b[0m",
            "\u001b[0;31mNameError\u001b[0m                                 Traceback (most recent call last)",
            "\u001b[0;32m<ipython-input-39-85549cb1de5f>\u001b[0m in \u001b[0;36m<cell line: 1>\u001b[0;34m()\u001b[0m\n\u001b[0;32m----> 1\u001b[0;31m \u001b[0mprint\u001b[0m\u001b[0;34m(\u001b[0m\u001b[0md\u001b[0m\u001b[0;34m)\u001b[0m\u001b[0;34m\u001b[0m\u001b[0;34m\u001b[0m\u001b[0m\n\u001b[0m",
            "\u001b[0;31mNameError\u001b[0m: name 'd' is not defined"
          ]
        }
      ]
    },
    {
      "cell_type": "code",
      "source": [
        "d={\"article\": {\"topic\",\"dictionary\"},\"website\":\"www.python.org\"}\n",
        "len(d)"
      ],
      "metadata": {
        "colab": {
          "base_uri": "https://localhost:8080/"
        },
        "id": "Rnnave5xAk4w",
        "outputId": "e68d0712-8dda-479b-e232-a1a54a988647"
      },
      "execution_count": 40,
      "outputs": [
        {
          "output_type": "execute_result",
          "data": {
            "text/plain": [
              "2"
            ]
          },
          "metadata": {},
          "execution_count": 40
        }
      ]
    },
    {
      "cell_type": "code",
      "source": [
        "str(d)"
      ],
      "metadata": {
        "colab": {
          "base_uri": "https://localhost:8080/",
          "height": 36
        },
        "id": "jFCXgSTKArIj",
        "outputId": "d38eb7a7-0fd7-4366-b25b-05854246d3c4"
      },
      "execution_count": 41,
      "outputs": [
        {
          "output_type": "execute_result",
          "data": {
            "text/plain": [
              "\"{'article': {'topic', 'dictionary'}, 'website': 'www.python.org'}\""
            ],
            "application/vnd.google.colaboratory.intrinsic+json": {
              "type": "string"
            }
          },
          "metadata": {},
          "execution_count": 41
        }
      ]
    },
    {
      "cell_type": "code",
      "source": [
        "d.clear()"
      ],
      "metadata": {
        "id": "5HSiuQ2SAsny"
      },
      "execution_count": 42,
      "outputs": []
    },
    {
      "cell_type": "code",
      "source": [
        "print(d)"
      ],
      "metadata": {
        "colab": {
          "base_uri": "https://localhost:8080/"
        },
        "id": "uCsH72_IAt3e",
        "outputId": "96aea5eb-e3b2-4e6d-e0ad-3172887c3d16"
      },
      "execution_count": 43,
      "outputs": [
        {
          "output_type": "stream",
          "name": "stdout",
          "text": [
            "{}\n"
          ]
        }
      ]
    },
    {
      "cell_type": "code",
      "source": [
        "len(d)"
      ],
      "metadata": {
        "colab": {
          "base_uri": "https://localhost:8080/"
        },
        "id": "IItLsyF8Au59",
        "outputId": "34c0e931-2e1f-4755-ba11-cd6bc610396e"
      },
      "execution_count": 44,
      "outputs": [
        {
          "output_type": "execute_result",
          "data": {
            "text/plain": [
              "0"
            ]
          },
          "metadata": {},
          "execution_count": 44
        }
      ]
    },
    {
      "cell_type": "code",
      "source": [
        "d.pop() #empty pop will not work"
      ],
      "metadata": {
        "colab": {
          "base_uri": "https://localhost:8080/",
          "height": 146
        },
        "id": "Mfi8LVENAwgz",
        "outputId": "02f21c89-7b79-4547-f67a-e368c04eb567"
      },
      "execution_count": 45,
      "outputs": [
        {
          "output_type": "error",
          "ename": "TypeError",
          "evalue": "pop expected at least 1 argument, got 0",
          "traceback": [
            "\u001b[0;31m---------------------------------------------------------------------------\u001b[0m",
            "\u001b[0;31mTypeError\u001b[0m                                 Traceback (most recent call last)",
            "\u001b[0;32m<ipython-input-45-1ef1ebcf63b3>\u001b[0m in \u001b[0;36m<cell line: 1>\u001b[0;34m()\u001b[0m\n\u001b[0;32m----> 1\u001b[0;31m \u001b[0md\u001b[0m\u001b[0;34m.\u001b[0m\u001b[0mpop\u001b[0m\u001b[0;34m(\u001b[0m\u001b[0;34m)\u001b[0m \u001b[0;31m#empty pop will not work\u001b[0m\u001b[0;34m\u001b[0m\u001b[0;34m\u001b[0m\u001b[0m\n\u001b[0m",
            "\u001b[0;31mTypeError\u001b[0m: pop expected at least 1 argument, got 0"
          ]
        }
      ]
    },
    {
      "cell_type": "code",
      "source": [
        "d={\"article\": {\"topic\",\"dictionary\"},\"website\":\"www.python.org\"}"
      ],
      "metadata": {
        "id": "4aAa228IAzAW"
      },
      "execution_count": 46,
      "outputs": []
    },
    {
      "cell_type": "code",
      "source": [
        "d.pop(\"article\") #pop will work with Key"
      ],
      "metadata": {
        "colab": {
          "base_uri": "https://localhost:8080/"
        },
        "id": "q8tEwslHA4K7",
        "outputId": "49790b1a-9970-4b19-b5d4-900e0bff4c0e"
      },
      "execution_count": 47,
      "outputs": [
        {
          "output_type": "execute_result",
          "data": {
            "text/plain": [
              "{'dictionary', 'topic'}"
            ]
          },
          "metadata": {},
          "execution_count": 47
        }
      ]
    },
    {
      "cell_type": "code",
      "source": [
        "print(d)"
      ],
      "metadata": {
        "colab": {
          "base_uri": "https://localhost:8080/"
        },
        "id": "0cvVsbdPA5bk",
        "outputId": "0b53c9a1-c1a0-4acc-91c2-298d0aff69d2"
      },
      "execution_count": 48,
      "outputs": [
        {
          "output_type": "stream",
          "name": "stdout",
          "text": [
            "{'website': 'www.python.org'}\n"
          ]
        }
      ]
    },
    {
      "cell_type": "code",
      "source": [
        "d.popitem() #popitem behave as a pop as in list."
      ],
      "metadata": {
        "colab": {
          "base_uri": "https://localhost:8080/"
        },
        "id": "0JbK8GtCA9J7",
        "outputId": "02e4c78d-a777-4135-ff5a-f16fe227eab5"
      },
      "execution_count": 49,
      "outputs": [
        {
          "output_type": "execute_result",
          "data": {
            "text/plain": [
              "('website', 'www.python.org')"
            ]
          },
          "metadata": {},
          "execution_count": 49
        }
      ]
    },
    {
      "cell_type": "code",
      "source": [
        "print(d)"
      ],
      "metadata": {
        "colab": {
          "base_uri": "https://localhost:8080/"
        },
        "id": "bZLIac0EA-in",
        "outputId": "a7458977-3b66-42c3-b601-713af77accee"
      },
      "execution_count": 50,
      "outputs": [
        {
          "output_type": "stream",
          "name": "stdout",
          "text": [
            "{}\n"
          ]
        }
      ]
    },
    {
      "cell_type": "code",
      "source": [
        "d={\"article\": {\"topic\",\"dictionary\"},\"website\":\"www.python.org\"}"
      ],
      "metadata": {
        "id": "QJIYbNtHBAnt"
      },
      "execution_count": 51,
      "outputs": []
    },
    {
      "cell_type": "code",
      "source": [
        "d2=d.copy()"
      ],
      "metadata": {
        "id": "09kECCy_BCSL"
      },
      "execution_count": 52,
      "outputs": []
    },
    {
      "cell_type": "code",
      "source": [
        "print(d2)"
      ],
      "metadata": {
        "colab": {
          "base_uri": "https://localhost:8080/"
        },
        "id": "B67CB3dDBDye",
        "outputId": "74995b6a-a216-48b9-f68b-de59b2095b16"
      },
      "execution_count": 53,
      "outputs": [
        {
          "output_type": "stream",
          "name": "stdout",
          "text": [
            "{'article': {'topic', 'dictionary'}, 'website': 'www.python.org'}\n"
          ]
        }
      ]
    },
    {
      "cell_type": "code",
      "source": [
        "number=int (input (\"enter no. of elements\"))    #Traversing a dictionary user input to ceate dictionary (keys and value both)\n",
        "d={}\n",
        "for item in range(5):\n",
        "  keys=input(\"enter keys\")\n",
        "  values=input(\"enter values\")\n",
        "  d[keys]= values"
      ],
      "metadata": {
        "colab": {
          "base_uri": "https://localhost:8080/"
        },
        "id": "96fcF4bLBMHj",
        "outputId": "77405744-ee45-4eac-ccd1-3a86257a1e30"
      },
      "execution_count": 55,
      "outputs": [
        {
          "name": "stdout",
          "output_type": "stream",
          "text": [
            "enter no. of elements4\n",
            "enter keys1\n",
            "enter valuesone\n",
            "enter keys2\n",
            "enter valuestwo\n",
            "enter keys3\n",
            "enter valuesthree\n",
            "enter keys4\n",
            "enter valuesfour\n",
            "enter keys5\n",
            "enter valuesfive\n"
          ]
        }
      ]
    },
    {
      "cell_type": "code",
      "source": [
        "print(d)"
      ],
      "metadata": {
        "colab": {
          "base_uri": "https://localhost:8080/"
        },
        "id": "SDNH0_tDBbmP",
        "outputId": "072d48ef-8599-4a8b-c908-f7f4a7a02925"
      },
      "execution_count": 56,
      "outputs": [
        {
          "output_type": "stream",
          "name": "stdout",
          "text": [
            "{'1': 'one', '2': 'two', '3': 'three', '4': 'four', '5': 'five'}\n"
          ]
        }
      ]
    },
    {
      "cell_type": "code",
      "source": [
        "d[6]=\"six\"   #adding single elements"
      ],
      "metadata": {
        "id": "I_4nTCxwBndi"
      },
      "execution_count": 57,
      "outputs": []
    },
    {
      "cell_type": "code",
      "source": [
        "print(d)"
      ],
      "metadata": {
        "colab": {
          "base_uri": "https://localhost:8080/"
        },
        "id": "IlCILWwnBqNj",
        "outputId": "a50391f7-acf7-4246-e854-1637c5d291fb"
      },
      "execution_count": 58,
      "outputs": [
        {
          "output_type": "stream",
          "name": "stdout",
          "text": [
            "{'1': 'one', '2': 'two', '3': 'three', '4': 'four', '5': 'five', 6: 'six'}\n"
          ]
        }
      ]
    },
    {
      "cell_type": "code",
      "source": [
        "d.__setitem__(\"seven\", 7)\n",
        "print(d)"
      ],
      "metadata": {
        "colab": {
          "base_uri": "https://localhost:8080/"
        },
        "id": "5G1pLbHyBrxG",
        "outputId": "29907739-da09-4000-9454-a5d7903a85ba"
      },
      "execution_count": 60,
      "outputs": [
        {
          "output_type": "stream",
          "name": "stdout",
          "text": [
            "{'1': 'one', '2': 'two', '3': 'three', '4': 'four', '5': 'five', 6: 'six', 'seven': 7}\n"
          ]
        }
      ]
    },
    {
      "cell_type": "code",
      "source": [
        "del d[\"seven\"]"
      ],
      "metadata": {
        "id": "UMDhob1LBth0"
      },
      "execution_count": 61,
      "outputs": []
    },
    {
      "cell_type": "code",
      "source": [
        "print(d)"
      ],
      "metadata": {
        "colab": {
          "base_uri": "https://localhost:8080/"
        },
        "id": "kPCH_pN2Bzuy",
        "outputId": "abcf9538-81e6-4676-98aa-f18e5ea2f7b5"
      },
      "execution_count": 62,
      "outputs": [
        {
          "output_type": "stream",
          "name": "stdout",
          "text": [
            "{'1': 'one', '2': 'two', '3': 'three', '4': 'four', '5': 'five', 6: 'six'}\n"
          ]
        }
      ]
    },
    {
      "cell_type": "code",
      "source": [
        "d.pop(6) # need to give keys"
      ],
      "metadata": {
        "colab": {
          "base_uri": "https://localhost:8080/",
          "height": 36
        },
        "id": "L8N0iMEIB0gR",
        "outputId": "56601687-ccf0-4984-97d1-fcf4916cca1b"
      },
      "execution_count": 63,
      "outputs": [
        {
          "output_type": "execute_result",
          "data": {
            "text/plain": [
              "'six'"
            ],
            "application/vnd.google.colaboratory.intrinsic+json": {
              "type": "string"
            }
          },
          "metadata": {},
          "execution_count": 63
        }
      ]
    },
    {
      "cell_type": "code",
      "source": [
        "d.popitem() #same as list"
      ],
      "metadata": {
        "colab": {
          "base_uri": "https://localhost:8080/"
        },
        "id": "VRFA4oB-B2K0",
        "outputId": "78daee40-b132-4fa3-cf87-74b508d7783f"
      },
      "execution_count": 64,
      "outputs": [
        {
          "output_type": "execute_result",
          "data": {
            "text/plain": [
              "('5', 'five')"
            ]
          },
          "metadata": {},
          "execution_count": 64
        }
      ]
    },
    {
      "cell_type": "code",
      "source": [
        "d1={\"food\":\"paneer\",\"quantity\":2,\"flavor\":\"khadai paneer\"}\n",
        "print(d1)"
      ],
      "metadata": {
        "colab": {
          "base_uri": "https://localhost:8080/"
        },
        "id": "vx8GzegdB3XF",
        "outputId": "b18ce0f3-2f03-4a48-eef0-1589b4f93c47"
      },
      "execution_count": 66,
      "outputs": [
        {
          "output_type": "stream",
          "name": "stdout",
          "text": [
            "{'food': 'paneer', 'quantity': 2, 'flavor': 'khadai paneer'}\n"
          ]
        }
      ]
    },
    {
      "cell_type": "code",
      "source": [
        "d1[\"quantity\"]+=3 #update quantity by 3"
      ],
      "metadata": {
        "id": "lg3v5TIeB8Om"
      },
      "execution_count": 67,
      "outputs": []
    },
    {
      "cell_type": "code",
      "source": [
        "print(d1)"
      ],
      "metadata": {
        "colab": {
          "base_uri": "https://localhost:8080/"
        },
        "id": "ViV93qPNCCLP",
        "outputId": "1b7919d4-9bb7-402b-c484-427ae1deaa4a"
      },
      "execution_count": 68,
      "outputs": [
        {
          "output_type": "stream",
          "name": "stdout",
          "text": [
            "{'food': 'paneer', 'quantity': 5, 'flavor': 'khadai paneer'}\n"
          ]
        }
      ]
    },
    {
      "cell_type": "code",
      "source": [
        "d2={}\n",
        "d2[\"name\"]=\"sanad\"\n",
        "d2[\"job\"]=\"data science traniee\"\n",
        "d2[\"age\"]=28"
      ],
      "metadata": {
        "id": "M7lMuOHICEzt"
      },
      "execution_count": 69,
      "outputs": []
    },
    {
      "cell_type": "code",
      "source": [
        "print(d2)"
      ],
      "metadata": {
        "colab": {
          "base_uri": "https://localhost:8080/"
        },
        "id": "Saa3D3p0CP_F",
        "outputId": "c3c80977-5828-46b2-e4ad-61321d33a886"
      },
      "execution_count": 70,
      "outputs": [
        {
          "output_type": "stream",
          "name": "stdout",
          "text": [
            "{'name': 'sanad', 'job': 'data science traniee', 'age': 28}\n"
          ]
        }
      ]
    },
    {
      "cell_type": "code",
      "source": [
        "l=[\"name\",\"college\",\"roll_no\",\"course\"]    #list to dictionary\n",
        "l1=[\"sanad\",\"UCER\",27,\"B.Tech\"]\n",
        "d3=zip(l,l1)"
      ],
      "metadata": {
        "id": "jhhxpvxYCSsN"
      },
      "execution_count": 71,
      "outputs": []
    },
    {
      "cell_type": "code",
      "source": [
        "print(d3)"
      ],
      "metadata": {
        "colab": {
          "base_uri": "https://localhost:8080/"
        },
        "id": "4caNo6PACXTO",
        "outputId": "f9238221-03e8-4f78-cd30-9f6ceff9399c"
      },
      "execution_count": 72,
      "outputs": [
        {
          "output_type": "stream",
          "name": "stdout",
          "text": [
            "<zip object at 0x7a22b16e1b40>\n"
          ]
        }
      ]
    },
    {
      "cell_type": "code",
      "source": [
        "l=[\"name\",\"college\",\"roll_no\",\"course\"]\n",
        "l1=[\"sanad\",\"UCER\",27,\"B.Tech\"]\n",
        "d3=dict(zip(l,l1))"
      ],
      "metadata": {
        "id": "E3esNMOdCZCW"
      },
      "execution_count": 73,
      "outputs": []
    },
    {
      "cell_type": "code",
      "source": [
        "print(d3)"
      ],
      "metadata": {
        "colab": {
          "base_uri": "https://localhost:8080/"
        },
        "id": "T7bTC3zMCboI",
        "outputId": "6b96209b-597f-448e-dcb6-a8e807e9f473"
      },
      "execution_count": 74,
      "outputs": [
        {
          "output_type": "stream",
          "name": "stdout",
          "text": [
            "{'name': 'sanad', 'college': 'UCER', 'roll_no': 27, 'course': 'B.Tech'}\n"
          ]
        }
      ]
    },
    {
      "cell_type": "code",
      "source": [
        "record={\"name\":{\"fname\":\"sanad\",\"lname\":\"singh\"},\"jobs\":[\"data scientist\",\"devops\",\"manager\"],\"age\":30.5}\n",
        "print(record)"
      ],
      "metadata": {
        "colab": {
          "base_uri": "https://localhost:8080/"
        },
        "id": "4e8dVsJECei8",
        "outputId": "c0fa9ce4-3291-4995-8db2-6ccdfa160946"
      },
      "execution_count": 75,
      "outputs": [
        {
          "output_type": "stream",
          "name": "stdout",
          "text": [
            "{'name': {'fname': 'sanad', 'lname': 'singh'}, 'jobs': ['data scientist', 'devops', 'manager'], 'age': 30.5}\n"
          ]
        }
      ]
    },
    {
      "cell_type": "code",
      "source": [
        "record[\"name\"][\"lname\"] #indexing and subinddexing"
      ],
      "metadata": {
        "colab": {
          "base_uri": "https://localhost:8080/",
          "height": 36
        },
        "id": "rDM3VyqiCjSZ",
        "outputId": "dc579983-5dfe-426a-b7ed-c9f57c79d6b5"
      },
      "execution_count": 76,
      "outputs": [
        {
          "output_type": "execute_result",
          "data": {
            "text/plain": [
              "'singh'"
            ],
            "application/vnd.google.colaboratory.intrinsic+json": {
              "type": "string"
            }
          },
          "metadata": {},
          "execution_count": 76
        }
      ]
    },
    {
      "cell_type": "code",
      "source": [
        "record[\"jobs\"][2]"
      ],
      "metadata": {
        "colab": {
          "base_uri": "https://localhost:8080/",
          "height": 36
        },
        "id": "ovwvAnzmCsTv",
        "outputId": "cedfc236-7a66-4d14-bc1c-1a9e93828a51"
      },
      "execution_count": 77,
      "outputs": [
        {
          "output_type": "execute_result",
          "data": {
            "text/plain": [
              "'manager'"
            ],
            "application/vnd.google.colaboratory.intrinsic+json": {
              "type": "string"
            }
          },
          "metadata": {},
          "execution_count": 77
        }
      ]
    },
    {
      "cell_type": "code",
      "source": [
        "record={\"name\":{\"fname\":\"sanad\",\"lname\":\"singh\"},\"jobs\":[\"data scientist\",\"devops\",\"manager\"],\"age\":30.5}"
      ],
      "metadata": {
        "id": "fEAlglpuCy0R"
      },
      "execution_count": 78,
      "outputs": []
    },
    {
      "cell_type": "code",
      "source": [
        "record[\"jobs\"]"
      ],
      "metadata": {
        "colab": {
          "base_uri": "https://localhost:8080/"
        },
        "id": "7czWC-tYC5HR",
        "outputId": "7dea77ad-bfeb-4f57-dd37-35d22594e47d"
      },
      "execution_count": 79,
      "outputs": [
        {
          "output_type": "execute_result",
          "data": {
            "text/plain": [
              "['data scientist', 'devops', 'manager']"
            ]
          },
          "metadata": {},
          "execution_count": 79
        }
      ]
    },
    {
      "cell_type": "code",
      "source": [
        "record.append(jobs(\"VP\"))"
      ],
      "metadata": {
        "colab": {
          "base_uri": "https://localhost:8080/",
          "height": 146
        },
        "id": "q9oZepVpC6yk",
        "outputId": "a11e5360-71be-43b7-fa93-33b55aa9fca4"
      },
      "execution_count": 80,
      "outputs": [
        {
          "output_type": "error",
          "ename": "AttributeError",
          "evalue": "'dict' object has no attribute 'append'",
          "traceback": [
            "\u001b[0;31m---------------------------------------------------------------------------\u001b[0m",
            "\u001b[0;31mAttributeError\u001b[0m                            Traceback (most recent call last)",
            "\u001b[0;32m<ipython-input-80-fb4541bfaada>\u001b[0m in \u001b[0;36m<cell line: 1>\u001b[0;34m()\u001b[0m\n\u001b[0;32m----> 1\u001b[0;31m \u001b[0mrecord\u001b[0m\u001b[0;34m.\u001b[0m\u001b[0mappend\u001b[0m\u001b[0;34m(\u001b[0m\u001b[0mjobs\u001b[0m\u001b[0;34m(\u001b[0m\u001b[0;34m\"VP\"\u001b[0m\u001b[0;34m)\u001b[0m\u001b[0;34m)\u001b[0m\u001b[0;34m\u001b[0m\u001b[0;34m\u001b[0m\u001b[0m\n\u001b[0m",
            "\u001b[0;31mAttributeError\u001b[0m: 'dict' object has no attribute 'append'"
          ]
        }
      ]
    },
    {
      "cell_type": "code",
      "source": [
        "record[\"jobs\"].append(\"VP\")  #adding VP in list"
      ],
      "metadata": {
        "id": "VEjKFPM9DASs"
      },
      "execution_count": 81,
      "outputs": []
    },
    {
      "cell_type": "code",
      "source": [
        "print(record)"
      ],
      "metadata": {
        "colab": {
          "base_uri": "https://localhost:8080/"
        },
        "id": "EcG5jSVIDCJO",
        "outputId": "1db646cf-71d4-4d7a-eefa-59d4b04698c2"
      },
      "execution_count": 82,
      "outputs": [
        {
          "output_type": "stream",
          "name": "stdout",
          "text": [
            "{'name': {'fname': 'sanad', 'lname': 'singh'}, 'jobs': ['data scientist', 'devops', 'manager', 'VP'], 'age': 30.5}\n"
          ]
        }
      ]
    },
    {
      "cell_type": "code",
      "source": [
        "d2={\"a\":1,\"b\":2,\"c\":3}"
      ],
      "metadata": {
        "id": "So32muhPDD5U"
      },
      "execution_count": 83,
      "outputs": []
    },
    {
      "cell_type": "code",
      "source": [
        "print(d2)"
      ],
      "metadata": {
        "colab": {
          "base_uri": "https://localhost:8080/"
        },
        "id": "xBcT6g7PDGSW",
        "outputId": "88394224-9e94-4c3c-c3be-64b69cd66080"
      },
      "execution_count": 84,
      "outputs": [
        {
          "output_type": "stream",
          "name": "stdout",
          "text": [
            "{'a': 1, 'b': 2, 'c': 3}\n"
          ]
        }
      ]
    },
    {
      "cell_type": "code",
      "source": [
        "d2[\"e\"]=99"
      ],
      "metadata": {
        "id": "yGed45BiDHjx"
      },
      "execution_count": 85,
      "outputs": []
    },
    {
      "cell_type": "code",
      "source": [
        "print(d2)"
      ],
      "metadata": {
        "colab": {
          "base_uri": "https://localhost:8080/"
        },
        "id": "zbN_FgJwDNVH",
        "outputId": "2129f53d-a8b2-4ea8-8af1-3cb2b986e436"
      },
      "execution_count": 86,
      "outputs": [
        {
          "output_type": "stream",
          "name": "stdout",
          "text": [
            "{'a': 1, 'b': 2, 'c': 3, 'e': 99}\n"
          ]
        }
      ]
    },
    {
      "cell_type": "code",
      "source": [
        "d2[\"f\"]"
      ],
      "metadata": {
        "colab": {
          "base_uri": "https://localhost:8080/",
          "height": 146
        },
        "id": "xEwl8BOZDOiu",
        "outputId": "b9b1350c-f556-4f3f-be3d-11bb459938b4"
      },
      "execution_count": 87,
      "outputs": [
        {
          "output_type": "error",
          "ename": "KeyError",
          "evalue": "'f'",
          "traceback": [
            "\u001b[0;31m---------------------------------------------------------------------------\u001b[0m",
            "\u001b[0;31mKeyError\u001b[0m                                  Traceback (most recent call last)",
            "\u001b[0;32m<ipython-input-87-e1d8b653122f>\u001b[0m in \u001b[0;36m<cell line: 1>\u001b[0;34m()\u001b[0m\n\u001b[0;32m----> 1\u001b[0;31m \u001b[0md2\u001b[0m\u001b[0;34m[\u001b[0m\u001b[0;34m\"f\"\u001b[0m\u001b[0;34m]\u001b[0m\u001b[0;34m\u001b[0m\u001b[0;34m\u001b[0m\u001b[0m\n\u001b[0m",
            "\u001b[0;31mKeyError\u001b[0m: 'f'"
          ]
        }
      ]
    },
    {
      "cell_type": "code",
      "source": [
        "number=int (input (\"enter no. of elements\"))    #Traversing a dictionary user input to ceate dictionary (keys and value both)\n",
        "p={}\n",
        "for item in range(5):\n",
        "  keys=input(\"enter keys\")\n",
        "  values=input(\"enter values\")\n",
        "  p[keys]= values"
      ],
      "metadata": {
        "colab": {
          "base_uri": "https://localhost:8080/"
        },
        "id": "auaTU9n4DQBn",
        "outputId": "2b96d50e-92e2-4405-fce8-dd9d658f91b2"
      },
      "execution_count": 88,
      "outputs": [
        {
          "name": "stdout",
          "output_type": "stream",
          "text": [
            "enter no. of elements5\n",
            "enter keys1\n",
            "enter values2\n",
            "enter keys3\n",
            "enter values4\n",
            "enter keys5\n",
            "enter values6\n",
            "enter keys7\n",
            "enter values8\n",
            "enter keys9\n",
            "enter values10\n"
          ]
        }
      ]
    },
    {
      "cell_type": "code",
      "source": [
        "print(p)"
      ],
      "metadata": {
        "colab": {
          "base_uri": "https://localhost:8080/"
        },
        "id": "ru8_Si1iDU5i",
        "outputId": "69591316-a572-43a2-e372-1e5a8cf82ce0"
      },
      "execution_count": 89,
      "outputs": [
        {
          "output_type": "stream",
          "name": "stdout",
          "text": [
            "{'1': '2', '3': '4', '5': '6', '7': '8', '9': '10'}\n"
          ]
        }
      ]
    },
    {
      "cell_type": "code",
      "source": [
        "l=[\"a\",\"b\",\"c\",\"d\",\"e\"]\n",
        "d={}\n",
        "d.fromkeys(l)"
      ],
      "metadata": {
        "colab": {
          "base_uri": "https://localhost:8080/"
        },
        "id": "JMV4JRBSDcRe",
        "outputId": "d135be3a-605a-4aaa-ea8b-cf7bebcee5c2"
      },
      "execution_count": 90,
      "outputs": [
        {
          "output_type": "execute_result",
          "data": {
            "text/plain": [
              "{'a': None, 'b': None, 'c': None, 'd': None, 'e': None}"
            ]
          },
          "metadata": {},
          "execution_count": 90
        }
      ]
    },
    {
      "cell_type": "code",
      "source": [
        "d.fromkeys(l,\"NA\")"
      ],
      "metadata": {
        "colab": {
          "base_uri": "https://localhost:8080/"
        },
        "id": "6U0ln6XIDd7l",
        "outputId": "d2beaaa9-96b4-4e14-9bf8-254c9de279c1"
      },
      "execution_count": 91,
      "outputs": [
        {
          "output_type": "execute_result",
          "data": {
            "text/plain": [
              "{'a': 'NA', 'b': 'NA', 'c': 'NA', 'd': 'NA', 'e': 'NA'}"
            ]
          },
          "metadata": {},
          "execution_count": 91
        }
      ]
    },
    {
      "cell_type": "code",
      "source": [
        "dic={\"a\":1,\"b\":2,\"c\":2}"
      ],
      "metadata": {
        "id": "hnYInOaDDko9"
      },
      "execution_count": 92,
      "outputs": []
    },
    {
      "cell_type": "code",
      "source": [
        "print(dic)"
      ],
      "metadata": {
        "colab": {
          "base_uri": "https://localhost:8080/"
        },
        "id": "HGpyIwSSDmfp",
        "outputId": "5ca95318-6674-4ab5-b5b2-49efba84d31d"
      },
      "execution_count": 93,
      "outputs": [
        {
          "output_type": "stream",
          "name": "stdout",
          "text": [
            "{'a': 1, 'b': 2, 'c': 2}\n"
          ]
        }
      ]
    },
    {
      "cell_type": "code",
      "source": [
        "dic[\"e\"]=99"
      ],
      "metadata": {
        "id": "D_ik4kMnDrKY"
      },
      "execution_count": 95,
      "outputs": []
    },
    {
      "cell_type": "code",
      "source": [
        "print(dic)"
      ],
      "metadata": {
        "colab": {
          "base_uri": "https://localhost:8080/"
        },
        "id": "q5SIPpa3Dt8E",
        "outputId": "61595447-03ed-48f6-8beb-a86491139f66"
      },
      "execution_count": 96,
      "outputs": [
        {
          "output_type": "stream",
          "name": "stdout",
          "text": [
            "{'a': 1, 'b': 2, 'c': 2, 'e': 99}\n"
          ]
        }
      ]
    },
    {
      "cell_type": "code",
      "source": [
        "\"f\" in dic #membership"
      ],
      "metadata": {
        "colab": {
          "base_uri": "https://localhost:8080/"
        },
        "id": "OqC_-LagDz3D",
        "outputId": "84f20703-208d-4f49-b38f-3ddc5cdc3e65"
      },
      "execution_count": 97,
      "outputs": [
        {
          "output_type": "execute_result",
          "data": {
            "text/plain": [
              "False"
            ]
          },
          "metadata": {},
          "execution_count": 97
        }
      ]
    },
    {
      "cell_type": "code",
      "source": [
        "if(not \"f\" in dic):\n",
        "  print(\"missing data\")"
      ],
      "metadata": {
        "colab": {
          "base_uri": "https://localhost:8080/"
        },
        "id": "xNAYa0mOD2uf",
        "outputId": "db9a1bf4-a600-416d-ef0e-3c40744b05bb"
      },
      "execution_count": 98,
      "outputs": [
        {
          "output_type": "stream",
          "name": "stdout",
          "text": [
            "missing data\n"
          ]
        }
      ]
    },
    {
      "cell_type": "code",
      "source": [
        "if(not \"f\" in dic):\n",
        "  print(\"missing data\")\n",
        "  print(\"really\")"
      ],
      "metadata": {
        "colab": {
          "base_uri": "https://localhost:8080/"
        },
        "id": "cEO3fPOED4MK",
        "outputId": "6a38cbe6-1b5d-4aff-e75a-6dc0c83c48c3"
      },
      "execution_count": 99,
      "outputs": [
        {
          "output_type": "stream",
          "name": "stdout",
          "text": [
            "missing data\n",
            "really\n"
          ]
        }
      ]
    },
    {
      "cell_type": "code",
      "source": [
        "#Get Function"
      ],
      "metadata": {
        "id": "SpTJITJ2D58a"
      },
      "execution_count": 100,
      "outputs": []
    },
    {
      "cell_type": "code",
      "source": [
        "d={'a': 1, 'b': 2, 'c': 3, 'e': 99}"
      ],
      "metadata": {
        "id": "aB89HhFLD7VY"
      },
      "execution_count": 101,
      "outputs": []
    },
    {
      "cell_type": "code",
      "source": [
        "d.get(\"e\")"
      ],
      "metadata": {
        "colab": {
          "base_uri": "https://localhost:8080/"
        },
        "id": "xfVCRSacD8UM",
        "outputId": "360fd431-b498-4caf-bef8-7b8f1cbcbab4"
      },
      "execution_count": 102,
      "outputs": [
        {
          "output_type": "execute_result",
          "data": {
            "text/plain": [
              "99"
            ]
          },
          "metadata": {},
          "execution_count": 102
        }
      ]
    },
    {
      "cell_type": "code",
      "source": [
        "if(\"f\" in dic):\n",
        "  print(\"missing data\")"
      ],
      "metadata": {
        "id": "CEbVEG1lEHJy"
      },
      "execution_count": 103,
      "outputs": []
    },
    {
      "cell_type": "code",
      "source": [
        "if(\"f\" in dic):\n",
        "  print(\"missing data\")\n",
        "else:\n",
        "  print (0)"
      ],
      "metadata": {
        "colab": {
          "base_uri": "https://localhost:8080/"
        },
        "id": "xkfM9ysZEJEw",
        "outputId": "79a87bfd-ec51-46d5-a10e-097167903fff"
      },
      "execution_count": 104,
      "outputs": [
        {
          "output_type": "stream",
          "name": "stdout",
          "text": [
            "0\n"
          ]
        }
      ]
    },
    {
      "cell_type": "code",
      "source": [
        "print(d.get(\"f\"))"
      ],
      "metadata": {
        "colab": {
          "base_uri": "https://localhost:8080/"
        },
        "id": "tlTiBqNcELJA",
        "outputId": "215846ce-4b5f-47ed-9915-6acaf8615a51"
      },
      "execution_count": 105,
      "outputs": [
        {
          "output_type": "stream",
          "name": "stdout",
          "text": [
            "None\n"
          ]
        }
      ]
    },
    {
      "cell_type": "code",
      "source": [
        "d.get(\"f\",0) #works as if else"
      ],
      "metadata": {
        "colab": {
          "base_uri": "https://localhost:8080/"
        },
        "id": "cobSLqPDEMrV",
        "outputId": "cf867085-ba29-4710-933d-ed663173a8a3"
      },
      "execution_count": 106,
      "outputs": [
        {
          "output_type": "execute_result",
          "data": {
            "text/plain": [
              "0"
            ]
          },
          "metadata": {},
          "execution_count": 106
        }
      ]
    },
    {
      "cell_type": "code",
      "source": [
        "#items fuction\n",
        "\n",
        "d.items()"
      ],
      "metadata": {
        "colab": {
          "base_uri": "https://localhost:8080/"
        },
        "id": "pov8xHLUEN5F",
        "outputId": "5d6ae24b-0955-4055-df08-eaa3dd2f6327"
      },
      "execution_count": 107,
      "outputs": [
        {
          "output_type": "execute_result",
          "data": {
            "text/plain": [
              "dict_items([('a', 1), ('b', 2), ('c', 3), ('e', 99)])"
            ]
          },
          "metadata": {},
          "execution_count": 107
        }
      ]
    },
    {
      "cell_type": "code",
      "source": [
        "d.keys()"
      ],
      "metadata": {
        "colab": {
          "base_uri": "https://localhost:8080/"
        },
        "id": "-AfFnODOEQTI",
        "outputId": "9d23fe10-821c-4302-f00c-0654becf8f4a"
      },
      "execution_count": 108,
      "outputs": [
        {
          "output_type": "execute_result",
          "data": {
            "text/plain": [
              "dict_keys(['a', 'b', 'c', 'e'])"
            ]
          },
          "metadata": {},
          "execution_count": 108
        }
      ]
    },
    {
      "cell_type": "code",
      "source": [
        "k=tuple(d.keys())\n",
        "print(k)"
      ],
      "metadata": {
        "colab": {
          "base_uri": "https://localhost:8080/"
        },
        "id": "Iw9hn3IKERVs",
        "outputId": "c82a6242-a8f2-402a-cc13-4b2288562127"
      },
      "execution_count": 109,
      "outputs": [
        {
          "output_type": "stream",
          "name": "stdout",
          "text": [
            "('a', 'b', 'c', 'e')\n"
          ]
        }
      ]
    },
    {
      "cell_type": "code",
      "source": [
        " k1=list(d.keys())\n",
        " print(k1)"
      ],
      "metadata": {
        "colab": {
          "base_uri": "https://localhost:8080/"
        },
        "id": "QM4sQnSxEXe2",
        "outputId": "a6cca342-0e40-4ccd-92e2-cc23a5ca2bbf"
      },
      "execution_count": 111,
      "outputs": [
        {
          "output_type": "stream",
          "name": "stdout",
          "text": [
            "['a', 'b', 'c', 'e']\n"
          ]
        }
      ]
    },
    {
      "cell_type": "code",
      "source": [
        "d3={\"a\":1,\"b\":2,\"c\":3,\"d\":4,\"e\":5}"
      ],
      "metadata": {
        "id": "edoICxbrEY41"
      },
      "execution_count": 114,
      "outputs": []
    },
    {
      "cell_type": "code",
      "source": [
        "for items in d3:\n",
        "  d3[keys]=\"values\"\n",
        "  print(d3)"
      ],
      "metadata": {
        "colab": {
          "base_uri": "https://localhost:8080/"
        },
        "id": "qJ8-fROTEdvs",
        "outputId": "9c2ced8d-2aa3-4593-a796-49b7cf769375"
      },
      "execution_count": 116,
      "outputs": [
        {
          "output_type": "stream",
          "name": "stdout",
          "text": [
            "{'a': 1, 'b': 2, 'c': 3, 'd': 4, 'e': 5, '9': 'values'}\n",
            "{'a': 1, 'b': 2, 'c': 3, 'd': 4, 'e': 5, '9': 'values'}\n",
            "{'a': 1, 'b': 2, 'c': 3, 'd': 4, 'e': 5, '9': 'values'}\n",
            "{'a': 1, 'b': 2, 'c': 3, 'd': 4, 'e': 5, '9': 'values'}\n",
            "{'a': 1, 'b': 2, 'c': 3, 'd': 4, 'e': 5, '9': 'values'}\n",
            "{'a': 1, 'b': 2, 'c': 3, 'd': 4, 'e': 5, '9': 'values'}\n"
          ]
        }
      ]
    },
    {
      "cell_type": "code",
      "source": [
        "for item in d3:\n",
        "  print(d3)"
      ],
      "metadata": {
        "colab": {
          "base_uri": "https://localhost:8080/"
        },
        "id": "KpplLdzTElTT",
        "outputId": "59274bc9-aebf-472f-c57a-fd86cdc63aee"
      },
      "execution_count": 117,
      "outputs": [
        {
          "output_type": "stream",
          "name": "stdout",
          "text": [
            "{'a': 1, 'b': 2, 'c': 3, 'd': 4, 'e': 5, '9': 'values'}\n",
            "{'a': 1, 'b': 2, 'c': 3, 'd': 4, 'e': 5, '9': 'values'}\n",
            "{'a': 1, 'b': 2, 'c': 3, 'd': 4, 'e': 5, '9': 'values'}\n",
            "{'a': 1, 'b': 2, 'c': 3, 'd': 4, 'e': 5, '9': 'values'}\n",
            "{'a': 1, 'b': 2, 'c': 3, 'd': 4, 'e': 5, '9': 'values'}\n",
            "{'a': 1, 'b': 2, 'c': 3, 'd': 4, 'e': 5, '9': 'values'}\n"
          ]
        }
      ]
    },
    {
      "cell_type": "code",
      "source": [
        "d4={\"a\":1,\"b\":2,\"c\":3,\"d\":4,\"e\":5}"
      ],
      "metadata": {
        "id": "-n-EHosPEs6h"
      },
      "execution_count": 118,
      "outputs": []
    },
    {
      "cell_type": "code",
      "source": [
        "for item in d4:\n",
        "  print(item)"
      ],
      "metadata": {
        "colab": {
          "base_uri": "https://localhost:8080/"
        },
        "id": "rFhqDCPNEvE6",
        "outputId": "100ef9a2-0187-4d46-c430-8c3c6126ddbe"
      },
      "execution_count": 119,
      "outputs": [
        {
          "output_type": "stream",
          "name": "stdout",
          "text": [
            "a\n",
            "b\n",
            "c\n",
            "d\n",
            "e\n"
          ]
        }
      ]
    },
    {
      "cell_type": "code",
      "source": [
        "for keys in d4:     # looping structures in dictinories\n",
        "  print(keys, \"=\",d4[keys])"
      ],
      "metadata": {
        "colab": {
          "base_uri": "https://localhost:8080/"
        },
        "id": "bA_CiiV5EwVY",
        "outputId": "b74cd99d-29b0-4c46-d495-754c96c3022c"
      },
      "execution_count": 120,
      "outputs": [
        {
          "output_type": "stream",
          "name": "stdout",
          "text": [
            "a = 1\n",
            "b = 2\n",
            "c = 3\n",
            "d = 4\n",
            "e = 5\n"
          ]
        }
      ]
    },
    {
      "cell_type": "code",
      "source": [
        "for keys in d4:     # looping structures in dictinories\n",
        "  print(d4[keys]) #when we need only values"
      ],
      "metadata": {
        "colab": {
          "base_uri": "https://localhost:8080/"
        },
        "id": "YUQ46rMKEx_5",
        "outputId": "25674137-8726-45e0-aaf3-80cf7b8b722b"
      },
      "execution_count": 121,
      "outputs": [
        {
          "output_type": "stream",
          "name": "stdout",
          "text": [
            "1\n",
            "2\n",
            "3\n",
            "4\n",
            "5\n"
          ]
        }
      ]
    },
    {
      "cell_type": "code",
      "source": [
        "#Update Functions\n",
        "\n",
        "d2={\"g\":1,\"h\":2,\"i\":3}\n",
        "\n",
        "d4.update(d2) #old dic.update(new dictionary)\n",
        "\n",
        "print(d4)"
      ],
      "metadata": {
        "colab": {
          "base_uri": "https://localhost:8080/"
        },
        "id": "gcsuArGFE6JR",
        "outputId": "2091e802-bd13-4c81-96ca-a83e37d46427"
      },
      "execution_count": 122,
      "outputs": [
        {
          "output_type": "stream",
          "name": "stdout",
          "text": [
            "{'a': 1, 'b': 2, 'c': 3, 'd': 4, 'e': 5, 'g': 1, 'h': 2, 'i': 3}\n"
          ]
        }
      ]
    },
    {
      "cell_type": "code",
      "source": [
        "Table={\"titanic\":2001,\"harry potter\":2002,\"intersteller\":2017}"
      ],
      "metadata": {
        "id": "IdQHuUbQFDXm"
      },
      "execution_count": 123,
      "outputs": []
    },
    {
      "cell_type": "code",
      "source": [
        "Table[\"titanic\"]"
      ],
      "metadata": {
        "colab": {
          "base_uri": "https://localhost:8080/"
        },
        "id": "7OKSi-2CFG6t",
        "outputId": "db42185f-addb-4fe6-a199-dc0bba99f46e"
      },
      "execution_count": 124,
      "outputs": [
        {
          "output_type": "execute_result",
          "data": {
            "text/plain": [
              "2001"
            ]
          },
          "metadata": {},
          "execution_count": 124
        }
      ]
    },
    {
      "cell_type": "code",
      "source": [
        "t=list(Table.items())"
      ],
      "metadata": {
        "id": "YpOw3ED4FIPd"
      },
      "execution_count": 125,
      "outputs": []
    },
    {
      "cell_type": "code",
      "source": [
        "print(t)"
      ],
      "metadata": {
        "colab": {
          "base_uri": "https://localhost:8080/"
        },
        "id": "cOmBg8koFJvX",
        "outputId": "38c0ea9f-9dbd-4114-c2e0-842857d0f11f"
      },
      "execution_count": 126,
      "outputs": [
        {
          "output_type": "stream",
          "name": "stdout",
          "text": [
            "[('titanic', 2001), ('harry potter', 2002), ('intersteller', 2017)]\n"
          ]
        }
      ]
    },
    {
      "cell_type": "code",
      "source": [
        "t[0][0]"
      ],
      "metadata": {
        "colab": {
          "base_uri": "https://localhost:8080/",
          "height": 36
        },
        "id": "PRp_-cGHFMDh",
        "outputId": "b766d5ca-2a14-4912-d921-01760a8e0bd5"
      },
      "execution_count": 127,
      "outputs": [
        {
          "output_type": "execute_result",
          "data": {
            "text/plain": [
              "'titanic'"
            ],
            "application/vnd.google.colaboratory.intrinsic+json": {
              "type": "string"
            }
          },
          "metadata": {},
          "execution_count": 127
        }
      ]
    },
    {
      "cell_type": "code",
      "source": [
        "t=list(Table.items())"
      ],
      "metadata": {
        "id": "SkX0t2UfFOBR"
      },
      "execution_count": 128,
      "outputs": []
    },
    {
      "cell_type": "code",
      "source": [
        "[item1 for item1,item2 in t if (item2)==2001]"
      ],
      "metadata": {
        "colab": {
          "base_uri": "https://localhost:8080/"
        },
        "id": "hK1i33xMFPX-",
        "outputId": "ec85378b-c77c-4fcc-ccfe-96f6083b41bf"
      },
      "execution_count": 129,
      "outputs": [
        {
          "output_type": "execute_result",
          "data": {
            "text/plain": [
              "['titanic']"
            ]
          },
          "metadata": {},
          "execution_count": 129
        }
      ]
    },
    {
      "cell_type": "code",
      "source": [],
      "metadata": {
        "id": "FL69ncv3FRFc"
      },
      "execution_count": null,
      "outputs": []
    }
  ]
}