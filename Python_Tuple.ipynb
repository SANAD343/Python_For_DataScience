{
  "nbformat": 4,
  "nbformat_minor": 0,
  "metadata": {
    "colab": {
      "provenance": [],
      "authorship_tag": "ABX9TyOCV8MINxbeLIU1WTKJwa6V",
      "include_colab_link": true
    },
    "kernelspec": {
      "name": "python3",
      "display_name": "Python 3"
    },
    "language_info": {
      "name": "python"
    }
  },
  "cells": [
    {
      "cell_type": "markdown",
      "metadata": {
        "id": "view-in-github",
        "colab_type": "text"
      },
      "source": [
        "<a href=\"https://colab.research.google.com/github/SANAD343/Python_For_DataScience/blob/main/Python_Tuple.ipynb\" target=\"_parent\"><img src=\"https://colab.research.google.com/assets/colab-badge.svg\" alt=\"Open In Colab\"/></a>"
      ]
    },
    {
      "cell_type": "markdown",
      "source": [
        "# Tuple\n",
        "\n",
        "Tuples are used to store multiple items in a single variable.\n",
        "\n",
        "A tuple is a collection which is ordered and unchangeable.\n",
        "\n",
        "Tuples are written with round brackets."
      ],
      "metadata": {
        "id": "5cXMJIkBJzhO"
      }
    },
    {
      "cell_type": "markdown",
      "source": [
        "#Tuple Items\n",
        "\n",
        "Tuple items are ordered, unchangeable, and allow duplicate values.\n",
        "\n",
        "Tuple items are indexed, the first item has index [0], the second item has index [1] etc."
      ],
      "metadata": {
        "id": "pmri4IDfKHOP"
      }
    },
    {
      "cell_type": "markdown",
      "source": [
        "#Ordered\n",
        "When we say that tuples are ordered, it means that the items have a defined order, and that order will not change.\n",
        "\n"
      ],
      "metadata": {
        "id": "xqtwRiWOKK69"
      }
    },
    {
      "cell_type": "markdown",
      "source": [
        "#Unchangeable\n",
        "Tuples are unchangeable, meaning that we cannot change, add or remove items after the tuple has been created.\n",
        "\n"
      ],
      "metadata": {
        "id": "-w-ssmdgKNxi"
      }
    },
    {
      "cell_type": "code",
      "source": [
        "t1=(\"raj\",\"himanshu\",\"datascience\",\"datalove\",\"saurabh\")\n",
        "type(t1)"
      ],
      "metadata": {
        "colab": {
          "base_uri": "https://localhost:8080/"
        },
        "id": "O6SB2wzaKWtK",
        "outputId": "584e8022-f66e-4817-ac86-219e47a6e478"
      },
      "execution_count": 2,
      "outputs": [
        {
          "output_type": "execute_result",
          "data": {
            "text/plain": [
              "tuple"
            ]
          },
          "metadata": {},
          "execution_count": 2
        }
      ]
    },
    {
      "cell_type": "code",
      "source": [
        "print(t1)"
      ],
      "metadata": {
        "colab": {
          "base_uri": "https://localhost:8080/"
        },
        "id": "PGx3GIADKdFJ",
        "outputId": "ed12cdf0-a51e-44cb-bee5-98f269224cff"
      },
      "execution_count": 3,
      "outputs": [
        {
          "output_type": "stream",
          "name": "stdout",
          "text": [
            "('raj', 'himanshu', 'datascience', 'datalove', 'saurabh')\n"
          ]
        }
      ]
    },
    {
      "cell_type": "code",
      "source": [
        "for item in (t1): #loop\n",
        "  print(t1)"
      ],
      "metadata": {
        "colab": {
          "base_uri": "https://localhost:8080/"
        },
        "id": "MfAAl3hxLAic",
        "outputId": "3d0f89e3-6516-4e25-c2e0-211588713254"
      },
      "execution_count": 4,
      "outputs": [
        {
          "output_type": "stream",
          "name": "stdout",
          "text": [
            "('raj', 'himanshu', 'datascience', 'datalove', 'saurabh')\n",
            "('raj', 'himanshu', 'datascience', 'datalove', 'saurabh')\n",
            "('raj', 'himanshu', 'datascience', 'datalove', 'saurabh')\n",
            "('raj', 'himanshu', 'datascience', 'datalove', 'saurabh')\n",
            "('raj', 'himanshu', 'datascience', 'datalove', 'saurabh')\n"
          ]
        }
      ]
    },
    {
      "cell_type": "code",
      "source": [
        "for item in (t1): #for loop\n",
        "  print(item)"
      ],
      "metadata": {
        "colab": {
          "base_uri": "https://localhost:8080/"
        },
        "id": "t1zSzeabLDRB",
        "outputId": "94e09c4b-b9c9-4263-981e-4693f0b3ac4f"
      },
      "execution_count": 5,
      "outputs": [
        {
          "output_type": "stream",
          "name": "stdout",
          "text": [
            "raj\n",
            "himanshu\n",
            "datascience\n",
            "datalove\n",
            "saurabh\n"
          ]
        }
      ]
    },
    {
      "cell_type": "code",
      "source": [
        "for item in (t1): # for horizontal\n",
        "  print(item,end=\" \")"
      ],
      "metadata": {
        "colab": {
          "base_uri": "https://localhost:8080/"
        },
        "id": "sPOXlzO8LXP_",
        "outputId": "6cbc42ec-5c70-463a-ef19-33c5afcc4a20"
      },
      "execution_count": 6,
      "outputs": [
        {
          "output_type": "stream",
          "name": "stdout",
          "text": [
            "raj himanshu datascience datalove saurabh "
          ]
        }
      ]
    },
    {
      "cell_type": "code",
      "source": [
        "t2=(\"sanad\",\"himanshu\",\"datascience\",\"datalove\",\"saurabh\",1,2,3,4,5.1)\n",
        "type(t2)"
      ],
      "metadata": {
        "colab": {
          "base_uri": "https://localhost:8080/"
        },
        "id": "N2Nus2O1Labz",
        "outputId": "3df5b6dc-4846-4bf7-cc83-28b6fba909a6"
      },
      "execution_count": 7,
      "outputs": [
        {
          "output_type": "execute_result",
          "data": {
            "text/plain": [
              "tuple"
            ]
          },
          "metadata": {},
          "execution_count": 7
        }
      ]
    },
    {
      "cell_type": "code",
      "source": [
        "for item in t2:  #vertical\n",
        "  print(item)"
      ],
      "metadata": {
        "colab": {
          "base_uri": "https://localhost:8080/"
        },
        "id": "JDO5bvI7Lhpn",
        "outputId": "7dca4f52-0965-454b-b842-b028402151fc"
      },
      "execution_count": 8,
      "outputs": [
        {
          "output_type": "stream",
          "name": "stdout",
          "text": [
            "sanad\n",
            "himanshu\n",
            "datascience\n",
            "datalove\n",
            "saurabh\n",
            "1\n",
            "2\n",
            "3\n",
            "4\n",
            "5.1\n"
          ]
        }
      ]
    },
    {
      "cell_type": "code",
      "source": [
        "for item in t2:        #horizontal\n",
        "  print(item,end=\",\")"
      ],
      "metadata": {
        "colab": {
          "base_uri": "https://localhost:8080/"
        },
        "id": "3FGlUFF3LltH",
        "outputId": "915e6165-8808-407d-e964-6dcd314c42e9"
      },
      "execution_count": 10,
      "outputs": [
        {
          "output_type": "stream",
          "name": "stdout",
          "text": [
            "sanad,himanshu,datascience,datalove,saurabh,1,2,3,4,5.1,"
          ]
        }
      ]
    },
    {
      "cell_type": "code",
      "source": [
        "t2[0]   #Indexing"
      ],
      "metadata": {
        "colab": {
          "base_uri": "https://localhost:8080/",
          "height": 36
        },
        "id": "bZA5wnlDLsPI",
        "outputId": "eab97eb4-41de-4029-d4d3-3716b9412f25"
      },
      "execution_count": 11,
      "outputs": [
        {
          "output_type": "execute_result",
          "data": {
            "text/plain": [
              "'sanad'"
            ],
            "application/vnd.google.colaboratory.intrinsic+json": {
              "type": "string"
            }
          },
          "metadata": {},
          "execution_count": 11
        }
      ]
    },
    {
      "cell_type": "code",
      "source": [
        "t2[0:5]    #slicing"
      ],
      "metadata": {
        "colab": {
          "base_uri": "https://localhost:8080/"
        },
        "id": "QXBV18vXLvdS",
        "outputId": "408b47ae-d5fa-4d2b-fbf4-bbf233fee794"
      },
      "execution_count": 12,
      "outputs": [
        {
          "output_type": "execute_result",
          "data": {
            "text/plain": [
              "('sanad', 'himanshu', 'datascience', 'datalove', 'saurabh')"
            ]
          },
          "metadata": {},
          "execution_count": 12
        }
      ]
    },
    {
      "cell_type": "code",
      "source": [
        "t2[1:6]"
      ],
      "metadata": {
        "colab": {
          "base_uri": "https://localhost:8080/"
        },
        "id": "b7dIj9C-LxP5",
        "outputId": "b1dd911f-cf75-4bc1-ac6a-b873ce26b771"
      },
      "execution_count": 13,
      "outputs": [
        {
          "output_type": "execute_result",
          "data": {
            "text/plain": [
              "('himanshu', 'datascience', 'datalove', 'saurabh', 1)"
            ]
          },
          "metadata": {},
          "execution_count": 13
        }
      ]
    },
    {
      "cell_type": "code",
      "source": [
        "t2[1:6:2]"
      ],
      "metadata": {
        "colab": {
          "base_uri": "https://localhost:8080/"
        },
        "id": "7Y-5a1eWLzgN",
        "outputId": "344a107d-9a97-4b07-8a4f-a478e485a402"
      },
      "execution_count": 14,
      "outputs": [
        {
          "output_type": "execute_result",
          "data": {
            "text/plain": [
              "('himanshu', 'datalove', 1)"
            ]
          },
          "metadata": {},
          "execution_count": 14
        }
      ]
    },
    {
      "cell_type": "code",
      "source": [
        "t2[1:10:2]   #slicing"
      ],
      "metadata": {
        "colab": {
          "base_uri": "https://localhost:8080/"
        },
        "id": "8BDdwUyaL1Qq",
        "outputId": "dc9f5ed9-730f-4109-bc9b-327661ee3e68"
      },
      "execution_count": 15,
      "outputs": [
        {
          "output_type": "execute_result",
          "data": {
            "text/plain": [
              "('himanshu', 'datalove', 1, 3, 5.1)"
            ]
          },
          "metadata": {},
          "execution_count": 15
        }
      ]
    },
    {
      "cell_type": "code",
      "source": [
        "t2=(\"sanad\",\"himanshu\",\"datascience\",\"datalove\",\"saurabh\",1,2,3,4,5.1)\n",
        "t3=(\"python\",\"hello world\")"
      ],
      "metadata": {
        "id": "Qq8Uv-DoL3vy"
      },
      "execution_count": 17,
      "outputs": []
    },
    {
      "cell_type": "code",
      "source": [
        "t4=t3+t2"
      ],
      "metadata": {
        "id": "WYqAFABUMMPN"
      },
      "execution_count": 18,
      "outputs": []
    },
    {
      "cell_type": "code",
      "source": [
        "t4"
      ],
      "metadata": {
        "colab": {
          "base_uri": "https://localhost:8080/"
        },
        "id": "EUpJWLWIMOOL",
        "outputId": "2186d3bf-064b-4f05-9e6b-d80037d680ac"
      },
      "execution_count": 19,
      "outputs": [
        {
          "output_type": "execute_result",
          "data": {
            "text/plain": [
              "('python',\n",
              " 'hello world',\n",
              " 'sanad',\n",
              " 'himanshu',\n",
              " 'datascience',\n",
              " 'datalove',\n",
              " 'saurabh',\n",
              " 1,\n",
              " 2,\n",
              " 3,\n",
              " 4,\n",
              " 5.1)"
            ]
          },
          "metadata": {},
          "execution_count": 19
        }
      ]
    },
    {
      "cell_type": "code",
      "source": [
        "t4[0]=\"saurabh\" #this is inmutable operation"
      ],
      "metadata": {
        "colab": {
          "base_uri": "https://localhost:8080/",
          "height": 146
        },
        "id": "aoO0lYrrMTFc",
        "outputId": "e9463d13-6775-4e17-9fd9-c10dcb12c13a"
      },
      "execution_count": 20,
      "outputs": [
        {
          "output_type": "error",
          "ename": "TypeError",
          "evalue": "'tuple' object does not support item assignment",
          "traceback": [
            "\u001b[0;31m---------------------------------------------------------------------------\u001b[0m",
            "\u001b[0;31mTypeError\u001b[0m                                 Traceback (most recent call last)",
            "\u001b[0;32m<ipython-input-20-a9136da2fe55>\u001b[0m in \u001b[0;36m<cell line: 1>\u001b[0;34m()\u001b[0m\n\u001b[0;32m----> 1\u001b[0;31m \u001b[0mt4\u001b[0m\u001b[0;34m[\u001b[0m\u001b[0;36m0\u001b[0m\u001b[0;34m]\u001b[0m\u001b[0;34m=\u001b[0m\u001b[0;34m\"saurabh\"\u001b[0m \u001b[0;31m#this is inmutable operation\u001b[0m\u001b[0;34m\u001b[0m\u001b[0;34m\u001b[0m\u001b[0m\n\u001b[0m",
            "\u001b[0;31mTypeError\u001b[0m: 'tuple' object does not support item assignment"
          ]
        }
      ]
    },
    {
      "cell_type": "code",
      "source": [
        "t5=(\"sanad\",\"himanshu\",\"datascience\",\"datalove\",\"saurabh\",1,2,3,4,5.1)\n",
        "t6=(\"python\")\n",
        "t7=t5+t6"
      ],
      "metadata": {
        "colab": {
          "base_uri": "https://localhost:8080/",
          "height": 183
        },
        "id": "egTD6EeNMXUy",
        "outputId": "f337b383-119f-4eaa-ba14-099c2ca4f838"
      },
      "execution_count": 22,
      "outputs": [
        {
          "output_type": "error",
          "ename": "TypeError",
          "evalue": "can only concatenate tuple (not \"str\") to tuple",
          "traceback": [
            "\u001b[0;31m---------------------------------------------------------------------------\u001b[0m",
            "\u001b[0;31mTypeError\u001b[0m                                 Traceback (most recent call last)",
            "\u001b[0;32m<ipython-input-22-7feaa9b02092>\u001b[0m in \u001b[0;36m<cell line: 3>\u001b[0;34m()\u001b[0m\n\u001b[1;32m      1\u001b[0m \u001b[0mt5\u001b[0m\u001b[0;34m=\u001b[0m\u001b[0;34m(\u001b[0m\u001b[0;34m\"sanad\"\u001b[0m\u001b[0;34m,\u001b[0m\u001b[0;34m\"himanshu\"\u001b[0m\u001b[0;34m,\u001b[0m\u001b[0;34m\"datascience\"\u001b[0m\u001b[0;34m,\u001b[0m\u001b[0;34m\"datalove\"\u001b[0m\u001b[0;34m,\u001b[0m\u001b[0;34m\"saurabh\"\u001b[0m\u001b[0;34m,\u001b[0m\u001b[0;36m1\u001b[0m\u001b[0;34m,\u001b[0m\u001b[0;36m2\u001b[0m\u001b[0;34m,\u001b[0m\u001b[0;36m3\u001b[0m\u001b[0;34m,\u001b[0m\u001b[0;36m4\u001b[0m\u001b[0;34m,\u001b[0m\u001b[0;36m5.1\u001b[0m\u001b[0;34m)\u001b[0m\u001b[0;34m\u001b[0m\u001b[0;34m\u001b[0m\u001b[0m\n\u001b[1;32m      2\u001b[0m \u001b[0mt6\u001b[0m\u001b[0;34m=\u001b[0m\u001b[0;34m(\u001b[0m\u001b[0;34m\"python\"\u001b[0m\u001b[0;34m)\u001b[0m\u001b[0;34m\u001b[0m\u001b[0;34m\u001b[0m\u001b[0m\n\u001b[0;32m----> 3\u001b[0;31m \u001b[0mt7\u001b[0m\u001b[0;34m=\u001b[0m\u001b[0mt5\u001b[0m\u001b[0;34m+\u001b[0m\u001b[0mt6\u001b[0m\u001b[0;34m\u001b[0m\u001b[0;34m\u001b[0m\u001b[0m\n\u001b[0m",
            "\u001b[0;31mTypeError\u001b[0m: can only concatenate tuple (not \"str\") to tuple"
          ]
        }
      ]
    },
    {
      "cell_type": "code",
      "source": [
        "t5=(\"sanad\",\"himanshu\",\"datascience\",\"datalove\",\"saurabh\",1,2,3,4,5.1)\n",
        "t6=(\"python\",)\n",
        "t7=t5+t6"
      ],
      "metadata": {
        "id": "KK2gmXNYMqV-"
      },
      "execution_count": 23,
      "outputs": []
    },
    {
      "cell_type": "code",
      "source": [
        "t7"
      ],
      "metadata": {
        "colab": {
          "base_uri": "https://localhost:8080/"
        },
        "id": "xweLQoVKMvL8",
        "outputId": "0b33b481-aac1-4f47-843b-48cd82593b6b"
      },
      "execution_count": 24,
      "outputs": [
        {
          "output_type": "execute_result",
          "data": {
            "text/plain": [
              "('sanad',\n",
              " 'himanshu',\n",
              " 'datascience',\n",
              " 'datalove',\n",
              " 'saurabh',\n",
              " 1,\n",
              " 2,\n",
              " 3,\n",
              " 4,\n",
              " 5.1,\n",
              " 'python')"
            ]
          },
          "metadata": {},
          "execution_count": 24
        }
      ]
    },
    {
      "cell_type": "code",
      "source": [
        "type(t6)"
      ],
      "metadata": {
        "colab": {
          "base_uri": "https://localhost:8080/"
        },
        "id": "aYZxSAymMwsR",
        "outputId": "3638aeae-1add-4372-8cfc-e8620f4ba28d"
      },
      "execution_count": 25,
      "outputs": [
        {
          "output_type": "execute_result",
          "data": {
            "text/plain": [
              "tuple"
            ]
          },
          "metadata": {},
          "execution_count": 25
        }
      ]
    },
    {
      "cell_type": "code",
      "source": [
        "type(t7)"
      ],
      "metadata": {
        "colab": {
          "base_uri": "https://localhost:8080/"
        },
        "id": "0Oppi1Z8MzVX",
        "outputId": "22a88e8f-1148-4918-e380-6705f8aeb013"
      },
      "execution_count": 26,
      "outputs": [
        {
          "output_type": "execute_result",
          "data": {
            "text/plain": [
              "tuple"
            ]
          },
          "metadata": {},
          "execution_count": 26
        }
      ]
    },
    {
      "cell_type": "code",
      "source": [
        "a1=(\"welcom\",\"to\",\"datalove\",\"developers\")\n",
        "a1[2:]"
      ],
      "metadata": {
        "colab": {
          "base_uri": "https://localhost:8080/"
        },
        "id": "U03wK1qDM1jk",
        "outputId": "58a84ad0-92b1-4ecb-ad1b-74187f865ad7"
      },
      "execution_count": 27,
      "outputs": [
        {
          "output_type": "execute_result",
          "data": {
            "text/plain": [
              "('datalove', 'developers')"
            ]
          },
          "metadata": {},
          "execution_count": 27
        }
      ]
    },
    {
      "cell_type": "code",
      "source": [
        "a1[0:2]"
      ],
      "metadata": {
        "colab": {
          "base_uri": "https://localhost:8080/"
        },
        "id": "xKQJKpQ_M40h",
        "outputId": "ae3414fe-24e6-403f-e36d-0df16636147f"
      },
      "execution_count": 28,
      "outputs": [
        {
          "output_type": "execute_result",
          "data": {
            "text/plain": [
              "('welcom', 'to')"
            ]
          },
          "metadata": {},
          "execution_count": 28
        }
      ]
    },
    {
      "cell_type": "markdown",
      "source": [
        "#Nested tupple"
      ],
      "metadata": {
        "id": "n6-ZCSDYNS4Z"
      }
    },
    {
      "cell_type": "code",
      "source": [
        "employee=((\"sanad\",\"singh\"),(\"banglore\",\"karnataka\"),(\"sept 2023\",10,\"data scientist\"))"
      ],
      "metadata": {
        "id": "RyV39q1xM6ae"
      },
      "execution_count": 29,
      "outputs": []
    },
    {
      "cell_type": "code",
      "source": [
        "print(employee)"
      ],
      "metadata": {
        "colab": {
          "base_uri": "https://localhost:8080/"
        },
        "id": "_JJcF5w8Nafk",
        "outputId": "e5f58602-8d95-4f8b-ca22-5e4866a987d7"
      },
      "execution_count": 30,
      "outputs": [
        {
          "output_type": "stream",
          "name": "stdout",
          "text": [
            "(('sanad', 'singh'), ('banglore', 'karnataka'), ('sept 2023', 10, 'data scientist'))\n"
          ]
        }
      ]
    },
    {
      "cell_type": "code",
      "source": [
        "type(employee)"
      ],
      "metadata": {
        "colab": {
          "base_uri": "https://localhost:8080/"
        },
        "id": "xou9DLVPNb9O",
        "outputId": "b2749174-ea0e-4c16-fc80-3da65315b27f"
      },
      "execution_count": 31,
      "outputs": [
        {
          "output_type": "execute_result",
          "data": {
            "text/plain": [
              "tuple"
            ]
          },
          "metadata": {},
          "execution_count": 31
        }
      ]
    },
    {
      "cell_type": "code",
      "source": [
        "for item in employee:\n",
        "  print(item)"
      ],
      "metadata": {
        "colab": {
          "base_uri": "https://localhost:8080/"
        },
        "id": "gCluK1rTNdTC",
        "outputId": "cb9425a3-b2bc-4324-983d-6b32805a87e3"
      },
      "execution_count": 32,
      "outputs": [
        {
          "output_type": "stream",
          "name": "stdout",
          "text": [
            "('sanad', 'singh')\n",
            "('banglore', 'karnataka')\n",
            "('sept 2023', 10, 'data scientist')\n"
          ]
        }
      ]
    },
    {
      "cell_type": "code",
      "source": [
        "emp=((\"himanshu\",\"singh\"),(\"banglore\",\"karnataka\"),(\"sept 2023\",10,\"data scientist\"))"
      ],
      "metadata": {
        "id": "FmTemOYNNi2X"
      },
      "execution_count": 34,
      "outputs": []
    },
    {
      "cell_type": "code",
      "source": [
        "emp[0][0],emp[0][1]  #slicing"
      ],
      "metadata": {
        "colab": {
          "base_uri": "https://localhost:8080/"
        },
        "id": "CGsBn6R3NmBb",
        "outputId": "087e8d98-0463-4db8-acff-4b3e75094b6b"
      },
      "execution_count": 36,
      "outputs": [
        {
          "output_type": "execute_result",
          "data": {
            "text/plain": [
              "('himanshu', 'singh')"
            ]
          },
          "metadata": {},
          "execution_count": 36
        }
      ]
    },
    {
      "cell_type": "code",
      "source": [
        "print(\"employe_name:\",emp[0][0],emp[0][1])"
      ],
      "metadata": {
        "colab": {
          "base_uri": "https://localhost:8080/"
        },
        "id": "1wacyodnNykv",
        "outputId": "4a8eb77d-3040-472e-c4cd-1cf5caf922ec"
      },
      "execution_count": 37,
      "outputs": [
        {
          "output_type": "stream",
          "name": "stdout",
          "text": [
            "employe_name: himanshu singh\n"
          ]
        }
      ]
    },
    {
      "cell_type": "code",
      "source": [
        "emp=((\"sanad\",\"singh\"),(\"banglore\",\"karnataka\"),(\"sept 2023\",10,\"data scientist\"))"
      ],
      "metadata": {
        "id": "u4rN8Hw_N5FC"
      },
      "execution_count": 38,
      "outputs": []
    },
    {
      "cell_type": "code",
      "source": [
        "emp[1][0],emp[1][1]"
      ],
      "metadata": {
        "colab": {
          "base_uri": "https://localhost:8080/"
        },
        "id": "3ME_GDspOAS5",
        "outputId": "29dd257f-f7c5-403d-e263-eb24a1b599e7"
      },
      "execution_count": 41,
      "outputs": [
        {
          "output_type": "execute_result",
          "data": {
            "text/plain": [
              "('banglore', 'karnataka')"
            ]
          },
          "metadata": {},
          "execution_count": 41
        }
      ]
    },
    {
      "cell_type": "code",
      "source": [
        "print(\"employe_location:\",emp[1][0],emp[1][1])"
      ],
      "metadata": {
        "colab": {
          "base_uri": "https://localhost:8080/"
        },
        "id": "1VLRElxPOBj3",
        "outputId": "94ab317c-4e00-4ec6-bf33-b7b7ef596a9a"
      },
      "execution_count": 42,
      "outputs": [
        {
          "output_type": "stream",
          "name": "stdout",
          "text": [
            "employe_location: banglore karnataka\n"
          ]
        }
      ]
    },
    {
      "cell_type": "code",
      "source": [
        "#print(\"joining_date & role:\",emp[2][0],emp[2][1])\n",
        "\n",
        "print(\"employee details:\\n\",\"joining_month:\",emp[2][0],\"\\n\",\"joining_date:\",emp[2][1],\"\\n\",\"employe_profile:\",emp[2][2])"
      ],
      "metadata": {
        "colab": {
          "base_uri": "https://localhost:8080/"
        },
        "id": "Ap3X6kJKOKkV",
        "outputId": "8b8d2361-1ea7-45b4-9afd-5f07fb8cb770"
      },
      "execution_count": 43,
      "outputs": [
        {
          "output_type": "stream",
          "name": "stdout",
          "text": [
            "employee details:\n",
            " joining_month: sept 2023 \n",
            " joining_date: 10 \n",
            " employe_profile: data scientist\n"
          ]
        }
      ]
    },
    {
      "cell_type": "code",
      "source": [
        "fruits=(\"apple\",\"mango\",\"banana\",\"gooseberry\") #packing tuple"
      ],
      "metadata": {
        "id": "TbuYBhI9ON7W"
      },
      "execution_count": 44,
      "outputs": []
    },
    {
      "cell_type": "code",
      "source": [
        "(f1,f2,f3,f4)=fruits"
      ],
      "metadata": {
        "id": "k6GBm3K8OUkz"
      },
      "execution_count": 45,
      "outputs": []
    },
    {
      "cell_type": "code",
      "source": [
        "f1"
      ],
      "metadata": {
        "colab": {
          "base_uri": "https://localhost:8080/",
          "height": 36
        },
        "id": "IXpLh_X9OV79",
        "outputId": "6a60543f-53f1-419a-9202-78faddfc9df1"
      },
      "execution_count": 46,
      "outputs": [
        {
          "output_type": "execute_result",
          "data": {
            "text/plain": [
              "'apple'"
            ],
            "application/vnd.google.colaboratory.intrinsic+json": {
              "type": "string"
            }
          },
          "metadata": {},
          "execution_count": 46
        }
      ]
    },
    {
      "cell_type": "code",
      "source": [
        "f2"
      ],
      "metadata": {
        "colab": {
          "base_uri": "https://localhost:8080/",
          "height": 36
        },
        "id": "iRqiD3HEOWrO",
        "outputId": "99422e81-ffaa-406f-ce50-3db02b86642d"
      },
      "execution_count": 47,
      "outputs": [
        {
          "output_type": "execute_result",
          "data": {
            "text/plain": [
              "'mango'"
            ],
            "application/vnd.google.colaboratory.intrinsic+json": {
              "type": "string"
            }
          },
          "metadata": {},
          "execution_count": 47
        }
      ]
    },
    {
      "cell_type": "code",
      "source": [
        "f3"
      ],
      "metadata": {
        "colab": {
          "base_uri": "https://localhost:8080/",
          "height": 36
        },
        "id": "Bt46AfN_OX0K",
        "outputId": "5ac2275a-48bd-4f9e-d2a2-f8b70c5105f2"
      },
      "execution_count": 48,
      "outputs": [
        {
          "output_type": "execute_result",
          "data": {
            "text/plain": [
              "'banana'"
            ],
            "application/vnd.google.colaboratory.intrinsic+json": {
              "type": "string"
            }
          },
          "metadata": {},
          "execution_count": 48
        }
      ]
    },
    {
      "cell_type": "code",
      "source": [
        "f4"
      ],
      "metadata": {
        "colab": {
          "base_uri": "https://localhost:8080/",
          "height": 36
        },
        "id": "WSd1bD9MOYEF",
        "outputId": "ca187bb2-cf53-48df-fb9a-829c76cc579d"
      },
      "execution_count": 49,
      "outputs": [
        {
          "output_type": "execute_result",
          "data": {
            "text/plain": [
              "'gooseberry'"
            ],
            "application/vnd.google.colaboratory.intrinsic+json": {
              "type": "string"
            }
          },
          "metadata": {},
          "execution_count": 49
        }
      ]
    },
    {
      "cell_type": "code",
      "source": [
        "t1=[\"Raj\",\"himanshu\"]"
      ],
      "metadata": {
        "id": "iaFapbCQOYsP"
      },
      "execution_count": 51,
      "outputs": []
    },
    {
      "cell_type": "code",
      "source": [
        "t1[0]+\"python\""
      ],
      "metadata": {
        "colab": {
          "base_uri": "https://localhost:8080/",
          "height": 36
        },
        "id": "HRltHDs2OaqZ",
        "outputId": "d1715447-ce8a-4789-8bf0-7a99c10018ef"
      },
      "execution_count": 52,
      "outputs": [
        {
          "output_type": "execute_result",
          "data": {
            "text/plain": [
              "'Rajpython'"
            ],
            "application/vnd.google.colaboratory.intrinsic+json": {
              "type": "string"
            }
          },
          "metadata": {},
          "execution_count": 52
        }
      ]
    },
    {
      "cell_type": "code",
      "source": [
        "t1=(\"Raj\",\"himanshu\")\n",
        "t2=(\"datalove\",)\n",
        "t3=t1+t2"
      ],
      "metadata": {
        "id": "cEL0LJ9lOduB"
      },
      "execution_count": 53,
      "outputs": []
    },
    {
      "cell_type": "code",
      "source": [
        "print(t3)"
      ],
      "metadata": {
        "colab": {
          "base_uri": "https://localhost:8080/"
        },
        "id": "K3aFxuCfOlfn",
        "outputId": "c46ba7ab-f1cc-4e8f-ccf5-562f3131a6ca"
      },
      "execution_count": 54,
      "outputs": [
        {
          "output_type": "stream",
          "name": "stdout",
          "text": [
            "('Raj', 'himanshu', 'datalove')\n"
          ]
        }
      ]
    },
    {
      "cell_type": "code",
      "source": [
        "t1=(\"sanad\",\"himanshu\")  #due to immutable\n",
        "t1[0]=\"hellhound\""
      ],
      "metadata": {
        "colab": {
          "base_uri": "https://localhost:8080/",
          "height": 164
        },
        "id": "xnRC1bJsOn9h",
        "outputId": "90de0bb5-50c3-4cd9-adbd-5e2ba4b1d373"
      },
      "execution_count": 55,
      "outputs": [
        {
          "output_type": "error",
          "ename": "TypeError",
          "evalue": "'tuple' object does not support item assignment",
          "traceback": [
            "\u001b[0;31m---------------------------------------------------------------------------\u001b[0m",
            "\u001b[0;31mTypeError\u001b[0m                                 Traceback (most recent call last)",
            "\u001b[0;32m<ipython-input-55-de6fe8b42dfc>\u001b[0m in \u001b[0;36m<cell line: 2>\u001b[0;34m()\u001b[0m\n\u001b[1;32m      1\u001b[0m \u001b[0mt1\u001b[0m\u001b[0;34m=\u001b[0m\u001b[0;34m(\u001b[0m\u001b[0;34m\"sanad\"\u001b[0m\u001b[0;34m,\u001b[0m\u001b[0;34m\"himanshu\"\u001b[0m\u001b[0;34m)\u001b[0m\u001b[0;34m\u001b[0m\u001b[0;34m\u001b[0m\u001b[0m\n\u001b[0;32m----> 2\u001b[0;31m \u001b[0mt1\u001b[0m\u001b[0;34m[\u001b[0m\u001b[0;36m0\u001b[0m\u001b[0;34m]\u001b[0m\u001b[0;34m=\u001b[0m\u001b[0;34m\"hellhound\"\u001b[0m\u001b[0;34m\u001b[0m\u001b[0;34m\u001b[0m\u001b[0m\n\u001b[0m",
            "\u001b[0;31mTypeError\u001b[0m: 'tuple' object does not support item assignment"
          ]
        }
      ]
    },
    {
      "cell_type": "code",
      "source": [
        "t1=()\n",
        "type(t1)"
      ],
      "metadata": {
        "colab": {
          "base_uri": "https://localhost:8080/"
        },
        "id": "uUfcBPrXOsqY",
        "outputId": "791c994c-f83e-49d5-851a-d60cc20d8f94"
      },
      "execution_count": 56,
      "outputs": [
        {
          "output_type": "execute_result",
          "data": {
            "text/plain": [
              "tuple"
            ]
          },
          "metadata": {},
          "execution_count": 56
        }
      ]
    },
    {
      "cell_type": "code",
      "source": [
        "t2=tuple()\n",
        "type(t2)"
      ],
      "metadata": {
        "colab": {
          "base_uri": "https://localhost:8080/"
        },
        "id": "NDZ9dbX5Oywq",
        "outputId": "091daf30-b5ab-4c67-dba0-804d48a60c0e"
      },
      "execution_count": 57,
      "outputs": [
        {
          "output_type": "execute_result",
          "data": {
            "text/plain": [
              "tuple"
            ]
          },
          "metadata": {},
          "execution_count": 57
        }
      ]
    },
    {
      "cell_type": "code",
      "source": [
        "t3=(100)\n",
        "t4=3,\n",
        "t5=(4,)\n",
        "type(t3)\n",
        "type(t4)\n",
        "type(t5)"
      ],
      "metadata": {
        "colab": {
          "base_uri": "https://localhost:8080/"
        },
        "id": "D2gsP5tbO0HE",
        "outputId": "079bc493-5b6d-42ab-ba9c-7b8d7914ca30"
      },
      "execution_count": 58,
      "outputs": [
        {
          "output_type": "execute_result",
          "data": {
            "text/plain": [
              "tuple"
            ]
          },
          "metadata": {},
          "execution_count": 58
        }
      ]
    },
    {
      "cell_type": "code",
      "source": [
        "t3=(100)\n",
        "type(t3)"
      ],
      "metadata": {
        "colab": {
          "base_uri": "https://localhost:8080/"
        },
        "id": "pYLJ8tjiO1Sj",
        "outputId": "362605ec-2bb1-4879-8f7a-f4396474fa30"
      },
      "execution_count": 60,
      "outputs": [
        {
          "output_type": "execute_result",
          "data": {
            "text/plain": [
              "int"
            ]
          },
          "metadata": {},
          "execution_count": 60
        }
      ]
    },
    {
      "cell_type": "code",
      "source": [
        "t6=(1,2,3,4,5,6,7,8,9,10) # Long Tuple\n",
        "type(t6)"
      ],
      "metadata": {
        "colab": {
          "base_uri": "https://localhost:8080/"
        },
        "id": "4ldABUSUO3be",
        "outputId": "53b4caf7-30ee-48e4-8a9a-b6bd82de0519"
      },
      "execution_count": 61,
      "outputs": [
        {
          "output_type": "execute_result",
          "data": {
            "text/plain": [
              "tuple"
            ]
          },
          "metadata": {},
          "execution_count": 61
        }
      ]
    },
    {
      "cell_type": "code",
      "source": [
        "t7=(11,12,(13,14)) # Nested Tuple\n",
        "type(t7)"
      ],
      "metadata": {
        "colab": {
          "base_uri": "https://localhost:8080/"
        },
        "id": "Wu_Hp_hsO6qN",
        "outputId": "5b8eb929-e8c2-4047-8423-48297de16f58"
      },
      "execution_count": 62,
      "outputs": [
        {
          "output_type": "execute_result",
          "data": {
            "text/plain": [
              "tuple"
            ]
          },
          "metadata": {},
          "execution_count": 62
        }
      ]
    },
    {
      "cell_type": "code",
      "source": [
        "t8=tuple(\"datalove\") #converting string to tuple\n",
        "type(t8)"
      ],
      "metadata": {
        "colab": {
          "base_uri": "https://localhost:8080/"
        },
        "id": "Plvn0aZsO9hV",
        "outputId": "1c551f58-0145-4cb2-c7c4-66a4d654062f"
      },
      "execution_count": 64,
      "outputs": [
        {
          "output_type": "execute_result",
          "data": {
            "text/plain": [
              "tuple"
            ]
          },
          "metadata": {},
          "execution_count": 64
        }
      ]
    },
    {
      "cell_type": "code",
      "source": [
        "l=[\"a\",\"b\",\"c\",\"d\",\"e\"] #list to tuple\n",
        "t9=tuple(l)\n",
        "print(t9)"
      ],
      "metadata": {
        "colab": {
          "base_uri": "https://localhost:8080/"
        },
        "id": "qkD8JO4uO_uv",
        "outputId": "f6a6d39e-73b8-4a3a-ddee-f8f77b430fb0"
      },
      "execution_count": 65,
      "outputs": [
        {
          "output_type": "stream",
          "name": "stdout",
          "text": [
            "('a', 'b', 'c', 'd', 'e')\n"
          ]
        }
      ]
    },
    {
      "cell_type": "code",
      "source": [
        "t10=tuple(input(\"enter the data\"))  # taking input from the user or keyboard"
      ],
      "metadata": {
        "colab": {
          "base_uri": "https://localhost:8080/"
        },
        "id": "dJ5Pn6m5PPb6",
        "outputId": "6b7e2575-7ef1-4bee-dc42-0df5e2c58377"
      },
      "execution_count": 66,
      "outputs": [
        {
          "name": "stdout",
          "output_type": "stream",
          "text": [
            "enter the data55\n"
          ]
        }
      ]
    },
    {
      "cell_type": "code",
      "source": [
        "print(t10)"
      ],
      "metadata": {
        "colab": {
          "base_uri": "https://localhost:8080/"
        },
        "id": "AzVsaLtyPUS0",
        "outputId": "cdfcd42a-4ed0-42bc-cbd0-2b55719a896d"
      },
      "execution_count": 67,
      "outputs": [
        {
          "output_type": "stream",
          "name": "stdout",
          "text": [
            "('5', '5')\n"
          ]
        }
      ]
    },
    {
      "cell_type": "code",
      "source": [
        "t10=tuple(input(\"enter the data\"))"
      ],
      "metadata": {
        "colab": {
          "base_uri": "https://localhost:8080/"
        },
        "id": "bIF-kLBOPXFB",
        "outputId": "ae2a325f-cc2b-4503-9de9-3ae8681c7d03"
      },
      "execution_count": 68,
      "outputs": [
        {
          "name": "stdout",
          "output_type": "stream",
          "text": [
            "enter the data2 3 raj\n"
          ]
        }
      ]
    },
    {
      "cell_type": "code",
      "source": [
        "print(t10)"
      ],
      "metadata": {
        "colab": {
          "base_uri": "https://localhost:8080/"
        },
        "id": "NnvsS8ktPdM3",
        "outputId": "10df13f0-9c8c-4c6c-eb78-d0de8bf86951"
      },
      "execution_count": 69,
      "outputs": [
        {
          "output_type": "stream",
          "name": "stdout",
          "text": [
            "('2', ' ', '3', ' ', 'r', 'a', 'j')\n"
          ]
        }
      ]
    },
    {
      "cell_type": "code",
      "source": [
        "t10=(input(\"enter the data\")) #without tuple function"
      ],
      "metadata": {
        "colab": {
          "base_uri": "https://localhost:8080/"
        },
        "id": "lbNS4ByAPj37",
        "outputId": "ea9a3db6-82be-491d-c93b-3e51070173b9"
      },
      "execution_count": 70,
      "outputs": [
        {
          "name": "stdout",
          "output_type": "stream",
          "text": [
            "enter the datahello world\n"
          ]
        }
      ]
    },
    {
      "cell_type": "code",
      "source": [
        "print(t10)"
      ],
      "metadata": {
        "colab": {
          "base_uri": "https://localhost:8080/"
        },
        "id": "x-bjEKwBPl-J",
        "outputId": "7fc6d7b4-1414-4778-d9a5-c846db8248f1"
      },
      "execution_count": 71,
      "outputs": [
        {
          "output_type": "stream",
          "name": "stdout",
          "text": [
            "hello world\n"
          ]
        }
      ]
    },
    {
      "cell_type": "code",
      "source": [
        "t10=str(input(\"enter the data\"))"
      ],
      "metadata": {
        "colab": {
          "base_uri": "https://localhost:8080/"
        },
        "id": "-c_2SJ4mPr-h",
        "outputId": "af7edb61-0d2a-4f04-9a93-05cce6df0d99"
      },
      "execution_count": 72,
      "outputs": [
        {
          "name": "stdout",
          "output_type": "stream",
          "text": [
            "enter the datahello world\n"
          ]
        }
      ]
    },
    {
      "cell_type": "code",
      "source": [
        "print(t10)"
      ],
      "metadata": {
        "colab": {
          "base_uri": "https://localhost:8080/"
        },
        "id": "v8kosEY8Pxkz",
        "outputId": "fdd2cfed-f706-470f-f090-7476f64a9921"
      },
      "execution_count": 73,
      "outputs": [
        {
          "output_type": "stream",
          "name": "stdout",
          "text": [
            "hello world\n"
          ]
        }
      ]
    },
    {
      "cell_type": "code",
      "source": [
        "t1=int(input(\"enter the number\"))\n",
        "t2=int(input(\"enter the number\"))\n",
        "t3=t1/t2\n",
        "print(t3)"
      ],
      "metadata": {
        "colab": {
          "base_uri": "https://localhost:8080/"
        },
        "id": "_u19HQwLP1C6",
        "outputId": "3905dbc0-46a0-46ee-ab12-c199e2ea0c2c"
      },
      "execution_count": 74,
      "outputs": [
        {
          "output_type": "stream",
          "name": "stdout",
          "text": [
            "enter the number1548\n",
            "enter the number2\n",
            "774.0\n"
          ]
        }
      ]
    },
    {
      "cell_type": "code",
      "source": [
        "t1=(1,2,3) #concatination will happen\n",
        "t2=(4,5,6)\n",
        "t3=(\"a\",12.5,(7,8))\n",
        "t1+t2+t3"
      ],
      "metadata": {
        "colab": {
          "base_uri": "https://localhost:8080/"
        },
        "id": "OZd82B7XP4Gi",
        "outputId": "cbe2e3ee-4178-4309-a293-4f9b4caa04ef"
      },
      "execution_count": 75,
      "outputs": [
        {
          "output_type": "execute_result",
          "data": {
            "text/plain": [
              "(1, 2, 3, 4, 5, 6, 'a', 12.5, (7, 8))"
            ]
          },
          "metadata": {},
          "execution_count": 75
        }
      ]
    },
    {
      "cell_type": "code",
      "source": [
        "t1=(1,2,3)+2 #type error only concatenate tuple to tuple"
      ],
      "metadata": {
        "colab": {
          "base_uri": "https://localhost:8080/",
          "height": 146
        },
        "id": "2wygt6qKP-Pr",
        "outputId": "c750f205-f048-43e3-a323-553a7c3266bb"
      },
      "execution_count": 76,
      "outputs": [
        {
          "output_type": "error",
          "ename": "TypeError",
          "evalue": "can only concatenate tuple (not \"int\") to tuple",
          "traceback": [
            "\u001b[0;31m---------------------------------------------------------------------------\u001b[0m",
            "\u001b[0;31mTypeError\u001b[0m                                 Traceback (most recent call last)",
            "\u001b[0;32m<ipython-input-76-9729e6905e05>\u001b[0m in \u001b[0;36m<cell line: 1>\u001b[0;34m()\u001b[0m\n\u001b[0;32m----> 1\u001b[0;31m \u001b[0mt1\u001b[0m\u001b[0;34m=\u001b[0m\u001b[0;34m(\u001b[0m\u001b[0;36m1\u001b[0m\u001b[0;34m,\u001b[0m\u001b[0;36m2\u001b[0m\u001b[0;34m,\u001b[0m\u001b[0;36m3\u001b[0m\u001b[0;34m)\u001b[0m\u001b[0;34m+\u001b[0m\u001b[0;36m2\u001b[0m \u001b[0;31m#type error tuple to tuple\u001b[0m\u001b[0;34m\u001b[0m\u001b[0;34m\u001b[0m\u001b[0m\n\u001b[0m",
            "\u001b[0;31mTypeError\u001b[0m: can only concatenate tuple (not \"int\") to tuple"
          ]
        }
      ]
    },
    {
      "cell_type": "code",
      "source": [
        "t1=(1,2,3)\n",
        "print(t1+(2,))"
      ],
      "metadata": {
        "colab": {
          "base_uri": "https://localhost:8080/"
        },
        "id": "waGRP2kwQBPI",
        "outputId": "dadc01be-3b7c-4c22-b4f7-0694c5623b6d"
      },
      "execution_count": 77,
      "outputs": [
        {
          "output_type": "stream",
          "name": "stdout",
          "text": [
            "(1, 2, 3, 2)\n"
          ]
        }
      ]
    },
    {
      "cell_type": "code",
      "source": [
        "t10=(12,45,21,65,23,4,56,67,23,59)"
      ],
      "metadata": {
        "id": "GtsjeukDQHaq"
      },
      "execution_count": 78,
      "outputs": []
    },
    {
      "cell_type": "code",
      "source": [
        "t10[3:7]"
      ],
      "metadata": {
        "colab": {
          "base_uri": "https://localhost:8080/"
        },
        "id": "-f4_LRNMQOzV",
        "outputId": "a5d56705-e5e8-495c-9ffb-cfa5c5505113"
      },
      "execution_count": 79,
      "outputs": [
        {
          "output_type": "execute_result",
          "data": {
            "text/plain": [
              "(65, 23, 4, 56)"
            ]
          },
          "metadata": {},
          "execution_count": 79
        }
      ]
    },
    {
      "cell_type": "code",
      "source": [
        "t10[3:-3]"
      ],
      "metadata": {
        "colab": {
          "base_uri": "https://localhost:8080/"
        },
        "id": "Ld4OKokjQPtt",
        "outputId": "fdf94b2f-19bd-4df8-e9bc-6071d0a27abb"
      },
      "execution_count": 80,
      "outputs": [
        {
          "output_type": "execute_result",
          "data": {
            "text/plain": [
              "(65, 23, 4, 56)"
            ]
          },
          "metadata": {},
          "execution_count": 80
        }
      ]
    },
    {
      "cell_type": "code",
      "source": [
        "t1=(1,2,3)\n",
        "t2=(4,5,6)"
      ],
      "metadata": {
        "id": "UTovClCgQRCf"
      },
      "execution_count": 81,
      "outputs": []
    },
    {
      "cell_type": "code",
      "source": [
        "print(t1)"
      ],
      "metadata": {
        "colab": {
          "base_uri": "https://localhost:8080/"
        },
        "id": "yW6EYZTUQVIM",
        "outputId": "82308b8e-7753-457b-b706-b56729ae6b2b"
      },
      "execution_count": 82,
      "outputs": [
        {
          "output_type": "stream",
          "name": "stdout",
          "text": [
            "(1, 2, 3)\n"
          ]
        }
      ]
    },
    {
      "cell_type": "code",
      "source": [
        "print(t1)"
      ],
      "metadata": {
        "colab": {
          "base_uri": "https://localhost:8080/"
        },
        "id": "ysqkDbXqQWgh",
        "outputId": "5d28ccc2-a413-4cc9-91c1-ecf1bf671acf"
      },
      "execution_count": 83,
      "outputs": [
        {
          "output_type": "stream",
          "name": "stdout",
          "text": [
            "(1, 2, 3)\n"
          ]
        }
      ]
    },
    {
      "cell_type": "code",
      "source": [
        "print(t1==t2)"
      ],
      "metadata": {
        "colab": {
          "base_uri": "https://localhost:8080/"
        },
        "id": "HceonOHoQYyz",
        "outputId": "6271bba7-689d-4953-eb50-0ed558a00ba6"
      },
      "execution_count": 84,
      "outputs": [
        {
          "output_type": "stream",
          "name": "stdout",
          "text": [
            "False\n"
          ]
        }
      ]
    },
    {
      "cell_type": "code",
      "source": [
        "print(t1!=t2)"
      ],
      "metadata": {
        "colab": {
          "base_uri": "https://localhost:8080/"
        },
        "id": "TYlJS1T5QaZ2",
        "outputId": "1118fb75-57fa-48ad-b6c7-44996884ee5c"
      },
      "execution_count": 85,
      "outputs": [
        {
          "output_type": "stream",
          "name": "stdout",
          "text": [
            "True\n"
          ]
        }
      ]
    },
    {
      "cell_type": "code",
      "source": [
        "print(t1>=t2)"
      ],
      "metadata": {
        "colab": {
          "base_uri": "https://localhost:8080/"
        },
        "id": "kFO4HM4uQbvJ",
        "outputId": "482a43fc-6c03-44ed-a45b-49dfef6cd0c4"
      },
      "execution_count": 86,
      "outputs": [
        {
          "output_type": "stream",
          "name": "stdout",
          "text": [
            "False\n"
          ]
        }
      ]
    },
    {
      "cell_type": "code",
      "source": [
        "print(t1<=t2)"
      ],
      "metadata": {
        "colab": {
          "base_uri": "https://localhost:8080/"
        },
        "id": "8vTWJrGHQdKi",
        "outputId": "369dc427-1bbe-4ca0-818e-b1c2835ede2d"
      },
      "execution_count": 87,
      "outputs": [
        {
          "output_type": "stream",
          "name": "stdout",
          "text": [
            "True\n"
          ]
        }
      ]
    },
    {
      "cell_type": "code",
      "source": [
        "t=(12,16,45,64,93)\n",
        "max(t)"
      ],
      "metadata": {
        "colab": {
          "base_uri": "https://localhost:8080/"
        },
        "id": "5X5kMbamQfJJ",
        "outputId": "d4a7d8c3-45d5-41b3-859c-d05cdeba3ae0"
      },
      "execution_count": 88,
      "outputs": [
        {
          "output_type": "execute_result",
          "data": {
            "text/plain": [
              "93"
            ]
          },
          "metadata": {},
          "execution_count": 88
        }
      ]
    },
    {
      "cell_type": "code",
      "source": [
        "min(t)"
      ],
      "metadata": {
        "colab": {
          "base_uri": "https://localhost:8080/"
        },
        "id": "JBkeqBoCQgy4",
        "outputId": "c3b7780b-d123-4aa5-b12b-8bb2d17d484b"
      },
      "execution_count": 89,
      "outputs": [
        {
          "output_type": "execute_result",
          "data": {
            "text/plain": [
              "12"
            ]
          },
          "metadata": {},
          "execution_count": 89
        }
      ]
    },
    {
      "cell_type": "code",
      "source": [
        "t=(12,16,45,64,93) #tuple keywords\n",
        "t.index(45)"
      ],
      "metadata": {
        "colab": {
          "base_uri": "https://localhost:8080/"
        },
        "id": "4HxS9GDiQiiS",
        "outputId": "d0db0154-637f-4e53-cff0-0726239bd44c"
      },
      "execution_count": 90,
      "outputs": [
        {
          "output_type": "execute_result",
          "data": {
            "text/plain": [
              "2"
            ]
          },
          "metadata": {},
          "execution_count": 90
        }
      ]
    },
    {
      "cell_type": "code",
      "source": [
        "t=(12,16,45,64,93,34,67,12,95)\n",
        "t.count(12)"
      ],
      "metadata": {
        "colab": {
          "base_uri": "https://localhost:8080/"
        },
        "id": "Ajsy9AatQj1W",
        "outputId": "6f4a2334-39c0-453e-adbe-6fabcc647322"
      },
      "execution_count": 91,
      "outputs": [
        {
          "output_type": "execute_result",
          "data": {
            "text/plain": [
              "2"
            ]
          },
          "metadata": {},
          "execution_count": 91
        }
      ]
    },
    {
      "cell_type": "code",
      "source": [
        "t=(12,16,45,64,93,34,67,12,95)\n",
        "t.index(95)"
      ],
      "metadata": {
        "colab": {
          "base_uri": "https://localhost:8080/"
        },
        "id": "MScnRzZ6QonL",
        "outputId": "3a2120e8-4646-4520-83dc-ba6c862f10ba"
      },
      "execution_count": 92,
      "outputs": [
        {
          "output_type": "execute_result",
          "data": {
            "text/plain": [
              "8"
            ]
          },
          "metadata": {},
          "execution_count": 92
        }
      ]
    },
    {
      "cell_type": "code",
      "source": [],
      "metadata": {
        "id": "tyIYQ6JcQqhB"
      },
      "execution_count": null,
      "outputs": []
    }
  ]
}