{
  "nbformat": 4,
  "nbformat_minor": 0,
  "metadata": {
    "colab": {
      "provenance": [],
      "authorship_tag": "ABX9TyOadGgMjotyNWYFqyW17fSl"
    },
    "kernelspec": {
      "name": "python3",
      "display_name": "Python 3"
    },
    "language_info": {
      "name": "python"
    }
  },
  "cells": [
    {
      "cell_type": "markdown",
      "source": [
        "#Control Flow\n",
        "\n",
        "Here, we are going to review and learn the most fundamentals of Python control flow: Decision making statement and loops."
      ],
      "metadata": {
        "id": "FNVXxOxhZMXI"
      }
    },
    {
      "cell_type": "markdown",
      "source": [
        "# Decision Making Statement\n",
        "\n",
        "* It is kind of making decision during occurred situation of program execution and action can be taken according to specified conditions.\n",
        "\n",
        "* Structure of decision making evaluate several expressions that provide True or False as a result.\n",
        "\n",
        "* It is up to you to decide which type of action want to take and execute the statements based upon True and False."
      ],
      "metadata": {
        "id": "6OksOnpFZQX2"
      }
    },
    {
      "cell_type": "markdown",
      "source": [
        " These are several topics of decision making which going to be discussed below:\n",
        "\n",
        "* if\n",
        "* if else\n",
        "* if elif else\n",
        "* Nested if\n",
        "* Single Statement Suites"
      ],
      "metadata": {
        "id": "qHt7oLVZZbM4"
      }
    },
    {
      "cell_type": "markdown",
      "source": [
        "# If statement\n",
        "\n",
        "* In python if statement is same as other languages.\n",
        "* It is having a logical expression where data is getting compared and based upon comparison result a decision is made."
      ],
      "metadata": {
        "id": "yuItxTaqZmjs"
      }
    },
    {
      "cell_type": "code",
      "source": [
        "val=84\n",
        "if val:\n",
        "  print(\"value\")\n",
        "  print(val)"
      ],
      "metadata": {
        "colab": {
          "base_uri": "https://localhost:8080/"
        },
        "id": "vPBvtiBVZgjn",
        "outputId": "99ef7e00-3fe3-41f1-da0e-ff7d826392b0"
      },
      "execution_count": 1,
      "outputs": [
        {
          "output_type": "stream",
          "name": "stdout",
          "text": [
            "value\n",
            "84\n"
          ]
        }
      ]
    },
    {
      "cell_type": "markdown",
      "source": [
        " # If-else statement\n",
        "\n",
        "* With if statement an else statement is combined.\n",
        "\n",
        "* if-else statement have a block of code, where if is executed when it is 1 or True and else when if is 0 or False\n",
        "\n",
        "Note: The else statement is consider to be an optional statement, so there could be only one else statement in block of code."
      ],
      "metadata": {
        "id": "n5Tb333rbqOa"
      }
    },
    {
      "cell_type": "code",
      "source": [
        "'''Its a good example to get\n",
        "the Net payable amount by setting up\n",
        "discount at specific price range by using if-else statement'''"
      ],
      "metadata": {
        "colab": {
          "base_uri": "https://localhost:8080/",
          "height": 54
        },
        "collapsed": true,
        "id": "x_oFTMq7b1Dk",
        "outputId": "22c88b7b-9b77-44f2-9e10-a7425ed3bf7f"
      },
      "execution_count": 2,
      "outputs": [
        {
          "output_type": "execute_result",
          "data": {
            "text/plain": [
              "'Its a good example to get \\nthe Net payable amount by setting up \\ndiscount at specific price range by using if-else statement'"
            ],
            "application/vnd.google.colaboratory.intrinsic+json": {
              "type": "string"
            }
          },
          "metadata": {},
          "execution_count": 2
        }
      ]
    },
    {
      "cell_type": "code",
      "source": [
        "total_price=int(input(\"Price:  \"))\n",
        "if total_price<100:\n",
        "  discount=total_price*0.04\n",
        "  print(\"Discount_price\" +str(discount))\n",
        "else:\n",
        "  discount=total_price*0.1\n",
        "  print(\"Discount_price:\"+str(discount))\n",
        "print(\"Net payable Amount: \", total_price-discount)"
      ],
      "metadata": {
        "colab": {
          "base_uri": "https://localhost:8080/"
        },
        "id": "sbTnVWxXcMK5",
        "outputId": "bb534e1d-8670-46b3-c952-4c0c54005145"
      },
      "execution_count": 3,
      "outputs": [
        {
          "output_type": "stream",
          "name": "stdout",
          "text": [
            "Price:  99\n",
            "Discount_price3.96\n",
            "Net payable Amount:  95.04\n"
          ]
        }
      ]
    },
    {
      "cell_type": "markdown",
      "source": [
        "# If-elif-else statement\n",
        "\n",
        "* The elif statement is used to check for the multiple True expressions and so on if the condition is True it execute a block of code.\n",
        "* Similar elif statement is consider to be an optional like else statement.\n",
        "* Though, we can use elif statement multiple times in a block of code, but else statement can be used only ones"
      ],
      "metadata": {
        "id": "Q7pTLrHec-RD"
      }
    },
    {
      "cell_type": "code",
      "source": [
        "'''Its very good example to get\n",
        "the Net payable amount by setting up some\n",
        "discount at specific price range by using if-elif-else statement'''\n",
        "\n",
        "\n",
        "Total_Price=int(input(\"Price: \"))\n",
        "if Total_Price<100:\n",
        "    discount=Total_Price*0.04\n",
        "    print (\"Discount Rupess: \"+str(discount))\n",
        "elif Total_Price<500:\n",
        "    discount=Total_Price*0.08\n",
        "    print (\"Discount Rupess: \"+str(discount))\n",
        "else:\n",
        "    discount=Total_Price*0.1\n",
        "    print (\"Discount Rupess: \"+str(discount))\n",
        "print (\"Net payable Amount: \",Total_Price-discount)"
      ],
      "metadata": {
        "colab": {
          "base_uri": "https://localhost:8080/"
        },
        "id": "iVY6FkyAc31t",
        "outputId": "293732a3-5db0-43fb-8e19-26f3669ff3d9"
      },
      "execution_count": 4,
      "outputs": [
        {
          "output_type": "stream",
          "name": "stdout",
          "text": [
            "Price: 98\n",
            "Discount Rupess: 3.92\n",
            "Net payable Amount:  94.08\n"
          ]
        }
      ]
    },
    {
      "cell_type": "markdown",
      "source": [
        "# Nested If statement\n",
        "\n",
        "* In some of the cases, it is required to have other check condition inside a check condition (when it True)\n",
        "* Such type of scenarios required to have a nested arrangement.\n",
        "* Under a nested if arrangement, an if-elif-else can be construct inside an another if-elif-else construct."
      ],
      "metadata": {
        "id": "8q7kRhFKdQGK"
      }
    },
    {
      "cell_type": "code",
      "source": [
        "'''Its a simple example to check whether\n",
        "a number is zero or positive or negative\n",
        "using nested if-else statement'''\n",
        "\n",
        "val = float(input(\"Enter a number: \"))\n",
        "if val >= 0:\n",
        "    if val == 0:\n",
        "        print(\"Zero\")\n",
        "    else:\n",
        "        print(\"Entered number is Positive\")\n",
        "else:\n",
        "    print(\"Entered number is Negative\")"
      ],
      "metadata": {
        "colab": {
          "base_uri": "https://localhost:8080/"
        },
        "id": "xCN6e9pbdV3o",
        "outputId": "318b08bb-8536-4c26-8f8b-0d3823e30151"
      },
      "execution_count": 6,
      "outputs": [
        {
          "output_type": "stream",
          "name": "stdout",
          "text": [
            "Enter a number: 10.2\n",
            "Entered number is Positive\n"
          ]
        }
      ]
    },
    {
      "cell_type": "markdown",
      "source": [
        "# Single Statement Suites\n",
        "\n",
        "* If the suite of if section have only a single line, then the header statement may go at same line."
      ],
      "metadata": {
        "id": "zknomAo7dpCa"
      }
    },
    {
      "cell_type": "code",
      "source": [
        "'''Its a simple example to check whether a value is less than equal to 999'''\n",
        "\n",
        "val = int(input(\"Enter a number: \"))\n",
        "if (val <= 999 ):\n",
        "  print (\"Value is less than equal to 999\")\n",
        "  print (\"Good bye!\")"
      ],
      "metadata": {
        "colab": {
          "base_uri": "https://localhost:8080/"
        },
        "id": "8Mfr_XIodt1L",
        "outputId": "0a0721fa-0ee7-4ffb-ad2e-8e31d0286bc4"
      },
      "execution_count": 7,
      "outputs": [
        {
          "output_type": "stream",
          "name": "stdout",
          "text": [
            "Enter a number: 989\n",
            "Value is less than equal to 999\n",
            "Good bye!\n"
          ]
        }
      ]
    },
    {
      "cell_type": "code",
      "source": [
        "val = int(input(\"Enter a number: \"))\n",
        "if (val <= 999 ):\n",
        "  print (\"Value is less than equal to 999\")\n",
        "  print (\"Good bye!\")\n",
        "else:\n",
        "  print(\"Number is not valid\")"
      ],
      "metadata": {
        "colab": {
          "base_uri": "https://localhost:8080/"
        },
        "id": "pEzver0nd2u7",
        "outputId": "f5b7dde1-f817-4a39-dbb2-ae35f91666ee"
      },
      "execution_count": 9,
      "outputs": [
        {
          "output_type": "stream",
          "name": "stdout",
          "text": [
            "Enter a number: 100000\n",
            "Number is not valid\n"
          ]
        }
      ]
    },
    {
      "cell_type": "code",
      "source": [],
      "metadata": {
        "id": "hwPiUhhCd8eN"
      },
      "execution_count": 9,
      "outputs": []
    },
    {
      "cell_type": "markdown",
      "source": [
        "# Loops Statements\n",
        "\n",
        "* In loop, the statements are sequentially executed, execution of first function statement is done first, then second and so on.\n",
        "   * In situation where you need to perform a block of code many times then loop statement will come in to picture.\n",
        "   * It allows to execute/run group of statements or a statement multiple time.\n",
        "   \n",
        "**These are several topics of loop statements which going to be discussed below:**\n",
        "   1. **while Loop**\n",
        "   2. **for Loop**\n",
        "   3. **Nested loops**\n",
        "   4. **Loop Control**\n",
        "      * **break**\n",
        "      * **continue**\n",
        "      * **pass**"
      ],
      "metadata": {
        "id": "85OstvUbePZ8"
      }
    },
    {
      "cell_type": "markdown",
      "source": [
        "# While Loop\n",
        "\n",
        "   * It repeats a statement or multiple statements when a provided condition is `True`.\n",
        "   * Before performing a loop body it check for a condition"
      ],
      "metadata": {
        "id": "4wfPq4vxeYZC"
      }
    },
    {
      "cell_type": "code",
      "source": [
        "''' A child is learning to count number of 10 rupess in his hand\n",
        "and here we have given 5 notes of 10 rupess.\n",
        "Output will display the counting of notes and total amount'''\n",
        "\n",
        "notes=10\n",
        "i=1 # starting number intialize\n",
        "while i<=notes:\n",
        "  print(i)\n",
        "  i+=1\n",
        "print(\"Total Money:\", notes*10)"
      ],
      "metadata": {
        "colab": {
          "base_uri": "https://localhost:8080/"
        },
        "id": "aPIsnRSHebg3",
        "outputId": "b7ce7b11-6159-4219-c817-694a84ac2899"
      },
      "execution_count": 11,
      "outputs": [
        {
          "output_type": "stream",
          "name": "stdout",
          "text": [
            "1\n",
            "2\n",
            "3\n",
            "4\n",
            "5\n",
            "6\n",
            "7\n",
            "8\n",
            "9\n",
            "10\n",
            "Total Money: 100\n"
          ]
        }
      ]
    },
    {
      "cell_type": "code",
      "source": [
        "'''Continuing with same example,\n",
        "here we using else statement'''\n",
        "\n",
        "notes = 5\n",
        "i=1 #starting number intialize\n",
        "\n",
        "while i<=notes:\n",
        "  print(i)\n",
        "  i+=1\n",
        "else:\n",
        "  print(\"No 10 rupees note left\")\n",
        "print(\"total money:\", notes*10)"
      ],
      "metadata": {
        "colab": {
          "base_uri": "https://localhost:8080/"
        },
        "id": "1izdek4Ve05A",
        "outputId": "69205498-1e4e-44a0-8999-bb7663805b33"
      },
      "execution_count": 12,
      "outputs": [
        {
          "output_type": "stream",
          "name": "stdout",
          "text": [
            "1\n",
            "2\n",
            "3\n",
            "4\n",
            "5\n",
            "No 10 rupees note left\n",
            "total money: 50\n"
          ]
        }
      ]
    },
    {
      "cell_type": "markdown",
      "source": [
        "# For Loop\n",
        "\n",
        "* Here for loop statement is used to iterates over an item at any order, items can be a string or a list."
      ],
      "metadata": {
        "id": "iUr86PSffmwK"
      }
    },
    {
      "cell_type": "code",
      "source": [
        "''' A simple example has taken where\n",
        "we have several fruits in a list and we display\n",
        "this fruit as per the arrangement in list'''\n",
        "\n",
        "fruits_list=[\"mango\",\"cherry\",\"apple\",\"papaya\",\"banana\"]\n",
        "for item in fruits_list:\n",
        "  print(item)"
      ],
      "metadata": {
        "colab": {
          "base_uri": "https://localhost:8080/"
        },
        "id": "oFhzTvLjfi91",
        "outputId": "0cf3264b-dcc9-4933-f26d-7890b8a80dba"
      },
      "execution_count": 14,
      "outputs": [
        {
          "output_type": "stream",
          "name": "stdout",
          "text": [
            "mango\n",
            "cherry\n",
            "apple\n",
            "papaya\n",
            "banana\n"
          ]
        }
      ]
    },
    {
      "cell_type": "code",
      "source": [
        "'''Continuing the previous example with using else statement'''\n",
        "\n",
        "fruits_list = [\"Mango\",\"Cherry\",\"Apple\",\"Papaya\",\"Banana\"] ## List containing friuts name\n",
        "for x in fruits_list:\n",
        "    print(x)\n",
        "else:\n",
        "    print(\"List has no fruit left!\")"
      ],
      "metadata": {
        "colab": {
          "base_uri": "https://localhost:8080/"
        },
        "id": "vg4vCZ8Cf_OK",
        "outputId": "f133b553-93f8-47c3-ba8e-45834a485178"
      },
      "execution_count": 15,
      "outputs": [
        {
          "output_type": "stream",
          "name": "stdout",
          "text": [
            "Mango\n",
            "Cherry\n",
            "Apple\n",
            "Papaya\n",
            "Banana\n",
            "List has no fruit left!\n"
          ]
        }
      ]
    },
    {
      "cell_type": "code",
      "source": [
        "'''An iterative example of string is shown here'''\n",
        "\n",
        "f_name = \"Mango\" ## string as input\n",
        "for x in f_name:\n",
        "    print(x)"
      ],
      "metadata": {
        "colab": {
          "base_uri": "https://localhost:8080/"
        },
        "id": "OD_-MxxbgGMM",
        "outputId": "f221badd-5da2-4519-d7cc-aaef2cdee761"
      },
      "execution_count": 16,
      "outputs": [
        {
          "output_type": "stream",
          "name": "stdout",
          "text": [
            "M\n",
            "a\n",
            "n\n",
            "g\n",
            "o\n"
          ]
        }
      ]
    },
    {
      "cell_type": "markdown",
      "source": [
        "# Nested Loops\n",
        "\n",
        "* Nested loops is used to create one and more number of loop inside an existing for or while loop."
      ],
      "metadata": {
        "id": "oKg6QKSigXrc"
      }
    },
    {
      "cell_type": "code",
      "source": [
        "'''Here we use nested for loop to create a triangle'''\n",
        "\n",
        "n=7 #n is length and width of triangle\n",
        "for i in range(0, n): #loop to handle the rows\n",
        "\n",
        "    for j in range(0, i+1): #loop to handle the columns\n",
        "\n",
        "        print(\"* \",end=\"\") #printing the stars\n",
        "\n",
        "    print(\"\\r\") #after each row line will end"
      ],
      "metadata": {
        "colab": {
          "base_uri": "https://localhost:8080/"
        },
        "id": "AWyDMQwigJ9g",
        "outputId": "0597f51f-0ff2-4ae8-d075-8c4ff997838b"
      },
      "execution_count": 17,
      "outputs": [
        {
          "output_type": "stream",
          "name": "stdout",
          "text": [
            "* \r\n",
            "* * \r\n",
            "* * * \r\n",
            "* * * * \r\n",
            "* * * * * \r\n",
            "* * * * * * \r\n",
            "* * * * * * * \r\n"
          ]
        }
      ]
    },
    {
      "cell_type": "code",
      "source": [
        "''' This exaple shows the use of nested while loop to\n",
        "create a pyramid like structure'''\n",
        "\n",
        "\n",
        "num_rows = int(input(\"Enter the number of rows: \"))\n",
        "row = 0 #row intialize\n",
        "while(row < num_rows):\n",
        "    row += 1 #Rows count increase\n",
        "    s = num_rows - row #Spaces\n",
        "\n",
        "    sc = 0 #Space counter intialize\n",
        "    while(sc < s):\n",
        "        print(\" \", end='')\n",
        "        sc += 1\n",
        "\n",
        "    stars = 2*row-1 #Number of stars\n",
        "    while(stars > 0):\n",
        "        print(\"*\", end='')\n",
        "        stars -= 1\n",
        "\n",
        "    print()"
      ],
      "metadata": {
        "colab": {
          "base_uri": "https://localhost:8080/"
        },
        "id": "1gHhryqBgdPO",
        "outputId": "241aacff-3a06-4e38-d315-8d83859b9ef8"
      },
      "execution_count": 18,
      "outputs": [
        {
          "output_type": "stream",
          "name": "stdout",
          "text": [
            "Enter the number of rows: 8\n",
            "       *\n",
            "      ***\n",
            "     *****\n",
            "    *******\n",
            "   *********\n",
            "  ***********\n",
            " *************\n",
            "***************\n"
          ]
        }
      ]
    },
    {
      "cell_type": "markdown",
      "source": [
        "# Loop Control\n",
        "\n",
        "* The loop control is used to change its preceding sequence to different form.\n",
        "\n",
        "* This statement used for a premature terminates of current loop immediately and executes the further statement, just like `break` statement in `C` language.\n",
        "\n",
        "* When `continue` statement is encountered during an iteration, it directly goes to next iteration without performing remaining statements in present iteration. It returns execution to the starting point of current loop and start further iteration.\n",
        "\n",
        "* `break` and `continue` can be used in both `while` and `for` loop.\n",
        "\n",
        "* The `pass` statement is considered as a `null` operation. It is useful when a code (i.e., code required in future) has not written till now, but your code will go eventually."
      ],
      "metadata": {
        "id": "FzFcgg_1g0Vk"
      }
    },
    {
      "cell_type": "markdown",
      "source": [
        "# Break statement"
      ],
      "metadata": {
        "id": "WDk-qyNjhQut"
      }
    },
    {
      "cell_type": "code",
      "source": [
        "'''It is a simple example of break,\n",
        "where it immediatly terminate an operation of\n",
        "statement body when x is equal to 4'''\n",
        "\n",
        "x = 1\n",
        "while x < 7:\n",
        "    print(x)\n",
        "    if x == 4:\n",
        "        break\n",
        "    x += 1"
      ],
      "metadata": {
        "colab": {
          "base_uri": "https://localhost:8080/"
        },
        "id": "S8xbrYQfhRuj",
        "outputId": "186a0acf-bf67-4cc7-d10c-18ed1ee2805a"
      },
      "execution_count": 19,
      "outputs": [
        {
          "output_type": "stream",
          "name": "stdout",
          "text": [
            "1\n",
            "2\n",
            "3\n",
            "4\n"
          ]
        }
      ]
    },
    {
      "cell_type": "code",
      "source": [
        "x = 1\n",
        "while x<= 17:\n",
        "    print(x)\n",
        "    if x == 9:\n",
        "        break\n",
        "    x += 1"
      ],
      "metadata": {
        "colab": {
          "base_uri": "https://localhost:8080/"
        },
        "id": "OqXwJMc2hTu5",
        "outputId": "478d40fd-3225-40dc-d5f6-d39d7a678d76"
      },
      "execution_count": 20,
      "outputs": [
        {
          "output_type": "stream",
          "name": "stdout",
          "text": [
            "1\n",
            "2\n",
            "3\n",
            "4\n",
            "5\n",
            "6\n",
            "7\n",
            "8\n",
            "9\n"
          ]
        }
      ]
    },
    {
      "cell_type": "code",
      "source": [
        "'''Here it terminates the\n",
        "operational body when fruit name is Papaya'''\n",
        "\n",
        "fruits_list = [\"Mango\",\"Cherry\",\"Apple\",\"Papaya\",\"Banana\"] ## List containing friuts name\n",
        "for x in fruits_list:\n",
        "    if x == \"Papaya\":\n",
        "        break\n",
        "    print(x)"
      ],
      "metadata": {
        "colab": {
          "base_uri": "https://localhost:8080/"
        },
        "id": "VspwMO-ohZeh",
        "outputId": "00bcbf2d-672f-4208-fa94-9c2e36f53a42"
      },
      "execution_count": 21,
      "outputs": [
        {
          "output_type": "stream",
          "name": "stdout",
          "text": [
            "Mango\n",
            "Cherry\n",
            "Apple\n"
          ]
        }
      ]
    },
    {
      "cell_type": "markdown",
      "source": [
        "#  Continue statement"
      ],
      "metadata": {
        "id": "mcqOs5_9hgj9"
      }
    },
    {
      "cell_type": "code",
      "source": [
        "'''It is a simple example of continue,\n",
        "where it simply terminate an current iteration\n",
        "when x is equal to 4 and\n",
        "continues with next iteration'''\n",
        "\n",
        "x = 0\n",
        "while x < 7:\n",
        "    x += 1\n",
        "    if x == 4:\n",
        "        continue\n",
        "    print(x)"
      ],
      "metadata": {
        "colab": {
          "base_uri": "https://localhost:8080/"
        },
        "id": "8Pl_RGvdheQF",
        "outputId": "96de8add-8c9b-423f-a66c-12a488208ed5"
      },
      "execution_count": 22,
      "outputs": [
        {
          "output_type": "stream",
          "name": "stdout",
          "text": [
            "1\n",
            "2\n",
            "3\n",
            "5\n",
            "6\n",
            "7\n"
          ]
        }
      ]
    },
    {
      "cell_type": "code",
      "source": [
        "'''In this example it simply terminate\n",
        "an current iteration when fruit name is Papaya and\n",
        "continues with next iteration'''\n",
        "\n",
        "fruits_list = [\"Mango\",\"Cherry\",\"Apple\",\"Papaya\",\"Banana\"] ## List containing friuts name\n",
        "for x in fruits_list:\n",
        "    if x == \"Papaya\":\n",
        "        continue\n",
        "    print(x)"
      ],
      "metadata": {
        "colab": {
          "base_uri": "https://localhost:8080/"
        },
        "id": "8OQ6BfwbhjUi",
        "outputId": "20b0210b-e28f-4746-a42c-beab8c1ad172"
      },
      "execution_count": 23,
      "outputs": [
        {
          "output_type": "stream",
          "name": "stdout",
          "text": [
            "Mango\n",
            "Cherry\n",
            "Apple\n",
            "Banana\n"
          ]
        }
      ]
    },
    {
      "cell_type": "markdown",
      "source": [
        "# Pass statement"
      ],
      "metadata": {
        "id": "XtecVWowho_3"
      }
    },
    {
      "cell_type": "code",
      "source": [
        "'''A simple example of pass,\n",
        "where it is not decided what to do with i'''\n",
        "\n",
        "for i in [10, 100, 200]:\n",
        "    pass"
      ],
      "metadata": {
        "id": "1z2x1M5Chqd8"
      },
      "execution_count": 24,
      "outputs": []
    },
    {
      "cell_type": "code",
      "source": [
        "'''Continuing with same above example\n",
        "if for loop body left simply, then it will throw an error'''\n",
        "\n",
        "for i in [10, 100, 200]:"
      ],
      "metadata": {
        "colab": {
          "base_uri": "https://localhost:8080/",
          "height": 110
        },
        "id": "suEpOokXhsQP",
        "outputId": "52bbd3e8-0e61-4a34-cfa3-a0bb15fedf9f"
      },
      "execution_count": 25,
      "outputs": [
        {
          "output_type": "error",
          "ename": "SyntaxError",
          "evalue": "incomplete input (<ipython-input-25-c9a1daeb919d>, line 4)",
          "traceback": [
            "\u001b[0;36m  File \u001b[0;32m\"<ipython-input-25-c9a1daeb919d>\"\u001b[0;36m, line \u001b[0;32m4\u001b[0m\n\u001b[0;31m    for i in [10, 100, 200]:\u001b[0m\n\u001b[0m                            ^\u001b[0m\n\u001b[0;31mSyntaxError\u001b[0m\u001b[0;31m:\u001b[0m incomplete input\n"
          ]
        }
      ]
    },
    {
      "cell_type": "code",
      "source": [],
      "metadata": {
        "id": "-tZlsLzGhvGx"
      },
      "execution_count": null,
      "outputs": []
    }
  ]
}