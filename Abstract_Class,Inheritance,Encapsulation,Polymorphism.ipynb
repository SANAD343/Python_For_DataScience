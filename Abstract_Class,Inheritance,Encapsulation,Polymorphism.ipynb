{
  "nbformat": 4,
  "nbformat_minor": 0,
  "metadata": {
    "colab": {
      "provenance": [],
      "authorship_tag": "ABX9TyO/g3k7tcX/E7NjJ+MtmnVE",
      "include_colab_link": true
    },
    "kernelspec": {
      "name": "python3",
      "display_name": "Python 3"
    },
    "language_info": {
      "name": "python"
    }
  },
  "cells": [
    {
      "cell_type": "markdown",
      "metadata": {
        "id": "view-in-github",
        "colab_type": "text"
      },
      "source": [
        "<a href=\"https://colab.research.google.com/github/SANAD343/Python_For_DataScience/blob/main/Abstract_Class%2CInheritance%2CEncapsulation%2CPolymorphism.ipynb\" target=\"_parent\"><img src=\"https://colab.research.google.com/assets/colab-badge.svg\" alt=\"Open In Colab\"/></a>"
      ]
    },
    {
      "cell_type": "markdown",
      "source": [
        "#Abstract Class"
      ],
      "metadata": {
        "id": "EhMZNRB9RNjp"
      }
    },
    {
      "cell_type": "code",
      "source": [
        "import abc\n",
        "\n",
        "class pwskills :\n",
        "\n",
        "    @abc.abstractmethod\n",
        "    def student_details(self):\n",
        "        pass\n",
        "\n",
        "    @abc.abstractmethod\n",
        "    def student_assignment(self):\n",
        "        pass\n",
        "\n",
        "\n",
        "    @abc.abstractmethod\n",
        "    def student_marks(self):\n",
        "        pass"
      ],
      "metadata": {
        "id": "h9aZs1TzRRmh"
      },
      "execution_count": 1,
      "outputs": []
    },
    {
      "cell_type": "code",
      "source": [
        "class data_science(pwskills):\n",
        "\n",
        "    def student_details(self):\n",
        "        return \"it will try to return a details of data science masters \"\n",
        "\n",
        "    def student_assignment(self):\n",
        "        return \"it will return a details of student assignemnt for data science masters \""
      ],
      "metadata": {
        "id": "Aa37yloERS0K"
      },
      "execution_count": 2,
      "outputs": []
    },
    {
      "cell_type": "code",
      "source": [
        "class web_dev(pwskills):\n",
        "     def student_details(self):\n",
        "            return \"this will retrun a detils of web dev \"\n",
        "\n",
        "\n",
        "     def student_marks(self):\n",
        "             return \"this will return a makrs of web dev class\""
      ],
      "metadata": {
        "id": "mO3HHr-TRVcQ"
      },
      "execution_count": 3,
      "outputs": []
    },
    {
      "cell_type": "code",
      "source": [
        "ds = data_science()\n",
        "ds.student_details()"
      ],
      "metadata": {
        "colab": {
          "base_uri": "https://localhost:8080/",
          "height": 36
        },
        "id": "nKQngofpRWwf",
        "outputId": "b5ecbf0f-d972-468d-87a0-b77cd2433a33"
      },
      "execution_count": 4,
      "outputs": [
        {
          "output_type": "execute_result",
          "data": {
            "text/plain": [
              "'it will try to return a details of data science masters '"
            ],
            "application/vnd.google.colaboratory.intrinsic+json": {
              "type": "string"
            }
          },
          "metadata": {},
          "execution_count": 4
        }
      ]
    },
    {
      "cell_type": "code",
      "source": [
        "wb = web_dev()\n",
        "wb.student_details()"
      ],
      "metadata": {
        "colab": {
          "base_uri": "https://localhost:8080/",
          "height": 36
        },
        "id": "lULuY14cRYha",
        "outputId": "bee6c53c-72d1-425f-b6c5-38b6ef507220"
      },
      "execution_count": 5,
      "outputs": [
        {
          "output_type": "execute_result",
          "data": {
            "text/plain": [
              "'this will retrun a detils of web dev '"
            ],
            "application/vnd.google.colaboratory.intrinsic+json": {
              "type": "string"
            }
          },
          "metadata": {},
          "execution_count": 5
        }
      ]
    },
    {
      "cell_type": "markdown",
      "source": [
        "# Inheritance In OOps !"
      ],
      "metadata": {
        "id": "W9NzeM-5Rade"
      }
    },
    {
      "cell_type": "code",
      "source": [
        "class parent:\n",
        "\n",
        "    def test_parent(self) :\n",
        "        print(\"this is my parent class \")"
      ],
      "metadata": {
        "id": "D-BJLQClRZl9"
      },
      "execution_count": 6,
      "outputs": []
    },
    {
      "cell_type": "code",
      "source": [
        "class child(parent):\n",
        "    pass"
      ],
      "metadata": {
        "id": "i6nppHTPRgSY"
      },
      "execution_count": 7,
      "outputs": []
    },
    {
      "cell_type": "code",
      "source": [
        "child_obj = child()"
      ],
      "metadata": {
        "id": "ioMzAoSpRhpV"
      },
      "execution_count": 8,
      "outputs": []
    },
    {
      "cell_type": "code",
      "source": [
        "child_obj.test_parent()"
      ],
      "metadata": {
        "colab": {
          "base_uri": "https://localhost:8080/"
        },
        "id": "60vKAhB4RjPA",
        "outputId": "ecdc3e84-9d29-44d6-9a9f-13cf1d32766f"
      },
      "execution_count": 9,
      "outputs": [
        {
          "output_type": "stream",
          "name": "stdout",
          "text": [
            "this is my parent class \n"
          ]
        }
      ]
    },
    {
      "cell_type": "code",
      "source": [
        "class class1 :\n",
        "    def test_class1(self) :\n",
        "        print(\"this is my class1 \" )"
      ],
      "metadata": {
        "id": "LTNE5tvVRkPQ"
      },
      "execution_count": 10,
      "outputs": []
    },
    {
      "cell_type": "code",
      "source": [
        "class class2(class1) :\n",
        "    def test_class2(self) :\n",
        "        print(\"this is my class2\" )"
      ],
      "metadata": {
        "id": "7zNMoL2NRlYO"
      },
      "execution_count": 11,
      "outputs": []
    },
    {
      "cell_type": "code",
      "source": [
        "class class3(class2) :\n",
        "    def test_class3(self) :\n",
        "        print(\"this is my class3 \")"
      ],
      "metadata": {
        "id": "DzEy8TAzRmZd"
      },
      "execution_count": 12,
      "outputs": []
    },
    {
      "cell_type": "code",
      "source": [
        "obj_class3  = class3()"
      ],
      "metadata": {
        "id": "11wfCIyERnYY"
      },
      "execution_count": 13,
      "outputs": []
    },
    {
      "cell_type": "code",
      "source": [
        "obj_class3.test_class1()"
      ],
      "metadata": {
        "colab": {
          "base_uri": "https://localhost:8080/"
        },
        "id": "7VN2VI2HRobM",
        "outputId": "aa794c27-2bca-451b-9d6b-70b0c3506216"
      },
      "execution_count": 14,
      "outputs": [
        {
          "output_type": "stream",
          "name": "stdout",
          "text": [
            "this is my class1 \n"
          ]
        }
      ]
    },
    {
      "cell_type": "code",
      "source": [
        "obj_class3.test_class2()"
      ],
      "metadata": {
        "colab": {
          "base_uri": "https://localhost:8080/"
        },
        "id": "vmWrVNwtRpS7",
        "outputId": "9c6be23a-e520-41c0-919c-006db327fbf1"
      },
      "execution_count": 15,
      "outputs": [
        {
          "output_type": "stream",
          "name": "stdout",
          "text": [
            "this is my class2\n"
          ]
        }
      ]
    },
    {
      "cell_type": "code",
      "source": [
        "obj_class3.test_class3()"
      ],
      "metadata": {
        "colab": {
          "base_uri": "https://localhost:8080/"
        },
        "id": "fGIltozcRqfM",
        "outputId": "4ed90f80-f4b2-4e45-c8ed-90072539c254"
      },
      "execution_count": 16,
      "outputs": [
        {
          "output_type": "stream",
          "name": "stdout",
          "text": [
            "this is my class3 \n"
          ]
        }
      ]
    },
    {
      "cell_type": "code",
      "source": [
        "class class1:\n",
        "    def test_class1(self) :\n",
        "        print(\"this is my class 1\" )"
      ],
      "metadata": {
        "id": "BgpvBdviRrdi"
      },
      "execution_count": 17,
      "outputs": []
    },
    {
      "cell_type": "code",
      "source": [
        "class class2 :\n",
        "    def test_class2(self) :\n",
        "        print(\"this is my class 2\")"
      ],
      "metadata": {
        "id": "F9OPPV1iRsud"
      },
      "execution_count": 18,
      "outputs": []
    },
    {
      "cell_type": "code",
      "source": [
        "class class3 (class1 , class2) :\n",
        "    pass\n",
        "obj_class3 = class3()"
      ],
      "metadata": {
        "id": "CqRFxqE_RuKC"
      },
      "execution_count": 19,
      "outputs": []
    },
    {
      "cell_type": "code",
      "source": [
        "obj_class3.test_class1()"
      ],
      "metadata": {
        "colab": {
          "base_uri": "https://localhost:8080/"
        },
        "id": "_mUMMN1YRwRV",
        "outputId": "5d0c3954-8d5c-4ba2-d000-988bb2cb7526"
      },
      "execution_count": 20,
      "outputs": [
        {
          "output_type": "stream",
          "name": "stdout",
          "text": [
            "this is my class 1\n"
          ]
        }
      ]
    },
    {
      "cell_type": "code",
      "source": [
        "obj_class3.test_class2()"
      ],
      "metadata": {
        "colab": {
          "base_uri": "https://localhost:8080/"
        },
        "id": "A4yzgVhbRxg6",
        "outputId": "f253fe58-ca45-4053-8a83-37753dd8bb12"
      },
      "execution_count": 21,
      "outputs": [
        {
          "output_type": "stream",
          "name": "stdout",
          "text": [
            "this is my class 2\n"
          ]
        }
      ]
    },
    {
      "cell_type": "markdown",
      "source": [
        "# Encapsulation"
      ],
      "metadata": {
        "id": "Mgaz3hrmSwKK"
      }
    },
    {
      "cell_type": "code",
      "source": [
        "class test :\n",
        "    def __init__(self , a,b ) :\n",
        "        self.a = a\n",
        "        self.b = b"
      ],
      "metadata": {
        "id": "KjSUNTQbRyh8"
      },
      "execution_count": 22,
      "outputs": []
    },
    {
      "cell_type": "code",
      "source": [
        "t = test(45,56)"
      ],
      "metadata": {
        "id": "XC0NyxmgS0iR"
      },
      "execution_count": 23,
      "outputs": []
    },
    {
      "cell_type": "code",
      "source": [
        "print(t.a)\n",
        "t.b"
      ],
      "metadata": {
        "colab": {
          "base_uri": "https://localhost:8080/"
        },
        "id": "TwS9eQp-S2D2",
        "outputId": "50578011-4d54-4dd6-c0ca-48c42b233e62"
      },
      "execution_count": 25,
      "outputs": [
        {
          "output_type": "stream",
          "name": "stdout",
          "text": [
            "45\n"
          ]
        },
        {
          "output_type": "execute_result",
          "data": {
            "text/plain": [
              "56"
            ]
          },
          "metadata": {},
          "execution_count": 25
        }
      ]
    },
    {
      "cell_type": "code",
      "source": [
        "t.a = 3243"
      ],
      "metadata": {
        "id": "wuIqKMtXS38F"
      },
      "execution_count": 26,
      "outputs": []
    },
    {
      "cell_type": "code",
      "source": [
        "print(t.a)\n"
      ],
      "metadata": {
        "colab": {
          "base_uri": "https://localhost:8080/"
        },
        "id": "cFOlEWOaS8mG",
        "outputId": "cdcbf0f4-bff9-4740-8f45-ee4e96a4c80c"
      },
      "execution_count": 27,
      "outputs": [
        {
          "output_type": "stream",
          "name": "stdout",
          "text": [
            "3243\n"
          ]
        }
      ]
    },
    {
      "cell_type": "code",
      "source": [
        "class bank_acount:\n",
        "\n",
        "    def __init__(self , balance ):\n",
        "        self.__balance = balance\n",
        "\n",
        "    def deposit(self , amount ) :\n",
        "        self.__balance = self.__balance + amount\n",
        "\n",
        "    def withdraw(self , amount) :\n",
        "        if self.__balance >= amount :\n",
        "            self.__balance = self.__balance -amount\n",
        "            return True\n",
        "        else :\n",
        "            return False\n",
        "\n",
        "    def get_balance(self) :\n",
        "        return self.__balance"
      ],
      "metadata": {
        "id": "XiO6cVVYTIXx"
      },
      "execution_count": 34,
      "outputs": []
    },
    {
      "cell_type": "code",
      "source": [
        "obj_bank_account = bank_acount(1000)"
      ],
      "metadata": {
        "id": "la9_7K_9TxvR"
      },
      "execution_count": 35,
      "outputs": []
    },
    {
      "cell_type": "code",
      "source": [
        "obj_bank_account.get_balance()"
      ],
      "metadata": {
        "colab": {
          "base_uri": "https://localhost:8080/"
        },
        "id": "mtup3aLgTy0R",
        "outputId": "ad06919a-3ffd-4cd3-e50f-6ecb522d7afa"
      },
      "execution_count": 36,
      "outputs": [
        {
          "output_type": "execute_result",
          "data": {
            "text/plain": [
              "1000"
            ]
          },
          "metadata": {},
          "execution_count": 36
        }
      ]
    },
    {
      "cell_type": "code",
      "source": [
        "obj_bank_account.deposit(6000)"
      ],
      "metadata": {
        "id": "PsRgpGmvT0YG"
      },
      "execution_count": 37,
      "outputs": []
    },
    {
      "cell_type": "code",
      "source": [
        "obj_bank_account.get_balance()"
      ],
      "metadata": {
        "colab": {
          "base_uri": "https://localhost:8080/"
        },
        "id": "BGPiYCl2T7oX",
        "outputId": "81683015-cf5c-43f2-8559-ac7d4bca49c3"
      },
      "execution_count": 38,
      "outputs": [
        {
          "output_type": "execute_result",
          "data": {
            "text/plain": [
              "7000"
            ]
          },
          "metadata": {},
          "execution_count": 38
        }
      ]
    },
    {
      "cell_type": "code",
      "source": [
        "obj_bank_account.withdraw(10000)"
      ],
      "metadata": {
        "colab": {
          "base_uri": "https://localhost:8080/"
        },
        "id": "3MRQj4xpT8lN",
        "outputId": "cfbbb24b-084e-491e-e030-41ab975c6c94"
      },
      "execution_count": 39,
      "outputs": [
        {
          "output_type": "execute_result",
          "data": {
            "text/plain": [
              "False"
            ]
          },
          "metadata": {},
          "execution_count": 39
        }
      ]
    },
    {
      "cell_type": "code",
      "source": [
        "obj_bank_account.withdraw(2000)"
      ],
      "metadata": {
        "colab": {
          "base_uri": "https://localhost:8080/"
        },
        "id": "E_3qrmT2T9xX",
        "outputId": "e8e31c7a-df58-46d7-b7d4-18dfdbe23108"
      },
      "execution_count": 40,
      "outputs": [
        {
          "output_type": "execute_result",
          "data": {
            "text/plain": [
              "True"
            ]
          },
          "metadata": {},
          "execution_count": 40
        }
      ]
    },
    {
      "cell_type": "code",
      "source": [
        "obj_bank_account.get_balance()"
      ],
      "metadata": {
        "colab": {
          "base_uri": "https://localhost:8080/"
        },
        "id": "GHWehMimT-vq",
        "outputId": "294ea3bb-6214-4e40-fa1f-a5cdfb3c8b7f"
      },
      "execution_count": 41,
      "outputs": [
        {
          "output_type": "execute_result",
          "data": {
            "text/plain": [
              "5000"
            ]
          },
          "metadata": {},
          "execution_count": 41
        }
      ]
    },
    {
      "cell_type": "markdown",
      "source": [
        "# Polymorphism"
      ],
      "metadata": {
        "id": "WzGY6TOBUG6e"
      }
    },
    {
      "cell_type": "code",
      "source": [
        "def test(a,b) :\n",
        "    return a+b"
      ],
      "metadata": {
        "id": "wxcSz_9DUKNi"
      },
      "execution_count": 42,
      "outputs": []
    },
    {
      "cell_type": "code",
      "source": [
        "test(4,5)"
      ],
      "metadata": {
        "colab": {
          "base_uri": "https://localhost:8080/"
        },
        "id": "07GZ-wZuUQqw",
        "outputId": "e1c58761-1500-4f1d-d57c-974f3c333f83"
      },
      "execution_count": 43,
      "outputs": [
        {
          "output_type": "execute_result",
          "data": {
            "text/plain": [
              "9"
            ]
          },
          "metadata": {},
          "execution_count": 43
        }
      ]
    },
    {
      "cell_type": "code",
      "source": [
        "test(\"sanad\" , \"kumar\")"
      ],
      "metadata": {
        "colab": {
          "base_uri": "https://localhost:8080/",
          "height": 36
        },
        "id": "McJfMAjRURqy",
        "outputId": "16701aa4-0561-4578-e55d-f7d48c7aecb0"
      },
      "execution_count": 44,
      "outputs": [
        {
          "output_type": "execute_result",
          "data": {
            "text/plain": [
              "'sanadkumar'"
            ],
            "application/vnd.google.colaboratory.intrinsic+json": {
              "type": "string"
            }
          },
          "metadata": {},
          "execution_count": 44
        }
      ]
    },
    {
      "cell_type": "code",
      "source": [
        "test([2,3,4,5,5] , [4,5,6,7])"
      ],
      "metadata": {
        "colab": {
          "base_uri": "https://localhost:8080/"
        },
        "id": "YK6Gag0jUUZN",
        "outputId": "18483c6c-0b0e-40ec-d742-16d833c5fa0e"
      },
      "execution_count": 45,
      "outputs": [
        {
          "output_type": "execute_result",
          "data": {
            "text/plain": [
              "[2, 3, 4, 5, 5, 4, 5, 6, 7]"
            ]
          },
          "metadata": {},
          "execution_count": 45
        }
      ]
    },
    {
      "cell_type": "code",
      "source": [
        "class data_science:\n",
        "    def syllabus(self) :\n",
        "        print(\"this is my method for data science syllbaus \" )"
      ],
      "metadata": {
        "id": "OToqElW5UWEx"
      },
      "execution_count": 46,
      "outputs": []
    },
    {
      "cell_type": "code",
      "source": [
        "class web_dev :\n",
        "    def syllabus(self) :\n",
        "        print(\"this is my method for web dev \" )"
      ],
      "metadata": {
        "id": "r4aNiLMjUYIh"
      },
      "execution_count": 47,
      "outputs": []
    },
    {
      "cell_type": "code",
      "source": [
        "def class_parcer(class_obj) :\n",
        "    for i in class_obj :\n",
        "        i.syllabus()"
      ],
      "metadata": {
        "id": "0sAdEgCZUZeQ"
      },
      "execution_count": 48,
      "outputs": []
    },
    {
      "cell_type": "code",
      "source": [
        "obj_data_science= data_science()"
      ],
      "metadata": {
        "id": "2itVID4BUaoS"
      },
      "execution_count": 49,
      "outputs": []
    },
    {
      "cell_type": "code",
      "source": [
        "obj_web_dev = web_dev()"
      ],
      "metadata": {
        "id": "YvhkBsHaUb1j"
      },
      "execution_count": 50,
      "outputs": []
    },
    {
      "cell_type": "code",
      "source": [
        "class_ojb = [obj_data_science , obj_web_dev]"
      ],
      "metadata": {
        "id": "6a7kSZgRUdHf"
      },
      "execution_count": 51,
      "outputs": []
    },
    {
      "cell_type": "code",
      "source": [
        "class_parcer(class_ojb)"
      ],
      "metadata": {
        "colab": {
          "base_uri": "https://localhost:8080/"
        },
        "id": "IVzzPagPUfUX",
        "outputId": "db56ece3-999d-4428-8846-463b525146f5"
      },
      "execution_count": 52,
      "outputs": [
        {
          "output_type": "stream",
          "name": "stdout",
          "text": [
            "this is my method for data science syllbaus \n",
            "this is my method for web dev \n"
          ]
        }
      ]
    },
    {
      "cell_type": "code",
      "source": [],
      "metadata": {
        "id": "VgqDrET7Ug_o"
      },
      "execution_count": null,
      "outputs": []
    }
  ]
}