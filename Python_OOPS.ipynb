{
  "nbformat": 4,
  "nbformat_minor": 0,
  "metadata": {
    "colab": {
      "provenance": [],
      "authorship_tag": "ABX9TyMNVcC+npQXAji/rSzakeA7",
      "include_colab_link": true
    },
    "kernelspec": {
      "name": "python3",
      "display_name": "Python 3"
    },
    "language_info": {
      "name": "python"
    }
  },
  "cells": [
    {
      "cell_type": "markdown",
      "metadata": {
        "id": "view-in-github",
        "colab_type": "text"
      },
      "source": [
        "<a href=\"https://colab.research.google.com/github/SANAD343/Python_For_DataScience/blob/main/Python_OOPS.ipynb\" target=\"_parent\"><img src=\"https://colab.research.google.com/assets/colab-badge.svg\" alt=\"Open In Colab\"/></a>"
      ]
    },
    {
      "cell_type": "markdown",
      "source": [
        "# What is OOPs?\n",
        "\n",
        "* Oops stands for Object-Oriented Programming System\n",
        "\n",
        "* In computer science their are various programming launguage available for instructing systems or computing devices.\n",
        "* OOPs is one of the fundamental concept for every computer launguage to provide a clear modular sturcture and effective way of solving problems\n",
        "* Obeject oriented programiing is a programing paradigm,  that deals with various fundamental of its concepts after the procedural laungage revolution.\n",
        "* The oops concept has become an essential part of our programing world to achieve better productivity, flexiblity, userfriendlyness, rapid code management."
      ],
      "metadata": {
        "id": "R186wCNWFqu9"
      }
    },
    {
      "cell_type": "markdown",
      "source": [
        "# What is Class?\n",
        "\n",
        "*  Class is nothing but, buleprint, templete,plann, design for an object. Class is a virtual entity.\n",
        "\n",
        "# What is Object?\n",
        "\n",
        "* Object is a physical instance of a class\n",
        "\n",
        "# How to define a class?\n",
        "\n",
        "* Document String\n",
        "* Constructor\n",
        "* Statement 1\n",
        "* Statement 2"
      ],
      "metadata": {
        "id": "KZN2JgSWGS-H"
      }
    },
    {
      "cell_type": "code",
      "source": [
        "a= 1\n",
        "print(type(a))"
      ],
      "metadata": {
        "colab": {
          "base_uri": "https://localhost:8080/"
        },
        "id": "AG4NCqXeGt9p",
        "outputId": "f8418a5e-a3e8-48ed-b6fc-e7920cf5e2f3"
      },
      "execution_count": 1,
      "outputs": [
        {
          "output_type": "stream",
          "name": "stdout",
          "text": [
            "<class 'int'>\n"
          ]
        }
      ]
    },
    {
      "cell_type": "code",
      "source": [
        "print(type(\"Sanad Singh\"))"
      ],
      "metadata": {
        "colab": {
          "base_uri": "https://localhost:8080/"
        },
        "id": "9o6eQMxlG9Mp",
        "outputId": "84fa861a-fd6a-4ac7-e70a-599795a5dcf3"
      },
      "execution_count": 2,
      "outputs": [
        {
          "output_type": "stream",
          "name": "stdout",
          "text": [
            "<class 'str'>\n"
          ]
        }
      ]
    },
    {
      "cell_type": "code",
      "source": [
        "class test:\n",
        "  pass\n",
        "a=test()"
      ],
      "metadata": {
        "id": "Jrr8gaEoHA_v"
      },
      "execution_count": 3,
      "outputs": []
    },
    {
      "cell_type": "code",
      "source": [
        "print(type(a))"
      ],
      "metadata": {
        "colab": {
          "base_uri": "https://localhost:8080/"
        },
        "id": "p3j1V5ogHG-2",
        "outputId": "807f959b-350c-4fca-868d-f9ea2d3fb21d"
      },
      "execution_count": 4,
      "outputs": [
        {
          "output_type": "stream",
          "name": "stdout",
          "text": [
            "<class '__main__.test'>\n"
          ]
        }
      ]
    },
    {
      "cell_type": "code",
      "source": [
        "class dataloves: # Class define\n",
        "  def welcome(self): #constructor\n",
        "    print(\"welcome to the hollow earth\") #statement\n",
        "obj=dataloves() #object calling\n",
        "obj.welcome()"
      ],
      "metadata": {
        "colab": {
          "base_uri": "https://localhost:8080/"
        },
        "id": "wjp8RusmHJ36",
        "outputId": "599a56cc-9000-459f-94b5-c0f550c06d60"
      },
      "execution_count": 5,
      "outputs": [
        {
          "output_type": "stream",
          "name": "stdout",
          "text": [
            "welcome to the hollow earth\n"
          ]
        }
      ]
    },
    {
      "cell_type": "code",
      "source": [
        "obj2=dataloves()\n",
        "obj2.welcome()"
      ],
      "metadata": {
        "colab": {
          "base_uri": "https://localhost:8080/"
        },
        "id": "sc0KWXJMHjmg",
        "outputId": "ed747439-91f0-460d-ff9b-8fbcd10f9f0f"
      },
      "execution_count": 6,
      "outputs": [
        {
          "output_type": "stream",
          "name": "stdout",
          "text": [
            "welcome to the hollow earth\n"
          ]
        }
      ]
    },
    {
      "cell_type": "code",
      "source": [
        "a=1,\n",
        "b=2\n",
        "print(a,b)"
      ],
      "metadata": {
        "colab": {
          "base_uri": "https://localhost:8080/"
        },
        "id": "BUbb2eHAINFR",
        "outputId": "375795d0-6527-484d-d1e0-bd992e930a1d"
      },
      "execution_count": 7,
      "outputs": [
        {
          "output_type": "stream",
          "name": "stdout",
          "text": [
            "(1,) 2\n"
          ]
        }
      ]
    },
    {
      "cell_type": "code",
      "source": [
        "class dataloves:\n",
        "  def __init__(self, phone_number,email_id,student_id):\n",
        "    self.phone_number=phone_number\n",
        "    self.email_id=email_id\n",
        "    self.student_id=student_id\n",
        "    print(\"Student Details\")\n",
        "  def talk(self):\n",
        "    print(\"Method execution\")\n",
        "obj=dataloves(4256489,\"sand@hotmail.com\",235)\n",
        "obj.talk()"
      ],
      "metadata": {
        "colab": {
          "base_uri": "https://localhost:8080/"
        },
        "id": "CaFEK8ERIR2y",
        "outputId": "bcebf5f3-ffda-4266-a97c-d02ea0fee76f"
      },
      "execution_count": 8,
      "outputs": [
        {
          "output_type": "stream",
          "name": "stdout",
          "text": [
            "Student Details\n",
            "Method execution\n"
          ]
        }
      ]
    },
    {
      "cell_type": "code",
      "source": [
        "# write a programm to get student details\n",
        "\n",
        "class student:\n",
        "  \"Here we got the student details\"\n",
        "  def __init__(self,sid,sname,snumber):\n",
        "    self.sid=sid\n",
        "    self.sname=sname\n",
        "    self.snumber=snumber\n",
        "  def talk(self):\n",
        "    print(\"Student Details\")\n",
        "    print(\"Student Id:\", self.sid)\n",
        "    print(\"Student Name:\", self.sname)\n",
        "    print(\"Student Name:\", self.snumber)\n",
        "obj=student(987654321,\"himanshu\",987654321)\n",
        "print(student.__doc__)\n",
        "obj.talk()"
      ],
      "metadata": {
        "colab": {
          "base_uri": "https://localhost:8080/"
        },
        "id": "8PCAl1G4JPi7",
        "outputId": "257cc409-dbf1-4d3e-f090-dd20d3488247"
      },
      "execution_count": 9,
      "outputs": [
        {
          "output_type": "stream",
          "name": "stdout",
          "text": [
            "Here we got the student details\n",
            "Student Details\n",
            "Student Id: 987654321\n",
            "Student Name: himanshu\n",
            "Student Name: 987654321\n"
          ]
        }
      ]
    },
    {
      "cell_type": "code",
      "source": [
        "# write a programm to get empployee  details using OOPS\n",
        "class emp:\n",
        "  def __init__(self,empname,empage,empcompany,empsalary,emprole):\n",
        "    self.empname=empname\n",
        "    self.empage=empage\n",
        "    self.empcompany=empcompany\n",
        "    self.empsalary=empsalary\n",
        "    self.emprole=emprole\n",
        "  def talk(self):\n",
        "    print(\"method exection\")\n",
        "    print(\"hello my name is:\", self.empname)\n",
        "    print(\"hello my age is:\",self.empname)\n",
        "    print(\"hello my company is:\",self.empcompany)\n",
        "    print(\"hello my salary is:\",self.empsalary)\n",
        "    print(\"hello my role is:\",self.emprole)\n",
        "obj=emp(\"sanad\",29,\"deeshaw\",52000,\"datascientist\")\n",
        "print(emp.__doc__)\n",
        "obj.talk()"
      ],
      "metadata": {
        "colab": {
          "base_uri": "https://localhost:8080/"
        },
        "id": "jSfEZLm-Lo8X",
        "outputId": "59fc4bd1-8500-443b-fe18-bbc1cc0cb1e0"
      },
      "execution_count": 10,
      "outputs": [
        {
          "output_type": "stream",
          "name": "stdout",
          "text": [
            "None\n",
            "method exection\n",
            "hello my name is: sanad\n",
            "hello my age is: sanad\n",
            "hello my company is: deeshaw\n",
            "hello my salary is: 52000\n",
            "hello my role is: datascientist\n"
          ]
        }
      ]
    },
    {
      "cell_type": "code",
      "source": [
        "# write a programm to get details of multiple employee using OOPS.\n",
        "\n",
        "\n",
        "class emp:\n",
        "  \"we can get employee data using OOPs\"\n",
        "  def __init__(self,empname,empage,empcompany,empsalary,emprole):\n",
        "    self.empname=empname\n",
        "    self.empage=empage\n",
        "    self.empcompany=empcompany\n",
        "    self.empsalary=empsalary\n",
        "    self.emprole=emprole\n",
        "  def talk(self):\n",
        "    print(\"method exection\")\n",
        "    print(\"hello my name is:\", self.empname)\n",
        "    print(\"hello my age is:\",self.empage)\n",
        "    print(\"hello my company is:\",self.empcompany)\n",
        "    print(\"hello my salary is:\",self.empsalary)\n",
        "    print(\"hello my role is:\",self.emprole)\n",
        "obj=emp(\"sanad\",29,\"deeshaw\",52000,\"datascientist\")\n",
        "obj1=emp(\"himanshu\",30,\"deeshaw\",60000,\"datascientist\")\n",
        "print(emp.__doc__)\n",
        "obj.talk()\n",
        "obj1.talk()"
      ],
      "metadata": {
        "colab": {
          "base_uri": "https://localhost:8080/"
        },
        "id": "lKG3aQkvMB5l",
        "outputId": "dc474c85-40f8-4a0a-8c4a-e524d8ff2f0e"
      },
      "execution_count": 11,
      "outputs": [
        {
          "output_type": "stream",
          "name": "stdout",
          "text": [
            "we can get employee data using OOPs\n",
            "method exection\n",
            "hello my name is: sanad\n",
            "hello my age is: 29\n",
            "hello my company is: deeshaw\n",
            "hello my salary is: 52000\n",
            "hello my role is: datascientist\n",
            "method exection\n",
            "hello my name is: himanshu\n",
            "hello my age is: 30\n",
            "hello my company is: deeshaw\n",
            "hello my salary is: 60000\n",
            "hello my role is: datascientist\n"
          ]
        }
      ]
    },
    {
      "cell_type": "code",
      "source": [
        "class emp:\n",
        "  \"we can get employee data using OOPs\"\n",
        "  def __init__(self,empname,empage,empcompany,empsalary,emprole):\n",
        "    self.empname=empname\n",
        "    self.empage=empage\n",
        "    self.empcompany=empcompany\n",
        "    self.empsalary=empsalary\n",
        "    self.emprole=emprole\n",
        "  def talk(self):\n",
        "    print(\"hello my name is:\", self.empname)\n",
        "    print(\"hello my age is:\",self.empage)\n",
        "    print(\"hello my company is:\",self.empcompany)\n",
        "    print(\"hello my salary is:\",self.empsalary)\n",
        "    print(\"hello my role is:\",self.emprole)\n",
        "obj=emp(\"sanad\",29,\"deeshaw\",52000,\"datascientist\")\n",
        "print(emp.__doc__)\n",
        "obj.talk()"
      ],
      "metadata": {
        "colab": {
          "base_uri": "https://localhost:8080/"
        },
        "id": "PtdQzw8yMYz8",
        "outputId": "653b59d0-0b45-43dd-91f4-3b9cd57c1fa9"
      },
      "execution_count": 12,
      "outputs": [
        {
          "output_type": "stream",
          "name": "stdout",
          "text": [
            "we can get employee data using OOPs\n",
            "hello my name is: sanad\n",
            "hello my age is: 29\n",
            "hello my company is: deeshaw\n",
            "hello my salary is: 52000\n",
            "hello my role is: datascientist\n"
          ]
        }
      ]
    },
    {
      "cell_type": "code",
      "source": [
        "class emp:\n",
        "  \"we can get employee data using OOPs\"\n",
        "  def __init__(self,empname,empage,empcompany,empsalary,emprole):\n",
        "    self.empname=empname\n",
        "    self.empage=empage\n",
        "    self.empcompany=empcompany\n",
        "    self.empsalary=empsalary\n",
        "    self.emprole=emprole\n",
        "  def talk(self):\n",
        "    print(\"hello my name is:\", self.empname)\n",
        "    print(\"hello my age is:\",self.empname)\n",
        "    print(\"hello my company is:\",self.empcompany)\n",
        "    print(\"hello my salary is:\",self.empsalary)\n",
        "    print(\"hello my role is:\",self.emprole)\n",
        "\n",
        "obj=emp(\"sanad\",29,\"deeshaw\",52000,\"datascientist\")\n",
        "\n",
        "obj1=emp(\"himanshu\",30,\"deeshaw\",60000,\"datascientist\")\n",
        "\n",
        "print(emp.__doc__)\n",
        "\n",
        "obj.talk()\n",
        "print(\"-----------------------------------------------------------\")\n",
        "\n",
        "\n",
        "obj1.talk()\n",
        "print(\"-----------------------------------------------------------\")"
      ],
      "metadata": {
        "colab": {
          "base_uri": "https://localhost:8080/"
        },
        "id": "u4O5NnwPMoxj",
        "outputId": "63eb16b8-b527-4bd5-de07-7c1734801c03"
      },
      "execution_count": 13,
      "outputs": [
        {
          "output_type": "stream",
          "name": "stdout",
          "text": [
            "we can get employee data using OOPs\n",
            "hello my name is: sanad\n",
            "hello my age is: sanad\n",
            "hello my company is: deeshaw\n",
            "hello my salary is: 52000\n",
            "hello my role is: datascientist\n",
            "-----------------------------------------------------------\n",
            "hello my name is: himanshu\n",
            "hello my age is: himanshu\n",
            "hello my company is: deeshaw\n",
            "hello my salary is: 60000\n",
            "hello my role is: datascientist\n",
            "-----------------------------------------------------------\n"
          ]
        }
      ]
    },
    {
      "cell_type": "code",
      "source": [
        "print(help(emp))"
      ],
      "metadata": {
        "id": "uPmzHQYPM2jX",
        "colab": {
          "base_uri": "https://localhost:8080/"
        },
        "outputId": "5a823e47-f6b1-4579-a9a3-cb3ed000d993"
      },
      "execution_count": 14,
      "outputs": [
        {
          "output_type": "stream",
          "name": "stdout",
          "text": [
            "Help on class emp in module __main__:\n",
            "\n",
            "class emp(builtins.object)\n",
            " |  emp(empname, empage, empcompany, empsalary, emprole)\n",
            " |  \n",
            " |  we can get employee data using OOPs\n",
            " |  \n",
            " |  Methods defined here:\n",
            " |  \n",
            " |  __init__(self, empname, empage, empcompany, empsalary, emprole)\n",
            " |      Initialize self.  See help(type(self)) for accurate signature.\n",
            " |  \n",
            " |  talk(self)\n",
            " |  \n",
            " |  ----------------------------------------------------------------------\n",
            " |  Data descriptors defined here:\n",
            " |  \n",
            " |  __dict__\n",
            " |      dictionary for instance variables (if defined)\n",
            " |  \n",
            " |  __weakref__\n",
            " |      list of weak references to the object (if defined)\n",
            "\n",
            "None\n"
          ]
        }
      ]
    },
    {
      "cell_type": "code",
      "source": [
        "class emp:\n",
        "  def __init__(self):\n",
        "    print(id(self))\n",
        "obj=emp()\n",
        "print(id(obj))"
      ],
      "metadata": {
        "colab": {
          "base_uri": "https://localhost:8080/"
        },
        "id": "kLzbEYqT-Oth",
        "outputId": "b5725600-19bd-4e9c-9a73-da29507754e7"
      },
      "execution_count": 16,
      "outputs": [
        {
          "output_type": "stream",
          "name": "stdout",
          "text": [
            "136392659744368\n",
            "136392659744368\n"
          ]
        }
      ]
    },
    {
      "cell_type": "code",
      "source": [
        "class emp:\n",
        "  \"we can get employee data using OOPs\"\n",
        "  def __init__(self,empname,empage,empcompany,empsalary,emprole):\n",
        "    self.empname=\"sanad\"\n",
        "    self.empage=29\n",
        "    self.empcompany=\"deeshaw\"\n",
        "    self.empsalary=520000\n",
        "    self.emprole=\"datascientist\"\n",
        "    print(\"constructor execution\")\n",
        "  def talk(self):\n",
        "    print(\"method exection\")\n",
        "    print(\"hello my name is:\", self.empname)\n",
        "    print(\"hello my age is:\",self.empage)\n",
        "    print(\"hello my company is:\",self.empcompany)\n",
        "    print(\"hello my salary is:\",self.empsalary)\n",
        "    print(\"hello my role is:\",self.emprole)\n",
        "obj=emp(\"sanad\",29,\"deeshaw\",52000,\"datascientist\")\n",
        "print(emp.__doc__)\n",
        "obj.talk()"
      ],
      "metadata": {
        "id": "MXLgb6lL_NFW"
      },
      "execution_count": null,
      "outputs": []
    },
    {
      "cell_type": "markdown",
      "source": [
        "# Constructor\n",
        "\n",
        "* Whenever we are creating object, constructor will be executed automatically and we are not required to call expcitelly.\n",
        "* The main objective of the constructor is to declair and initilize variable.\n",
        "* For every object constructor will be executed only once. This will be called as default constructor."
      ],
      "metadata": {
        "id": "0OJPd7x1_uv4"
      }
    },
    {
      "cell_type": "markdown",
      "source": [
        "# What is Self?\n",
        "\n",
        "* Self is an implicite variable which is always provided by the PVM 'python virtual machine.\n",
        "* Self is always pointing to the current onject.\n",
        "* For every constructor an instance method, the first argument should be self."
      ],
      "metadata": {
        "id": "ITlnXJk0ADOG"
      }
    },
    {
      "cell_type": "code",
      "source": [
        "class test:\n",
        "  def __init__(self):\n",
        "    print(\"constructor execution\")\n",
        "t=test()"
      ],
      "metadata": {
        "colab": {
          "base_uri": "https://localhost:8080/"
        },
        "id": "DRuHBTKCAO84",
        "outputId": "f8e7008c-ad3f-433f-e0b7-1fbabf9793bc"
      },
      "execution_count": 17,
      "outputs": [
        {
          "output_type": "stream",
          "name": "stdout",
          "text": [
            "constructor execution\n"
          ]
        }
      ]
    },
    {
      "cell_type": "code",
      "source": [
        "class test:\n",
        "  def __init__(self):\n",
        "    self.x=10\n",
        "    self.y=20\n",
        "  def demo(self):\n",
        "    print(self.x)\n",
        "    print(self.y)\n",
        "obj=test()\n",
        "obj.demo()"
      ],
      "metadata": {
        "colab": {
          "base_uri": "https://localhost:8080/"
        },
        "id": "u-10vdmrAiGk",
        "outputId": "bcdee5d1-0b6c-45dc-9bf0-02f47d86af4e"
      },
      "execution_count": 18,
      "outputs": [
        {
          "output_type": "stream",
          "name": "stdout",
          "text": [
            "10\n",
            "20\n"
          ]
        }
      ]
    },
    {
      "cell_type": "code",
      "source": [
        "class test:\n",
        "  def __init__(self):\n",
        "    self.x=10\n",
        "    self.y=20\n",
        "  def demo(self):\n",
        "    print(self.x)\n",
        "    print(self.y)\n",
        "t=test()"
      ],
      "metadata": {
        "id": "a0QU-BDaBMX3"
      },
      "execution_count": 20,
      "outputs": []
    },
    {
      "cell_type": "code",
      "source": [
        "class test:  #if two constructor, or two method but different argument it will be known as overloded, only considered by PVM last.9\n",
        "  def __init__(self):\n",
        "    print(\"no argument\")\n",
        "  def __init__(self,x):\n",
        "    print(\"one argument\")\n",
        "t1=test(10)"
      ],
      "metadata": {
        "colab": {
          "base_uri": "https://localhost:8080/"
        },
        "id": "o8FTCY1-BRTf",
        "outputId": "4236d337-de6f-4146-ee98-ae4491873e8d"
      },
      "execution_count": 21,
      "outputs": [
        {
          "output_type": "stream",
          "name": "stdout",
          "text": [
            "one argument\n"
          ]
        }
      ]
    },
    {
      "cell_type": "code",
      "source": [
        "#printing multiple candidates details\n",
        "class student:\n",
        "  cname=\"dataloves\"\n",
        "  def __init__(self,sid,sname,sage):\n",
        "    self.sid=sid\n",
        "    self.sname=sname\n",
        "    self.sage=sage\n",
        "  def display(self):\n",
        "    print(\"hello my id is:\", self.sid)\n",
        "    print(\"hello my name is :\",self.sname)\n",
        "    print(\"hello my age is:\",self.sage)\n",
        "    print(\"hello my college name is:\",self.cname)\n",
        "obj=student(2453, \"sanad\",29)\n",
        "obj2=student(111,\"himanshu\",65)\n",
        "obj3=student(564,\"Raj\",69)\n",
        "print(\"data1\")\n",
        "obj.display()\n",
        "print(\"data2\")\n",
        "obj2.display()\n",
        "print(\"data3\")\n",
        "obj3.display()"
      ],
      "metadata": {
        "colab": {
          "base_uri": "https://localhost:8080/"
        },
        "id": "an12mmF_B0qE",
        "outputId": "e567facd-669a-4e9c-8567-bf198f11eff0"
      },
      "execution_count": 22,
      "outputs": [
        {
          "output_type": "stream",
          "name": "stdout",
          "text": [
            "data1\n",
            "hello my id is: 2453\n",
            "hello my name is : sanad\n",
            "hello my age is: 29\n",
            "hello my college name is: dataloves\n",
            "data2\n",
            "hello my id is: 111\n",
            "hello my name is : himanshu\n",
            "hello my age is: 65\n",
            "hello my college name is: dataloves\n",
            "data3\n",
            "hello my id is: 564\n",
            "hello my name is : Raj\n",
            "hello my age is: 69\n",
            "hello my college name is: dataloves\n"
          ]
        }
      ]
    },
    {
      "cell_type": "code",
      "source": [
        "class student:\n",
        "  cname=\"dataloves\" #statice variable\n",
        "  def __init__(self,sid,sname,sage): #constructor parametrized\n",
        "    self.sid=sid #instance variable\n",
        "    self.sname=sname\n",
        "    self.sage=sage\n",
        "  def display (self): #instance method\n",
        "    print(\"hello my id is:\", self.sid) #instance varibale\n",
        "    print(\"hello my name is :\",self.sname)\n",
        "    print(\"hello my age is:\",self.sage)\n",
        "  @classmethod #decorator\n",
        "  def getCollegename(cls):\n",
        "    print(\"college name is:\", cls.cname)\n",
        "    #print(\"hello my college name is:\",self.cname)\n",
        "    #use of statice variable by self, but we are not reccomended to do this.\n",
        "obj=student(2453, \"sanad\",29)\n",
        "obj2=student(111,\"himanshu\",65)\n",
        "obj3=student(564,\"Raj\",69)\n",
        "student.getCollegename()\n",
        "print(\"data1\")\n",
        "obj.display()\n",
        "print(\"data2\")\n",
        "obj2.display()\n",
        "print(\"data3\")\n",
        "obj3.display()"
      ],
      "metadata": {
        "colab": {
          "base_uri": "https://localhost:8080/"
        },
        "id": "wbD2OmmbCb_k",
        "outputId": "ba21900e-99af-4eea-85b5-c662e008fcd9"
      },
      "execution_count": 23,
      "outputs": [
        {
          "output_type": "stream",
          "name": "stdout",
          "text": [
            "college name is: dataloves\n",
            "data1\n",
            "hello my id is: 2453\n",
            "hello my name is : sanad\n",
            "hello my age is: 29\n",
            "data2\n",
            "hello my id is: 111\n",
            "hello my name is : himanshu\n",
            "hello my age is: 65\n",
            "data3\n",
            "hello my id is: 564\n",
            "hello my name is : Raj\n",
            "hello my age is: 69\n"
          ]
        }
      ]
    },
    {
      "cell_type": "code",
      "source": [
        "class student:\n",
        "  cname=\"dataloves\" #statice variable\n",
        "  def __init__(self,sid,sname,sage): #constructor parametrized\n",
        "    self.sid=sid #instance variable\n",
        "    self.sname=sname\n",
        "    self.sage=sage\n",
        "  def display (self): #instance method\n",
        "    print(\"hello my id is:\", self.sid) #instance varibale\n",
        "    print(\"hello my name is :\",self.sname)\n",
        "    print(\"hello my age is:\",self.sage)\n",
        "  @classmethod #decorator\n",
        "  def getCollegename(cls):\n",
        "    print(\"college name is:\", cls.cname)\n",
        "  def findavg(x,y):\n",
        "    print(\"Average is:\",(x+y)/2 )\n",
        "    #print(\"hello my college name is:\",self.cname) #use of statice variable by self, but we are not reccomended to do this.\n",
        "obj=student(2453, \"sanad\",29)\n",
        "obj2=student(111,\"himanshu\",65)\n",
        "obj3=student(564,\"Raj\",69)\n",
        "student.getCollegename()\n",
        "student.findavg(10,5)\n",
        "print(\"data1\")\n",
        "obj.display()\n",
        "print(\"data2\")\n",
        "obj2.display()\n",
        "print(\"data3\")\n",
        "obj3.display()"
      ],
      "metadata": {
        "colab": {
          "base_uri": "https://localhost:8080/"
        },
        "id": "6P865gzFDCij",
        "outputId": "37bcb506-3133-4db3-cb52-123075d44da5"
      },
      "execution_count": 24,
      "outputs": [
        {
          "output_type": "stream",
          "name": "stdout",
          "text": [
            "college name is: dataloves\n",
            "Average is: 7.5\n",
            "data1\n",
            "hello my id is: 2453\n",
            "hello my name is : sanad\n",
            "hello my age is: 29\n",
            "data2\n",
            "hello my id is: 111\n",
            "hello my name is : himanshu\n",
            "hello my age is: 65\n",
            "data3\n",
            "hello my id is: 564\n",
            "hello my name is : Raj\n",
            "hello my age is: 69\n"
          ]
        }
      ]
    },
    {
      "cell_type": "code",
      "source": [
        "class employee: #use of constructor\n",
        "  salutation=\"welcome all\" #class attributes\n",
        "  def __init__(self):\n",
        "    self.ename=\"sanad\"\n",
        "    self.eid=234\n",
        "  def display(self):\n",
        "    print(\"employee name is :%s \\nemployee id:%d\"%(self.ename,self.eid))\n",
        "print(obj.salutation)\n",
        "obj=employee()\n",
        "obj.display()"
      ],
      "metadata": {
        "colab": {
          "base_uri": "https://localhost:8080/"
        },
        "id": "tfnbAYiTDOCg",
        "outputId": "ffe026e2-0651-4ce9-ff05-fb4cfcc29c61"
      },
      "execution_count": 28,
      "outputs": [
        {
          "output_type": "stream",
          "name": "stdout",
          "text": [
            "welcome all\n",
            "employee name is :sanad \n",
            "employee id:234\n"
          ]
        }
      ]
    },
    {
      "cell_type": "markdown",
      "source": [
        "# what is python constructor?\n",
        "\n",
        "* In programm construction, every statement like data attributes, class members, methods and other objects must be present within the class boundary.\n",
        "\n",
        "* A constructor is a special type of method that help to initilize a newly created object.\n",
        "\n",
        "* Depending on constructor (init method) we can pass ant no of the arguments by creating the class objects.\n",
        "\n",
        "* Their are two type of constructor available in python programm in order to initlize instance member of the class.\n",
        "\n",
        "* Non Parameterized and Parameterized constructors.\n",
        "\n"
      ],
      "metadata": {
        "id": "D_NFBp0RDzO5"
      }
    },
    {
      "cell_type": "code",
      "source": [
        "class dataloves: #Example of Non Parametrized Constructor\n",
        "\n",
        "  community=\"\"\n",
        "  def __init__(self):\n",
        "    self.community=\"welcome to dataloves trainee\"\n",
        "  def display(self):\n",
        "    print(self.community)\n",
        "obj=dataloves()\n",
        "obj.display()"
      ],
      "metadata": {
        "colab": {
          "base_uri": "https://localhost:8080/"
        },
        "id": "eF3nLMcCD_BR",
        "outputId": "e1c1176f-9202-4b7e-ce76-30321f97359c"
      },
      "execution_count": 29,
      "outputs": [
        {
          "output_type": "stream",
          "name": "stdout",
          "text": [
            "welcome to dataloves trainee\n"
          ]
        }
      ]
    },
    {
      "cell_type": "code",
      "source": [
        "# Example for Parametrized Constructor\n",
        "\n",
        "class fruits:\n",
        "  def __init__(self,fname,fcolor):\n",
        "    self.fname=fname\n",
        "    self.fcolor=fcolor\n",
        "  def display(self):\n",
        "    print(\"fruit name:\",self.fname)\n",
        "    print(\"fruit color\",self.fcolor)\n",
        "fruit=fruits(\"orange\",\"orange\")\n",
        "fruit2=fruits(\"apple\",\"red\")\n",
        "fruit3=fruits(\"banana\",\"yellow\")\n",
        "fruit4=fruits(\"Pear\",\"green\")\n",
        "fruit.display()\n",
        "fruit2.display()\n",
        "fruit3.display()\n",
        "fruit4.display()"
      ],
      "metadata": {
        "colab": {
          "base_uri": "https://localhost:8080/"
        },
        "id": "79qGWJ1vEWqC",
        "outputId": "30e47c59-b6b9-461e-f44c-ff4d454436bc"
      },
      "execution_count": 30,
      "outputs": [
        {
          "output_type": "stream",
          "name": "stdout",
          "text": [
            "fruit name: orange\n",
            "fruit color orange\n",
            "fruit name: apple\n",
            "fruit color red\n",
            "fruit name: banana\n",
            "fruit color yellow\n",
            "fruit name: Pear\n",
            "fruit color green\n"
          ]
        }
      ]
    },
    {
      "cell_type": "code",
      "source": [
        "class fruits:\n",
        "  total=0\n",
        "  def __init__(self,fname,fcolor):\n",
        "    self.fname=fname\n",
        "    self.fcolor=fcolor\n",
        "    fruits.total+=1\n",
        "  def display(self):\n",
        "    print(\"fruit name:\",self.fname)\n",
        "    print(\"fruit color\",self.fcolor)\n",
        "fruit=fruits(\"orange\",\"orange\")\n",
        "fruit2=fruits(\"apple\",\"red\")\n",
        "fruit3=fruits(\"banana\",\"yellow\")\n",
        "fruit4=fruits(\"Pear\",\"green\")\n",
        "fruit.display()\n",
        "fruit2.display()\n",
        "fruit3.display()\n",
        "fruit4.display()\n",
        "print(fruits.total) #total number of fruits"
      ],
      "metadata": {
        "colab": {
          "base_uri": "https://localhost:8080/"
        },
        "id": "Eu0y1ND2EuME",
        "outputId": "60bfce1a-c811-4e64-ff85-7f3628c6e200"
      },
      "execution_count": 31,
      "outputs": [
        {
          "output_type": "stream",
          "name": "stdout",
          "text": [
            "fruit name: orange\n",
            "fruit color orange\n",
            "fruit name: apple\n",
            "fruit color red\n",
            "fruit name: banana\n",
            "fruit color yellow\n",
            "fruit name: Pear\n",
            "fruit color green\n",
            "4\n"
          ]
        }
      ]
    },
    {
      "cell_type": "code",
      "source": [
        "# Arithmetic Operations using Oops\n",
        "\n",
        "class calculation:\n",
        "  def __init__(self,a,b):\n",
        "    self.a=a\n",
        "    self.b=b\n",
        "  def add(self):\n",
        "    print(\"addidtion:\",self.a+self.b)\n",
        "  def sub(self):\n",
        "    print(\"sub:\",self.a-self.b)\n",
        "  def multiplication(self):\n",
        "    print(\"multiplication:\",self.a*self.b)\n",
        "  def division(self):\n",
        "    print(\"division:\",self.a/self.b)\n",
        "  def floorDivision(self):\n",
        "    print(\"floordivision:\",self.a//self.b)\n",
        "  def mod(self):\n",
        "    print(\"modulous:\",self.a%self.b)\n",
        "obj=calculation(a=int(input(\"enter the number\")),b=int(input(\"enter the number\")))\n",
        "obj.add()\n",
        "obj.sub()\n",
        "obj.multiplication()\n",
        "obj.division()\n",
        "obj.floorDivision()\n",
        "obj.mod()"
      ],
      "metadata": {
        "colab": {
          "base_uri": "https://localhost:8080/"
        },
        "id": "1kszoHHhEvIw",
        "outputId": "9c3f2a64-18de-4465-c9b8-c049c1dbc5ae"
      },
      "execution_count": 32,
      "outputs": [
        {
          "output_type": "stream",
          "name": "stdout",
          "text": [
            "enter the number9\n",
            "enter the number6\n",
            "addidtion: 15\n",
            "sub: 3\n",
            "multiplication: 54\n",
            "division: 1.5\n",
            "floordivision: 1\n",
            "modulous: 3\n"
          ]
        }
      ]
    },
    {
      "cell_type": "code",
      "source": [
        "class calculation:\n",
        "  def __init__(self,a,b):\n",
        "    self.a=a\n",
        "    self.b=b\n",
        "  def add(self):\n",
        "    print(\"addidtion:\",self.a+self.b)\n",
        "  def sub(self):\n",
        "    print(\"sub:\",self.a-self.b)\n",
        "  def multiplication(self):\n",
        "    print(\"multiplication:\",self.a*self.b)\n",
        "  def division(self):\n",
        "    print(\"division:\",self.a/self.b)\n",
        "  def floorDivision(self):\n",
        "    print(\"floordivision:\",self.a//self.b)\n",
        "  def mod(self):\n",
        "    print(\"modulous:\",self.a%self.b)\n",
        "p=int(input(\"enter the number\"))\n",
        "q=int(input(\"enter the number\"))\n",
        "obj=calculation(p,q)\n",
        "obj.add()\n",
        "obj.sub()\n",
        "obj.multiplication()\n",
        "obj.division()\n",
        "obj.floorDivision()\n",
        "obj.mod()"
      ],
      "metadata": {
        "colab": {
          "base_uri": "https://localhost:8080/"
        },
        "id": "NfZ4LNUUE66U",
        "outputId": "f55c6aca-32a3-4c38-e7e6-1ad32e32cdc9"
      },
      "execution_count": 33,
      "outputs": [
        {
          "output_type": "stream",
          "name": "stdout",
          "text": [
            "enter the number100\n",
            "enter the number50\n",
            "addidtion: 150\n",
            "sub: 50\n",
            "multiplication: 5000\n",
            "division: 2.0\n",
            "floordivision: 2\n",
            "modulous: 0\n"
          ]
        }
      ]
    },
    {
      "cell_type": "code",
      "source": [
        "class calculation:\n",
        "  def __init__(self,a,b):\n",
        "    self.a=a\n",
        "    self.b=b\n",
        "  def add(self):\n",
        "    print(\"addidtion:\",self.a+self.b)\n",
        "  def sub(self):\n",
        "    print(\"sub:\",self.a-self.b)\n",
        "  def multiplication(self):\n",
        "    print(\"multiplication:\",self.a*self.b)\n",
        "  def division(self):\n",
        "    print(\"division:\",self.a/self.b)\n",
        "  def floorDivision(self):\n",
        "    print(\"floordivision:\",self.a//self.b)\n",
        "  def mod(self):\n",
        "    print(\"modulous:\",self.a%self.b)\n",
        "p=str(input(\"enter the number\")) #string wwill not work\n",
        "q=str(input(\"enter the number\"))\n",
        "obj=calculation(p,q)\n",
        "obj.add()\n",
        "obj.sub()\n",
        "obj.multiplication()\n",
        "obj.division()\n",
        "obj.floorDivision()\n",
        "obj.mod()"
      ],
      "metadata": {
        "colab": {
          "base_uri": "https://localhost:8080/",
          "height": 401
        },
        "id": "fjq_t-CDFKOi",
        "outputId": "7bffaeb7-53be-4854-d109-46c53d4902f3"
      },
      "execution_count": 34,
      "outputs": [
        {
          "output_type": "stream",
          "name": "stdout",
          "text": [
            "enter the number50\n",
            "enter the number50\n",
            "addidtion: 5050\n"
          ]
        },
        {
          "output_type": "error",
          "ename": "TypeError",
          "evalue": "unsupported operand type(s) for -: 'str' and 'str'",
          "traceback": [
            "\u001b[0;31m---------------------------------------------------------------------------\u001b[0m",
            "\u001b[0;31mTypeError\u001b[0m                                 Traceback (most recent call last)",
            "\u001b[0;32m<ipython-input-34-ea11eb97593d>\u001b[0m in \u001b[0;36m<cell line: 21>\u001b[0;34m()\u001b[0m\n\u001b[1;32m     19\u001b[0m \u001b[0mobj\u001b[0m\u001b[0;34m=\u001b[0m\u001b[0mcalculation\u001b[0m\u001b[0;34m(\u001b[0m\u001b[0mp\u001b[0m\u001b[0;34m,\u001b[0m\u001b[0mq\u001b[0m\u001b[0;34m)\u001b[0m\u001b[0;34m\u001b[0m\u001b[0;34m\u001b[0m\u001b[0m\n\u001b[1;32m     20\u001b[0m \u001b[0mobj\u001b[0m\u001b[0;34m.\u001b[0m\u001b[0madd\u001b[0m\u001b[0;34m(\u001b[0m\u001b[0;34m)\u001b[0m\u001b[0;34m\u001b[0m\u001b[0;34m\u001b[0m\u001b[0m\n\u001b[0;32m---> 21\u001b[0;31m \u001b[0mobj\u001b[0m\u001b[0;34m.\u001b[0m\u001b[0msub\u001b[0m\u001b[0;34m(\u001b[0m\u001b[0;34m)\u001b[0m\u001b[0;34m\u001b[0m\u001b[0;34m\u001b[0m\u001b[0m\n\u001b[0m\u001b[1;32m     22\u001b[0m \u001b[0mobj\u001b[0m\u001b[0;34m.\u001b[0m\u001b[0mmultiplication\u001b[0m\u001b[0;34m(\u001b[0m\u001b[0;34m)\u001b[0m\u001b[0;34m\u001b[0m\u001b[0;34m\u001b[0m\u001b[0m\n\u001b[1;32m     23\u001b[0m \u001b[0mobj\u001b[0m\u001b[0;34m.\u001b[0m\u001b[0mdivision\u001b[0m\u001b[0;34m(\u001b[0m\u001b[0;34m)\u001b[0m\u001b[0;34m\u001b[0m\u001b[0;34m\u001b[0m\u001b[0m\n",
            "\u001b[0;32m<ipython-input-34-ea11eb97593d>\u001b[0m in \u001b[0;36msub\u001b[0;34m(self)\u001b[0m\n\u001b[1;32m      6\u001b[0m     \u001b[0mprint\u001b[0m\u001b[0;34m(\u001b[0m\u001b[0;34m\"addidtion:\"\u001b[0m\u001b[0;34m,\u001b[0m\u001b[0mself\u001b[0m\u001b[0;34m.\u001b[0m\u001b[0ma\u001b[0m\u001b[0;34m+\u001b[0m\u001b[0mself\u001b[0m\u001b[0;34m.\u001b[0m\u001b[0mb\u001b[0m\u001b[0;34m)\u001b[0m\u001b[0;34m\u001b[0m\u001b[0;34m\u001b[0m\u001b[0m\n\u001b[1;32m      7\u001b[0m   \u001b[0;32mdef\u001b[0m \u001b[0msub\u001b[0m\u001b[0;34m(\u001b[0m\u001b[0mself\u001b[0m\u001b[0;34m)\u001b[0m\u001b[0;34m:\u001b[0m\u001b[0;34m\u001b[0m\u001b[0;34m\u001b[0m\u001b[0m\n\u001b[0;32m----> 8\u001b[0;31m     \u001b[0mprint\u001b[0m\u001b[0;34m(\u001b[0m\u001b[0;34m\"sub:\"\u001b[0m\u001b[0;34m,\u001b[0m\u001b[0mself\u001b[0m\u001b[0;34m.\u001b[0m\u001b[0ma\u001b[0m\u001b[0;34m-\u001b[0m\u001b[0mself\u001b[0m\u001b[0;34m.\u001b[0m\u001b[0mb\u001b[0m\u001b[0;34m)\u001b[0m\u001b[0;34m\u001b[0m\u001b[0;34m\u001b[0m\u001b[0m\n\u001b[0m\u001b[1;32m      9\u001b[0m   \u001b[0;32mdef\u001b[0m \u001b[0mmultiplication\u001b[0m\u001b[0;34m(\u001b[0m\u001b[0mself\u001b[0m\u001b[0;34m)\u001b[0m\u001b[0;34m:\u001b[0m\u001b[0;34m\u001b[0m\u001b[0;34m\u001b[0m\u001b[0m\n\u001b[1;32m     10\u001b[0m     \u001b[0mprint\u001b[0m\u001b[0;34m(\u001b[0m\u001b[0;34m\"multiplication:\"\u001b[0m\u001b[0;34m,\u001b[0m\u001b[0mself\u001b[0m\u001b[0;34m.\u001b[0m\u001b[0ma\u001b[0m\u001b[0;34m*\u001b[0m\u001b[0mself\u001b[0m\u001b[0;34m.\u001b[0m\u001b[0mb\u001b[0m\u001b[0;34m)\u001b[0m\u001b[0;34m\u001b[0m\u001b[0;34m\u001b[0m\u001b[0m\n",
            "\u001b[0;31mTypeError\u001b[0m: unsupported operand type(s) for -: 'str' and 'str'"
          ]
        }
      ]
    },
    {
      "cell_type": "markdown",
      "source": [
        "# Accessing instance attribiute\n",
        "\n",
        "* In python we can access the object, variable using the dot operator, for calling the instance methodd in a programm you should create an object from the class that will\n",
        "provide accibility of class member, an attributes with the help of the dot operator"
      ],
      "metadata": {
        "id": "pzQovNGoF4PO"
      }
    },
    {
      "cell_type": "code",
      "source": [
        "class community:\n",
        "  def __init__(sanad,name,year):\n",
        "    sanad.name=name\n",
        "    sanad.year=year\n",
        "  def demo(sanad):\n",
        "    print(\"hello good aternoon\")\n",
        "obj=community(\"datalove is a community\",\"year of establismnet was 2019\")\n",
        "obj.demo()"
      ],
      "metadata": {
        "colab": {
          "base_uri": "https://localhost:8080/"
        },
        "id": "XPbpY6R-GKLT",
        "outputId": "0fbe2e88-49cf-4b22-81a4-5a54275cb22b"
      },
      "execution_count": 35,
      "outputs": [
        {
          "output_type": "stream",
          "name": "stdout",
          "text": [
            "hello good aternoon\n"
          ]
        }
      ]
    },
    {
      "cell_type": "code",
      "source": [
        "class community:\n",
        "  def __init__(sanad,name,year):\n",
        "    sanad.name=name\n",
        "    sanad.year=year\n",
        "  def demo(sanad):\n",
        "    print(\"hello good aternoon\")\n",
        "obj=community(\"datalove is a community\",\"year of establismnet was 2019\")\n",
        "obj.demo()\n",
        "print(\"welcome to\",obj.name,\"and\",obj.year) #dot operator"
      ],
      "metadata": {
        "colab": {
          "base_uri": "https://localhost:8080/"
        },
        "id": "slcUo0DGGLbI",
        "outputId": "0d2560e2-8a7a-4763-9c7a-8bbb1d5ec749"
      },
      "execution_count": 36,
      "outputs": [
        {
          "output_type": "stream",
          "name": "stdout",
          "text": [
            "hello good aternoon\n",
            "welcome to datalove is a community and year of establismnet was 2019\n"
          ]
        }
      ]
    },
    {
      "cell_type": "markdown",
      "source": [
        "# Accessing attribute inbuilt class function\n",
        "* getattr(obj,name)- it allow us to access an attriute of an object\n",
        "* setattr(obj,name)- This method use to set an attruibute if it created when it dosnt exist.\n",
        "* hasattr(obj,name)-to check the attribute exist or not\n",
        "* delattr(obj,name)-to delete an attribute"
      ],
      "metadata": {
        "id": "s66w8e_EHBnY"
      }
    },
    {
      "cell_type": "code",
      "source": [
        "class dog:\n",
        "  name=\"dommy\"\n",
        "  age=8\n",
        "  def show(self):\n",
        "    print(self.name)\n",
        "    print(self.age)\n",
        "obj=dog()\n",
        "print(getattr(obj,'height'))"
      ],
      "metadata": {
        "colab": {
          "base_uri": "https://localhost:8080/",
          "height": 183
        },
        "id": "00GjVJjfHJN-",
        "outputId": "6008993d-0dd2-4ff0-9188-34556da45828"
      },
      "execution_count": 37,
      "outputs": [
        {
          "output_type": "error",
          "ename": "AttributeError",
          "evalue": "'dog' object has no attribute 'height'",
          "traceback": [
            "\u001b[0;31m---------------------------------------------------------------------------\u001b[0m",
            "\u001b[0;31mAttributeError\u001b[0m                            Traceback (most recent call last)",
            "\u001b[0;32m<ipython-input-37-f39a7d263c7d>\u001b[0m in \u001b[0;36m<cell line: 8>\u001b[0;34m()\u001b[0m\n\u001b[1;32m      6\u001b[0m     \u001b[0mprint\u001b[0m\u001b[0;34m(\u001b[0m\u001b[0mself\u001b[0m\u001b[0;34m.\u001b[0m\u001b[0mage\u001b[0m\u001b[0;34m)\u001b[0m\u001b[0;34m\u001b[0m\u001b[0;34m\u001b[0m\u001b[0m\n\u001b[1;32m      7\u001b[0m \u001b[0mobj\u001b[0m\u001b[0;34m=\u001b[0m\u001b[0mdog\u001b[0m\u001b[0;34m(\u001b[0m\u001b[0;34m)\u001b[0m\u001b[0;34m\u001b[0m\u001b[0;34m\u001b[0m\u001b[0m\n\u001b[0;32m----> 8\u001b[0;31m \u001b[0mprint\u001b[0m\u001b[0;34m(\u001b[0m\u001b[0mgetattr\u001b[0m\u001b[0;34m(\u001b[0m\u001b[0mobj\u001b[0m\u001b[0;34m,\u001b[0m\u001b[0;34m'height'\u001b[0m\u001b[0;34m)\u001b[0m\u001b[0;34m)\u001b[0m\u001b[0;34m\u001b[0m\u001b[0;34m\u001b[0m\u001b[0m\n\u001b[0m",
            "\u001b[0;31mAttributeError\u001b[0m: 'dog' object has no attribute 'height'"
          ]
        }
      ]
    },
    {
      "cell_type": "code",
      "source": [
        "class dog:\n",
        "  name=\"dommy\"\n",
        "  age=8\n",
        "  def show(self):\n",
        "    print(self.name)\n",
        "    print(self.age)\n",
        "obj=dog()\n",
        "print(getattr(obj,'name'))"
      ],
      "metadata": {
        "colab": {
          "base_uri": "https://localhost:8080/"
        },
        "id": "KJ0uFxf5HLhH",
        "outputId": "ca022462-04ba-4674-eebd-d193859c3dff"
      },
      "execution_count": 38,
      "outputs": [
        {
          "output_type": "stream",
          "name": "stdout",
          "text": [
            "dommy\n"
          ]
        }
      ]
    },
    {
      "cell_type": "code",
      "source": [
        "class dog:\n",
        "  name=\"dommy\"\n",
        "  age=8\n",
        "  def show(self):\n",
        "    print(self.name)\n",
        "    print(self.age)\n",
        "obj=dog()\n",
        "print(hasattr(obj,'height'))"
      ],
      "metadata": {
        "colab": {
          "base_uri": "https://localhost:8080/"
        },
        "id": "0gTLW5-ZHSkt",
        "outputId": "ae9bd996-c185-4264-a654-df4006ade1bb"
      },
      "execution_count": 39,
      "outputs": [
        {
          "output_type": "stream",
          "name": "stdout",
          "text": [
            "False\n"
          ]
        }
      ]
    },
    {
      "cell_type": "code",
      "source": [
        "class dog:\n",
        "  name=\"dommy\"\n",
        "  age=8\n",
        "  def show(self):\n",
        "    print(self.name)\n",
        "    print(self.age)\n",
        "obj=dog()\n",
        "setattr(obj,'height',175)"
      ],
      "metadata": {
        "id": "EvUcTbrlHXTP"
      },
      "execution_count": 40,
      "outputs": []
    },
    {
      "cell_type": "code",
      "source": [
        "print(hasattr(obj,\"height\"))"
      ],
      "metadata": {
        "colab": {
          "base_uri": "https://localhost:8080/"
        },
        "id": "kyX7Kc4CHZTm",
        "outputId": "6bb462b6-0e12-4670-a5d4-4ee262ea6cbf"
      },
      "execution_count": 41,
      "outputs": [
        {
          "output_type": "stream",
          "name": "stdout",
          "text": [
            "True\n"
          ]
        }
      ]
    },
    {
      "cell_type": "code",
      "source": [
        "print(getattr(obj,\"height\"))"
      ],
      "metadata": {
        "colab": {
          "base_uri": "https://localhost:8080/"
        },
        "id": "fAuV2B1EHbIF",
        "outputId": "e57a495b-2d93-4766-eb7a-7c7277c7e915"
      },
      "execution_count": 42,
      "outputs": [
        {
          "output_type": "stream",
          "name": "stdout",
          "text": [
            "175\n"
          ]
        }
      ]
    },
    {
      "cell_type": "code",
      "source": [
        "print(hasattr(obj,\"age\"))"
      ],
      "metadata": {
        "colab": {
          "base_uri": "https://localhost:8080/"
        },
        "id": "IZ83-AWSHcFO",
        "outputId": "8ac36c3e-ba23-4814-d710-fb379dbb3869"
      },
      "execution_count": 43,
      "outputs": [
        {
          "output_type": "stream",
          "name": "stdout",
          "text": [
            "True\n"
          ]
        }
      ]
    },
    {
      "cell_type": "code",
      "source": [
        "delattr(dog,\"age\") #only class will be able to perform del operation."
      ],
      "metadata": {
        "id": "AIuP7r0kHdPs"
      },
      "execution_count": 44,
      "outputs": []
    },
    {
      "cell_type": "code",
      "source": [
        "print(hasattr(obj,\"age\"))"
      ],
      "metadata": {
        "colab": {
          "base_uri": "https://localhost:8080/"
        },
        "id": "JvApyn0HHerG",
        "outputId": "76539358-d685-4ab9-f987-8ce568565fcb"
      },
      "execution_count": 45,
      "outputs": [
        {
          "output_type": "stream",
          "name": "stdout",
          "text": [
            "False\n"
          ]
        }
      ]
    },
    {
      "cell_type": "markdown",
      "source": [
        "# Built-in class attributes\n",
        "\n",
        "* pythob built-in class attributes give us some info about the class.\n",
        "* Every class in python can retain below an attribute an access  by using the dot operator.\n",
        "* __dict__ - to holding the class information\n",
        "* __doc__ - to give the class documentation string\n",
        "* __name__ - to give the class name\n",
        "* __module__-it provide the module name in which the class is defined\n",
        "* __bases__-to give the bases(in other words object information)"
      ],
      "metadata": {
        "id": "vAhi1dk_Hh7f"
      }
    },
    {
      "cell_type": "code",
      "source": [
        "class colors:\n",
        "  \"this  is a sample class called colors\"\n",
        "  colorCount=0\n",
        "  def __init__(self,red,yellow):\n",
        "    self.red=\"apple\"\n",
        "    self.yellow=\"lemon\"\n",
        "    colors.colorCount+=1\n",
        "  def display(self):\n",
        "    print(\"red color fruit is:\",self.red)\n",
        "    print(\"yellow color fruit is:\",self.yellow)\n",
        "obj=colors(\"apple\",\"lemon\")\n",
        "obj.display()\n",
        "print(colors.colorCount) #only one time constructor is working, constructor only call according to object calling"
      ],
      "metadata": {
        "colab": {
          "base_uri": "https://localhost:8080/"
        },
        "id": "RLUoZgVFH0Ge",
        "outputId": "4c9a981f-6b71-47d2-99e5-3be78c7d3597"
      },
      "execution_count": 46,
      "outputs": [
        {
          "output_type": "stream",
          "name": "stdout",
          "text": [
            "red color fruit is: apple\n",
            "yellow color fruit is: lemon\n",
            "1\n"
          ]
        }
      ]
    },
    {
      "cell_type": "code",
      "source": [
        "class colors:\n",
        "  \"this  is a sample class called colors\" #documentation string\n",
        "  colorCount=0 #global Variable\n",
        "  def __init__(self,red,yellow): #constructor\n",
        "    self.red=\"apple\" #instance variable\n",
        "    self.yellow=\"lemon\"#instance variable\n",
        "    colors.colorCount+=1 #instance variable\n",
        "  def display(self): #Instance Variable\n",
        "    print(\"red color fruit is:\",self.red)\n",
        "    print(\"yellow color fruit is:\",self.yellow)\n",
        "\n",
        "print(\"colors.__doc__\",colors.__doc__)"
      ],
      "metadata": {
        "colab": {
          "base_uri": "https://localhost:8080/"
        },
        "id": "xUIw_7VMIcwg",
        "outputId": "4ceadb23-d8eb-4794-e84d-6af9191aa6aa"
      },
      "execution_count": 47,
      "outputs": [
        {
          "output_type": "stream",
          "name": "stdout",
          "text": [
            "colors.__doc__ this  is a sample class called colors\n"
          ]
        }
      ]
    },
    {
      "cell_type": "code",
      "source": [
        "class colors:\n",
        "  \"this  is a sample class called colors\" #documentation string\n",
        "  colorCount=0 #global Variable\n",
        "  def __init__(self,red,yellow): #constructor\n",
        "    self.red=\"apple\" #instance variable\n",
        "    self.yellow=\"lemon\"#instance variable\n",
        "    colors.colorCount+=1 #instance variable\n",
        "  def display(self): #Instance Variable\n",
        "    print(\"red color fruit is:\",self.red)\n",
        "    print(\"yellow color fruit is:\",self.yellow)\n",
        "\n",
        "print(\"colors.__name__\",colors.__name__)  #builtin attributes\n",
        "print(\"colors.__module__\",colors.__module__)\n",
        "print(\"colors.__bases__\",colors.__bases__)\n",
        "print(\"colors.__dict__\",colors.__dict__)"
      ],
      "metadata": {
        "colab": {
          "base_uri": "https://localhost:8080/"
        },
        "id": "viz6xvwsIelr",
        "outputId": "d49390fa-7d45-4c46-a32a-35fe565431f1"
      },
      "execution_count": 48,
      "outputs": [
        {
          "output_type": "stream",
          "name": "stdout",
          "text": [
            "colors.__name__ colors\n",
            "colors.__module__ __main__\n",
            "colors.__bases__ (<class 'object'>,)\n",
            "colors.__dict__ {'__module__': '__main__', '__doc__': 'this  is a sample class called colors', 'colorCount': 0, '__init__': <function colors.__init__ at 0x7c0c49147c70>, 'display': <function colors.display at 0x7c0c49147a30>, '__dict__': <attribute '__dict__' of 'colors' objects>, '__weakref__': <attribute '__weakref__' of 'colors' objects>}\n"
          ]
        }
      ]
    },
    {
      "cell_type": "code",
      "source": [
        "class employee:\n",
        "  def __init__(self,ename,eId,esalary):\n",
        "    self.ename=ename\n",
        "    self.eId=eId\n",
        "    self.esalary=esalary\n",
        "  def info(self):\n",
        "    self.eloc=\"banglore\"\n",
        "    print(\"employee name:\",self.ename)  #No need to use this, as we need data in dictionary\n",
        "    print(\"employee Id:\",self.eId)\n",
        "    print(\"employee salary:\",self.esalary)\n",
        "obj=employee(\"sanad\",265,415467)\n",
        "obj.info()"
      ],
      "metadata": {
        "colab": {
          "base_uri": "https://localhost:8080/"
        },
        "id": "psMyrM9fIhFQ",
        "outputId": "d51275d3-c72b-43b3-b3ca-014e642bf572"
      },
      "execution_count": 51,
      "outputs": [
        {
          "output_type": "stream",
          "name": "stdout",
          "text": [
            "employee name: sanad\n",
            "employee Id: 265\n",
            "employee salary: 415467\n"
          ]
        }
      ]
    },
    {
      "cell_type": "code",
      "source": [
        "class employee:\n",
        "  def __init__(self,ename,eId,esalary):\n",
        "    self.ename=ename\n",
        "    self.eId=eId\n",
        "    self.esalary=esalary\n",
        "  def info(self):\n",
        "    self.eloc=\"banglore\"\n",
        "obj=employee(\"sanad\",265,415467)\n",
        "obj.info()\n",
        "print(obj.__dict__)"
      ],
      "metadata": {
        "colab": {
          "base_uri": "https://localhost:8080/"
        },
        "id": "NqfZAurmIujL",
        "outputId": "5ece3db7-abb8-4a0b-db01-34bdbf029dda"
      },
      "execution_count": 52,
      "outputs": [
        {
          "output_type": "stream",
          "name": "stdout",
          "text": [
            "{'ename': 'sanad', 'eId': 265, 'esalary': 415467, 'eloc': 'banglore'}\n"
          ]
        }
      ]
    },
    {
      "cell_type": "code",
      "source": [
        "class employee:\n",
        "  def __init__(self,ename,eId):\n",
        "    self.ename=ename\n",
        "    self.eId=eId\n",
        "  def info(self):\n",
        "    self.eSal=60000\n",
        "obj=employee(\"sanad\",265)\n",
        "obj.info()\n",
        "obj.eloc=\"banglore\" #new addition in dictionary due to mutability\n",
        "print(obj.__dict__)"
      ],
      "metadata": {
        "colab": {
          "base_uri": "https://localhost:8080/"
        },
        "id": "kNhWlXSmI5n5",
        "outputId": "a2d5bac4-2cf7-462d-d949-2202f32e6f36"
      },
      "execution_count": 53,
      "outputs": [
        {
          "output_type": "stream",
          "name": "stdout",
          "text": [
            "{'ename': 'sanad', 'eId': 265, 'eSal': 60000, 'eloc': 'banglore'}\n"
          ]
        }
      ]
    },
    {
      "cell_type": "code",
      "source": [
        "class student:\n",
        "  def __init__(self):\n",
        "    self.a=10\n",
        "    self.b=20\n",
        "    self.c=30\n",
        "  def m1(self):\n",
        "    self.d=40\n",
        "  def m2(self):\n",
        "    self.e=50\n",
        "obj=student()\n",
        "obj.m1()\n",
        "obj1=student()\n",
        "obj1.m2()\n",
        "obj1.p=200\n",
        "obj1.q=300\n",
        "print(obj.__dict__)\n",
        "print(obj1.__dict__)"
      ],
      "metadata": {
        "colab": {
          "base_uri": "https://localhost:8080/"
        },
        "id": "hFv_W27lI8Og",
        "outputId": "e19ccad5-cc32-479e-dee7-3a74755454ea"
      },
      "execution_count": 54,
      "outputs": [
        {
          "output_type": "stream",
          "name": "stdout",
          "text": [
            "{'a': 10, 'b': 20, 'c': 30, 'd': 40}\n",
            "{'a': 10, 'b': 20, 'c': 30, 'e': 50, 'p': 200, 'q': 300}\n"
          ]
        }
      ]
    },
    {
      "cell_type": "code",
      "source": [
        "class test:\n",
        "  def __init__(self):\n",
        "    self.a=10\n",
        "    self.b=20\n",
        "    self.c=30\n",
        "  def delete(self):\n",
        "    del self.b\n",
        "    del self.c\n",
        "obj=test()\n",
        "print(obj.__dict__)"
      ],
      "metadata": {
        "colab": {
          "base_uri": "https://localhost:8080/"
        },
        "id": "KhZorrZUI-3U",
        "outputId": "2c78a12f-cef3-4ff4-f27b-fb811edc37a4"
      },
      "execution_count": 55,
      "outputs": [
        {
          "output_type": "stream",
          "name": "stdout",
          "text": [
            "{'a': 10, 'b': 20, 'c': 30}\n"
          ]
        }
      ]
    },
    {
      "cell_type": "code",
      "source": [
        "class test:\n",
        "  def __init__(self):\n",
        "    self.a=10\n",
        "    self.b=20\n",
        "    self.c=30\n",
        "  def delete(self):\n",
        "    del self.b\n",
        "    del self.c\n",
        "obj=test()\n",
        "obj.delete()\n",
        "print(obj.__dict__)"
      ],
      "metadata": {
        "colab": {
          "base_uri": "https://localhost:8080/"
        },
        "id": "qpDkEeXtJBwH",
        "outputId": "1a0ae908-b3cd-4452-93c1-9fd874a79e1d"
      },
      "execution_count": 56,
      "outputs": [
        {
          "output_type": "stream",
          "name": "stdout",
          "text": [
            "{'a': 10}\n"
          ]
        }
      ]
    },
    {
      "cell_type": "code",
      "source": [
        "class test:\n",
        "  def __init__(self):\n",
        "    self.a=10\n",
        "    self.b=20\n",
        "    self.c=30\n",
        "  def delete(self):\n",
        "    del self\n",
        "obj=test()\n",
        "obj.delete()\n",
        "print(obj.__dict__)"
      ],
      "metadata": {
        "colab": {
          "base_uri": "https://localhost:8080/"
        },
        "id": "b9WXwZE4JE2X",
        "outputId": "f167205c-1aea-4464-d7a4-124342e1a964"
      },
      "execution_count": 57,
      "outputs": [
        {
          "output_type": "stream",
          "name": "stdout",
          "text": [
            "{'a': 10, 'b': 20, 'c': 30}\n"
          ]
        }
      ]
    },
    {
      "cell_type": "code",
      "source": [
        "class test:\n",
        "  def __init__(self):\n",
        "    self.a=10\n",
        "    self.b=20\n",
        "    self.c=30\n",
        "obj=test()\n",
        "obj1=test()\n",
        "del obj.a\n",
        "del obj1.b\n",
        "print(obj.__dict__)\n",
        "print(obj1.__dict__)"
      ],
      "metadata": {
        "colab": {
          "base_uri": "https://localhost:8080/"
        },
        "id": "Mpk3ct5xJHhh",
        "outputId": "57267c87-cb1e-49e5-f534-274a24ea8bc5"
      },
      "execution_count": 58,
      "outputs": [
        {
          "output_type": "stream",
          "name": "stdout",
          "text": [
            "{'b': 20, 'c': 30}\n",
            "{'a': 10, 'c': 30}\n"
          ]
        }
      ]
    },
    {
      "cell_type": "code",
      "source": [
        "class test:\n",
        "  def __init__(self):\n",
        "    self.a=10\n",
        "    self.b=20\n",
        "obj1=test()\n",
        "obj2=test()\n",
        "obj1.a=888\n",
        "obj2.b=999\n",
        "print(obj1.a,obj2.b)\n",
        "print(obj2.a,obj2.b)"
      ],
      "metadata": {
        "colab": {
          "base_uri": "https://localhost:8080/"
        },
        "id": "Tcc_mXhuJJMl",
        "outputId": "0cd42ebd-d578-4a13-bb86-bcacfb4f775d"
      },
      "execution_count": 59,
      "outputs": [
        {
          "output_type": "stream",
          "name": "stdout",
          "text": [
            "888 999\n",
            "10 999\n"
          ]
        }
      ]
    },
    {
      "cell_type": "code",
      "source": [
        "class test:\n",
        "  a=10\n",
        "  def __init__(self):\n",
        "    print(\"inside constructor\")\n",
        "    print(test.a)\n",
        "    print(self.a)\n",
        "  def m1(self):\n",
        "    print(\"inside instance Method\")\n",
        "    print(test.a)\n",
        "    print(self.a)\n",
        "obj=test()\n",
        "obj.m1()"
      ],
      "metadata": {
        "colab": {
          "base_uri": "https://localhost:8080/"
        },
        "id": "sUPwYt-zJKxd",
        "outputId": "4c8ebad6-c067-4449-8123-98994246ee54"
      },
      "execution_count": 60,
      "outputs": [
        {
          "output_type": "stream",
          "name": "stdout",
          "text": [
            "inside constructor\n",
            "10\n",
            "10\n",
            "inside instance Method\n",
            "10\n",
            "10\n"
          ]
        }
      ]
    },
    {
      "cell_type": "code",
      "source": [
        "class test:\n",
        "  a=10\n",
        "  def __init__(self):\n",
        "    print(\"inside constructor\")\n",
        "    print(test.a)\n",
        "    print(self.a)\n",
        "  def m1(self):\n",
        "    print(\"inside instance Method\")\n",
        "    print(test.a)\n",
        "    print(self.a)\n",
        "  def m2(cls):\n",
        "    print(\"inside class method\")\n",
        "    print(test.a)\n",
        "    print(cls.a)\n",
        "  @staticmethod\n",
        "  def m3():\n",
        "    print(\"inside static method\")\n",
        "    print(test.a)\n",
        "obj=test()\n",
        "obj.m1()\n",
        "obj.m2()\n",
        "obj.m3()\n",
        "print(\"inside from the class\")\n",
        "print(test.a)\n",
        "print(obj.a)"
      ],
      "metadata": {
        "colab": {
          "base_uri": "https://localhost:8080/"
        },
        "id": "o9_tjd74JMmx",
        "outputId": "9a0a5b43-b956-4138-feeb-1e9988762d3f"
      },
      "execution_count": 61,
      "outputs": [
        {
          "output_type": "stream",
          "name": "stdout",
          "text": [
            "inside constructor\n",
            "10\n",
            "10\n",
            "inside instance Method\n",
            "10\n",
            "10\n",
            "inside class method\n",
            "10\n",
            "10\n",
            "inside static method\n",
            "10\n",
            "inside from the class\n",
            "10\n",
            "10\n"
          ]
        }
      ]
    },
    {
      "cell_type": "code",
      "source": [
        "class test:\n",
        "  a=10\n",
        "  def __init__(self):\n",
        "    test.a=20\n",
        "obj=test()\n",
        "print(test.a)\n",
        "print(obj.a) #case1"
      ],
      "metadata": {
        "colab": {
          "base_uri": "https://localhost:8080/"
        },
        "id": "dDMylJtoJQEC",
        "outputId": "8b5edd41-42bb-4851-c053-ffbe180b364d"
      },
      "execution_count": 62,
      "outputs": [
        {
          "output_type": "stream",
          "name": "stdout",
          "text": [
            "20\n",
            "20\n"
          ]
        }
      ]
    },
    {
      "cell_type": "code",
      "source": [
        "class test:\n",
        "  a=10\n",
        "  def __init__(self):\n",
        "    test.a=20\n",
        "  @classmethod\n",
        "  def m1(cls):\n",
        "    cls.a=30\n",
        "    test.a=40\n",
        "obj=test()\n",
        "obj.m1()\n",
        "print(test.a)\n",
        "print(obj.a) #case2"
      ],
      "metadata": {
        "colab": {
          "base_uri": "https://localhost:8080/"
        },
        "id": "rBu82lywJSCs",
        "outputId": "e2ab28c3-23bc-4bf5-81ae-6d1a0a74f706"
      },
      "execution_count": 63,
      "outputs": [
        {
          "output_type": "stream",
          "name": "stdout",
          "text": [
            "40\n",
            "40\n"
          ]
        }
      ]
    },
    {
      "cell_type": "code",
      "source": [
        "class test:\n",
        "  a=10\n",
        "  def __init__(self):\n",
        "    test.a=20\n",
        "  @classmethod\n",
        "  def m1(cls):\n",
        "    cls.a=30\n",
        "    test.a=40\n",
        "  @staticmethod\n",
        "  def m2():\n",
        "    test.a=50\n",
        "obj=test()\n",
        "obj.m1()\n",
        "obj.m2()\n",
        "test.a=60\n",
        "print(test.a)\n",
        "print(obj.a) #case3"
      ],
      "metadata": {
        "colab": {
          "base_uri": "https://localhost:8080/"
        },
        "id": "Q44LjMaFJTa5",
        "outputId": "1c02a7d6-d484-4448-891a-bfc97b147578"
      },
      "execution_count": 64,
      "outputs": [
        {
          "output_type": "stream",
          "name": "stdout",
          "text": [
            "60\n",
            "60\n"
          ]
        }
      ]
    },
    {
      "cell_type": "code",
      "source": [
        "class test:\n",
        "  def m1(self):\n",
        "    a=100\n",
        "    print(a)\n",
        "  def m2(self):\n",
        "    b=200\n",
        "    print(b)\n",
        "obj=test()\n",
        "obj.m1()\n",
        "obj.m2()"
      ],
      "metadata": {
        "colab": {
          "base_uri": "https://localhost:8080/"
        },
        "id": "pbtX_grLJU5h",
        "outputId": "99ba0c0e-9988-4a5d-db0a-6ba4d1498267"
      },
      "execution_count": 65,
      "outputs": [
        {
          "output_type": "stream",
          "name": "stdout",
          "text": [
            "100\n",
            "200\n"
          ]
        }
      ]
    },
    {
      "cell_type": "code",
      "source": [
        "class test:\n",
        "  def m1(self):\n",
        "    a=100\n",
        "    print(a)\n",
        "  def m2(self):\n",
        "    b=200\n",
        "    print(a,b) #name error\n",
        "obj=test()\n",
        "obj.m1()\n",
        "obj.m2()"
      ],
      "metadata": {
        "colab": {
          "base_uri": "https://localhost:8080/"
        },
        "id": "vME6tOS3JWXf",
        "outputId": "1533ae39-240b-4b6a-e2e5-bfaa71b57563"
      },
      "execution_count": 66,
      "outputs": [
        {
          "output_type": "stream",
          "name": "stdout",
          "text": [
            "100\n",
            "(1,) 200\n"
          ]
        }
      ]
    },
    {
      "cell_type": "code",
      "source": [
        "x=100\n",
        "class test:\n",
        "  def m1(self):\n",
        "    print(x)\n",
        "  def m2(self):\n",
        "    print(x)\n",
        "obj=test()\n",
        "obj.m1()\n",
        "obj.m2()"
      ],
      "metadata": {
        "colab": {
          "base_uri": "https://localhost:8080/"
        },
        "id": "FYqj2L9xJX39",
        "outputId": "f866fbc5-88c7-47b4-d685-950a5a2c9b08"
      },
      "execution_count": 67,
      "outputs": [
        {
          "output_type": "stream",
          "name": "stdout",
          "text": [
            "100\n",
            "100\n"
          ]
        }
      ]
    },
    {
      "cell_type": "code",
      "source": [
        "x=100\n",
        "class test:\n",
        "  x=777\n",
        "  def m1(self):\n",
        "    x=888\n",
        "    print(x)\n",
        "  def m2(self):\n",
        "    print(x)\n",
        "    print(test.x)\n",
        "obj=test()\n",
        "obj.m1()"
      ],
      "metadata": {
        "colab": {
          "base_uri": "https://localhost:8080/"
        },
        "id": "VKhbjXh2O4YP",
        "outputId": "f453b5f1-85f2-4a48-dfa7-211aadc8695e"
      },
      "execution_count": 68,
      "outputs": [
        {
          "output_type": "stream",
          "name": "stdout",
          "text": [
            "888\n"
          ]
        }
      ]
    },
    {
      "cell_type": "code",
      "source": [
        "class animals:\n",
        "  leg=4\n",
        "  @classmethod\n",
        "  def walk(cls,name):\n",
        "    cls.name=name\n",
        "    print(cls.name,\"walk with\", animals.leg, \"legs\")\n",
        "animals.walk(\"dog\")\n",
        "animals.walk(\"cat\")"
      ],
      "metadata": {
        "colab": {
          "base_uri": "https://localhost:8080/"
        },
        "id": "Yxu-VKfSO8KE",
        "outputId": "c65035d0-7159-471e-daa9-274ae1d5b224"
      },
      "execution_count": 69,
      "outputs": [
        {
          "output_type": "stream",
          "name": "stdout",
          "text": [
            "dog walk with 4 legs\n",
            "cat walk with 4 legs\n"
          ]
        }
      ]
    },
    {
      "cell_type": "code",
      "source": [
        "class employee:\n",
        "  cname='Infosys' #static variable\n",
        "  #print(cname)\n",
        "  def _init_(self,eid,ename,esale,eloc): #constructor with parameter\n",
        "    self.eid=eid #instance variable\n",
        "    self.ename=ename #instance variable\n",
        "    self.esale=esale\n",
        "    self.eloc=eloc\n",
        "  def display(self): #instance method\n",
        "    print('Hello my id is=',self.eid)\n",
        "    print('my name is=',self.ename)\n",
        "    print('my salary is=',self.esale)\n",
        "    print('my location is=',self.eloc)\n",
        "    #print('my company name is=',self.cname)\n",
        "  @classmethod\n",
        "  def get_company_name(cls): #class method\n",
        "    print('Hello my company name is=',cls.cname)   #class level variable\n",
        "obj=employee(5426,'Honey', 45000,'Kanpur')\n",
        "obj1=employee(4236,'Sooraj',55000,\"Noeda\")\n",
        "employee.get_company_name()\n",
        "obj.display() #object by calling\n",
        "obj1.display()"
      ],
      "metadata": {
        "colab": {
          "base_uri": "https://localhost:8080/",
          "height": 219
        },
        "id": "nPIc4u8AO-aU",
        "outputId": "24b9757c-84b5-429a-f21c-2fe5ab00d3d6"
      },
      "execution_count": 70,
      "outputs": [
        {
          "output_type": "error",
          "ename": "TypeError",
          "evalue": "employee() takes no arguments",
          "traceback": [
            "\u001b[0;31m---------------------------------------------------------------------------\u001b[0m",
            "\u001b[0;31mTypeError\u001b[0m                                 Traceback (most recent call last)",
            "\u001b[0;32m<ipython-input-70-291a96391270>\u001b[0m in \u001b[0;36m<cell line: 18>\u001b[0;34m()\u001b[0m\n\u001b[1;32m     16\u001b[0m   \u001b[0;32mdef\u001b[0m \u001b[0mget_company_name\u001b[0m\u001b[0;34m(\u001b[0m\u001b[0mcls\u001b[0m\u001b[0;34m)\u001b[0m\u001b[0;34m:\u001b[0m \u001b[0;31m#class method\u001b[0m\u001b[0;34m\u001b[0m\u001b[0;34m\u001b[0m\u001b[0m\n\u001b[1;32m     17\u001b[0m     \u001b[0mprint\u001b[0m\u001b[0;34m(\u001b[0m\u001b[0;34m'Hello my company name is='\u001b[0m\u001b[0;34m,\u001b[0m\u001b[0mcls\u001b[0m\u001b[0;34m.\u001b[0m\u001b[0mcname\u001b[0m\u001b[0;34m)\u001b[0m   \u001b[0;31m#class level variable\u001b[0m\u001b[0;34m\u001b[0m\u001b[0;34m\u001b[0m\u001b[0m\n\u001b[0;32m---> 18\u001b[0;31m \u001b[0mobj\u001b[0m\u001b[0;34m=\u001b[0m\u001b[0memployee\u001b[0m\u001b[0;34m(\u001b[0m\u001b[0;36m5426\u001b[0m\u001b[0;34m,\u001b[0m\u001b[0;34m'Honey'\u001b[0m\u001b[0;34m,\u001b[0m \u001b[0;36m45000\u001b[0m\u001b[0;34m,\u001b[0m\u001b[0;34m'Kanpur'\u001b[0m\u001b[0;34m)\u001b[0m\u001b[0;34m\u001b[0m\u001b[0;34m\u001b[0m\u001b[0m\n\u001b[0m\u001b[1;32m     19\u001b[0m \u001b[0mobj1\u001b[0m\u001b[0;34m=\u001b[0m\u001b[0memployee\u001b[0m\u001b[0;34m(\u001b[0m\u001b[0;36m4236\u001b[0m\u001b[0;34m,\u001b[0m\u001b[0;34m'Sooraj'\u001b[0m\u001b[0;34m,\u001b[0m\u001b[0;36m55000\u001b[0m\u001b[0;34m,\u001b[0m\u001b[0;34m\"Noeda\"\u001b[0m\u001b[0;34m)\u001b[0m\u001b[0;34m\u001b[0m\u001b[0;34m\u001b[0m\u001b[0m\n\u001b[1;32m     20\u001b[0m \u001b[0memployee\u001b[0m\u001b[0;34m.\u001b[0m\u001b[0mget_company_name\u001b[0m\u001b[0;34m(\u001b[0m\u001b[0;34m)\u001b[0m\u001b[0;34m\u001b[0m\u001b[0;34m\u001b[0m\u001b[0m\n",
            "\u001b[0;31mTypeError\u001b[0m: employee() takes no arguments"
          ]
        }
      ]
    },
    {
      "cell_type": "code",
      "source": [
        "class GeekforGeeks:\n",
        "\n",
        "    # default constructor\n",
        "    def __init__(self):\n",
        "        self.geek = \"GeekforGeeks\"\n",
        "\n",
        "    # a method for printing data members\n",
        "    def print_Geek(self):\n",
        "        print(self.geek)\n",
        "\n",
        "\n",
        "# creating object of the class\n",
        "obj = GeekforGeeks()\n",
        "\n",
        "# calling the instance method using the object obj\n",
        "obj.print_Geek()"
      ],
      "metadata": {
        "colab": {
          "base_uri": "https://localhost:8080/"
        },
        "id": "D7hWpQVEPEsa",
        "outputId": "e9c41c8f-0cd4-4478-b171-9795c4ec49d8"
      },
      "execution_count": 71,
      "outputs": [
        {
          "output_type": "stream",
          "name": "stdout",
          "text": [
            "GeekforGeeks\n"
          ]
        }
      ]
    },
    {
      "cell_type": "code",
      "source": [],
      "metadata": {
        "id": "Skcb3CPlPJfT"
      },
      "execution_count": null,
      "outputs": []
    },
    {
      "cell_type": "markdown",
      "source": [
        "# what is inheriterance?\n",
        "\n",
        "* Inheritance allows us to define a class that inherits all the methods and properties from another class.\n",
        "* Parent class is the class being inherited from, also called base class.\n",
        "* Child class is the class that inherits from another class, also called derived class\"\"\"\n",
        "\n",
        "# type of inheriterance\n",
        "\n",
        "* Single level inheriterance\n",
        "* multilevel inheriterance\n",
        "* multiple inheriterance\n",
        "* Hierarchical\n",
        "* Hybrid\n"
      ],
      "metadata": {
        "id": "v34atUoIPMW-"
      }
    },
    {
      "cell_type": "code",
      "source": [
        "#Single level inheriterance:\n",
        "class parent:                     #single level inheriterance syntax\n",
        "  pass\n",
        "class child(parent):\n",
        "  pass"
      ],
      "metadata": {
        "id": "sLS96iMXPdQS"
      },
      "execution_count": 72,
      "outputs": []
    },
    {
      "cell_type": "code",
      "source": [
        "#multilevel inheriterance #synatx\n",
        "class a:    #grandfather\n",
        "  pass\n",
        "class b(a): #father\n",
        "  pass\n",
        "class c(b): #child\n",
        "  pass"
      ],
      "metadata": {
        "id": "9MtQnYinPjGt"
      },
      "execution_count": 73,
      "outputs": []
    },
    {
      "cell_type": "code",
      "source": [
        "#multiple Inheriterance : One child class with multiple parent class called multiple inheriterance or multiple father with one child.\n",
        "class a: #father\n",
        "  pass\n",
        "class b: #father\n",
        "  pass\n",
        "class c(a,b): #child\n",
        "  pass"
      ],
      "metadata": {
        "id": "XA-0-NslPk-y"
      },
      "execution_count": 74,
      "outputs": []
    },
    {
      "cell_type": "code",
      "source": [
        "#Hierarchical Inheriterance : One father with multiple childs.\n",
        "class a: #father\n",
        "  pass\n",
        "class b(a): #child\n",
        "  pass\n",
        "class c(a): #child\n",
        "  pass"
      ],
      "metadata": {
        "id": "sb3oHlChPlPy"
      },
      "execution_count": 75,
      "outputs": []
    },
    {
      "cell_type": "code",
      "source": [
        "#hybrid Inheriterance: combination of multiple with hierarchial inheriterance.\n",
        "#we cannot define syntex for Hybrid inheriterance."
      ],
      "metadata": {
        "id": "0-xUmBQxPmk3"
      },
      "execution_count": 76,
      "outputs": []
    },
    {
      "cell_type": "code",
      "source": [
        "class a: #example for single level inheriterance\n",
        "  def m1(self):\n",
        "    print(\"m1 method\")\n",
        "class b(a):\n",
        "  def m2(self):\n",
        "    print(\"m2 method\")\n",
        "obj=b()\n",
        "obj.m1()\n",
        "obj.m2()"
      ],
      "metadata": {
        "colab": {
          "base_uri": "https://localhost:8080/"
        },
        "id": "tRaHVwoNPnxg",
        "outputId": "c199f7c7-fdcf-4f8d-99bc-25e423973af1"
      },
      "execution_count": 77,
      "outputs": [
        {
          "output_type": "stream",
          "name": "stdout",
          "text": [
            "m1 method\n",
            "m2 method\n"
          ]
        }
      ]
    },
    {
      "cell_type": "code",
      "source": [
        "#example for multi level inheriterance\n",
        "class a:\n",
        "  def m1(self):\n",
        "    print(\"m1 method\")\n",
        "class b(a):\n",
        "  def m2(self):\n",
        "    print(\"m2 method\")\n",
        "class c(b):\n",
        "  def m3(self):\n",
        "    print(\"m3 method\")\n",
        "obj=c() #always current class object will be called\n",
        "obj.m1()\n",
        "obj.m2()\n",
        "obj.m3()"
      ],
      "metadata": {
        "colab": {
          "base_uri": "https://localhost:8080/"
        },
        "id": "kRUq0j0TPpIb",
        "outputId": "39fcc1d2-32af-4b1f-9d79-ce5ea476a7c3"
      },
      "execution_count": 78,
      "outputs": [
        {
          "output_type": "stream",
          "name": "stdout",
          "text": [
            "m1 method\n",
            "m2 method\n",
            "m3 method\n"
          ]
        }
      ]
    },
    {
      "cell_type": "code",
      "source": [
        "#hierarichial inheriterance\n",
        "class vehical:\n",
        "  def disp1(self):\n",
        "    print(\"vehical information\")\n",
        "class car(vehical):\n",
        "  def disp2(self):\n",
        "    print(\"car information\")\n",
        "class areoplane(vehical):\n",
        "  def disp3(self):\n",
        "    print(\"Areoplane information\")\n",
        "obj1=vehical()\n",
        "obj1.disp1()\n",
        "obj1.disp2()\n",
        "obj1.disp3()"
      ],
      "metadata": {
        "colab": {
          "base_uri": "https://localhost:8080/",
          "height": 219
        },
        "id": "FPoXwCdMPqsU",
        "outputId": "8de7c29b-e6f0-4c47-de7e-9c9b3de08cef"
      },
      "execution_count": 79,
      "outputs": [
        {
          "output_type": "stream",
          "name": "stdout",
          "text": [
            "vehical information\n"
          ]
        },
        {
          "output_type": "error",
          "ename": "AttributeError",
          "evalue": "'vehical' object has no attribute 'disp2'",
          "traceback": [
            "\u001b[0;31m---------------------------------------------------------------------------\u001b[0m",
            "\u001b[0;31mAttributeError\u001b[0m                            Traceback (most recent call last)",
            "\u001b[0;32m<ipython-input-79-aae7dd835ad4>\u001b[0m in \u001b[0;36m<cell line: 13>\u001b[0;34m()\u001b[0m\n\u001b[1;32m     11\u001b[0m \u001b[0mobj1\u001b[0m\u001b[0;34m=\u001b[0m\u001b[0mvehical\u001b[0m\u001b[0;34m(\u001b[0m\u001b[0;34m)\u001b[0m\u001b[0;34m\u001b[0m\u001b[0;34m\u001b[0m\u001b[0m\n\u001b[1;32m     12\u001b[0m \u001b[0mobj1\u001b[0m\u001b[0;34m.\u001b[0m\u001b[0mdisp1\u001b[0m\u001b[0;34m(\u001b[0m\u001b[0;34m)\u001b[0m\u001b[0;34m\u001b[0m\u001b[0;34m\u001b[0m\u001b[0m\n\u001b[0;32m---> 13\u001b[0;31m \u001b[0mobj1\u001b[0m\u001b[0;34m.\u001b[0m\u001b[0mdisp2\u001b[0m\u001b[0;34m(\u001b[0m\u001b[0;34m)\u001b[0m\u001b[0;34m\u001b[0m\u001b[0;34m\u001b[0m\u001b[0m\n\u001b[0m\u001b[1;32m     14\u001b[0m \u001b[0mobj1\u001b[0m\u001b[0;34m.\u001b[0m\u001b[0mdisp3\u001b[0m\u001b[0;34m(\u001b[0m\u001b[0;34m)\u001b[0m\u001b[0;34m\u001b[0m\u001b[0;34m\u001b[0m\u001b[0m\n",
            "\u001b[0;31mAttributeError\u001b[0m: 'vehical' object has no attribute 'disp2'"
          ]
        }
      ]
    },
    {
      "cell_type": "code",
      "source": [
        "#hierarichial inheriterance\n",
        "class vehical:\n",
        "  def disp1(self):\n",
        "    print(\"vehical information\")\n",
        "class car(vehical):\n",
        "  def disp2(self):\n",
        "    print(\"car information\")\n",
        "class areoplane(vehical):\n",
        "  def disp3(self):\n",
        "    print(\"Areoplane information\")\n",
        "obj1=vehical()\n",
        "obj1.disp1()"
      ],
      "metadata": {
        "colab": {
          "base_uri": "https://localhost:8080/"
        },
        "id": "NAJLMQmBPtu7",
        "outputId": "bd4e2fe5-021e-4acd-eecd-222f9bd2f414"
      },
      "execution_count": 80,
      "outputs": [
        {
          "output_type": "stream",
          "name": "stdout",
          "text": [
            "vehical information\n"
          ]
        }
      ]
    },
    {
      "cell_type": "code",
      "source": [
        "obj2=car()\n",
        "obj2.disp2()"
      ],
      "metadata": {
        "colab": {
          "base_uri": "https://localhost:8080/"
        },
        "id": "YhFkFcEdPyLi",
        "outputId": "b2dade26-0fb2-4632-d1a1-a1105169db68"
      },
      "execution_count": 81,
      "outputs": [
        {
          "output_type": "stream",
          "name": "stdout",
          "text": [
            "car information\n"
          ]
        }
      ]
    },
    {
      "cell_type": "code",
      "source": [
        "obj2.disp1()"
      ],
      "metadata": {
        "colab": {
          "base_uri": "https://localhost:8080/"
        },
        "id": "hkqcaeZePzWe",
        "outputId": "0ac41c34-6c0e-4d70-dd03-def9ae2471d1"
      },
      "execution_count": 82,
      "outputs": [
        {
          "output_type": "stream",
          "name": "stdout",
          "text": [
            "vehical information\n"
          ]
        }
      ]
    },
    {
      "cell_type": "code",
      "source": [
        "obj2.disp3()"
      ],
      "metadata": {
        "colab": {
          "base_uri": "https://localhost:8080/",
          "height": 146
        },
        "id": "LInuSTF5P0Tc",
        "outputId": "9f3bd844-c437-42f8-f3b8-46b21c98f438"
      },
      "execution_count": 83,
      "outputs": [
        {
          "output_type": "error",
          "ename": "AttributeError",
          "evalue": "'car' object has no attribute 'disp3'",
          "traceback": [
            "\u001b[0;31m---------------------------------------------------------------------------\u001b[0m",
            "\u001b[0;31mAttributeError\u001b[0m                            Traceback (most recent call last)",
            "\u001b[0;32m<ipython-input-83-90d9e1734828>\u001b[0m in \u001b[0;36m<cell line: 1>\u001b[0;34m()\u001b[0m\n\u001b[0;32m----> 1\u001b[0;31m \u001b[0mobj2\u001b[0m\u001b[0;34m.\u001b[0m\u001b[0mdisp3\u001b[0m\u001b[0;34m(\u001b[0m\u001b[0;34m)\u001b[0m\u001b[0;34m\u001b[0m\u001b[0;34m\u001b[0m\u001b[0m\n\u001b[0m",
            "\u001b[0;31mAttributeError\u001b[0m: 'car' object has no attribute 'disp3'"
          ]
        }
      ]
    },
    {
      "cell_type": "code",
      "source": [
        "obj3=areoplane()\n",
        "obj3.disp1()"
      ],
      "metadata": {
        "colab": {
          "base_uri": "https://localhost:8080/"
        },
        "id": "YZJTBKG4P18U",
        "outputId": "d2f3711c-508c-40ee-b17e-d26396aa3be4"
      },
      "execution_count": 84,
      "outputs": [
        {
          "output_type": "stream",
          "name": "stdout",
          "text": [
            "vehical information\n"
          ]
        }
      ]
    },
    {
      "cell_type": "code",
      "source": [
        "obj3.disp2()"
      ],
      "metadata": {
        "colab": {
          "base_uri": "https://localhost:8080/",
          "height": 146
        },
        "id": "pRx5l5zLP3Bz",
        "outputId": "bddaa8f1-7887-464b-b4f3-a5a5bc943fef"
      },
      "execution_count": 85,
      "outputs": [
        {
          "output_type": "error",
          "ename": "AttributeError",
          "evalue": "'areoplane' object has no attribute 'disp2'",
          "traceback": [
            "\u001b[0;31m---------------------------------------------------------------------------\u001b[0m",
            "\u001b[0;31mAttributeError\u001b[0m                            Traceback (most recent call last)",
            "\u001b[0;32m<ipython-input-85-aba113b6ce38>\u001b[0m in \u001b[0;36m<cell line: 1>\u001b[0;34m()\u001b[0m\n\u001b[0;32m----> 1\u001b[0;31m \u001b[0mobj3\u001b[0m\u001b[0;34m.\u001b[0m\u001b[0mdisp2\u001b[0m\u001b[0;34m(\u001b[0m\u001b[0;34m)\u001b[0m\u001b[0;34m\u001b[0m\u001b[0;34m\u001b[0m\u001b[0m\n\u001b[0m",
            "\u001b[0;31mAttributeError\u001b[0m: 'areoplane' object has no attribute 'disp2'"
          ]
        }
      ]
    },
    {
      "cell_type": "code",
      "source": [
        "obj3.disp3()"
      ],
      "metadata": {
        "colab": {
          "base_uri": "https://localhost:8080/"
        },
        "id": "HzO7MISfP4CZ",
        "outputId": "d86d1637-2822-4cab-a42a-7f193fd76d5a"
      },
      "execution_count": 86,
      "outputs": [
        {
          "output_type": "stream",
          "name": "stdout",
          "text": [
            "Areoplane information\n"
          ]
        }
      ]
    },
    {
      "cell_type": "code",
      "source": [
        "class vehical: #case 1\n",
        "  def disp1(self):\n",
        "    print(\"vehical information\")\n",
        "class car(vehical):\n",
        "  def disp2(self):\n",
        "    print(\"car information\")\n",
        "class areoplane(vehical):\n",
        "  def disp3(self):\n",
        "    print(\"Areoplane information\")\n",
        "obj=vehical()\n",
        "obj.disp1()\n",
        "\"\"\"obj.disp2() Will not be able to inherete\n",
        "obj.disp3()\"\"\""
      ],
      "metadata": {
        "colab": {
          "base_uri": "https://localhost:8080/",
          "height": 54
        },
        "id": "oW4zKan9P5MS",
        "outputId": "8b77aa49-f1aa-43a3-f61a-c5445dfea239"
      },
      "execution_count": 87,
      "outputs": [
        {
          "output_type": "stream",
          "name": "stdout",
          "text": [
            "vehical information\n"
          ]
        },
        {
          "output_type": "execute_result",
          "data": {
            "text/plain": [
              "'obj.disp2() Will not be able to inherete\\nobj.disp3()'"
            ],
            "application/vnd.google.colaboratory.intrinsic+json": {
              "type": "string"
            }
          },
          "metadata": {},
          "execution_count": 87
        }
      ]
    },
    {
      "cell_type": "code",
      "source": [
        "class vehical: #case 2\n",
        "  def disp1(self):\n",
        "    print(\"vehical information\")\n",
        "class car(vehical):\n",
        "  def disp2(self):\n",
        "    print(\"car information\")\n",
        "class areoplane(vehical):\n",
        "  def disp3(self):\n",
        "    print(\"Areoplane information\")\n",
        "obj1=car()\n",
        "obj1.disp1()\n",
        "obj1.disp2()\n",
        "#obj1.disp3() #will not be able to inherte"
      ],
      "metadata": {
        "colab": {
          "base_uri": "https://localhost:8080/"
        },
        "id": "UCT_dja-P6Wr",
        "outputId": "42d6fde7-9d8e-4d94-8e42-ece214384f66"
      },
      "execution_count": 88,
      "outputs": [
        {
          "output_type": "stream",
          "name": "stdout",
          "text": [
            "vehical information\n",
            "car information\n"
          ]
        }
      ]
    },
    {
      "cell_type": "code",
      "source": [
        "class vehical: #case 2\n",
        "  def disp1(self):\n",
        "    print(\"vehical information\")\n",
        "class car(vehical):\n",
        "  def disp2(self):\n",
        "    print(\"car information\")\n",
        "class areoplane(vehical):\n",
        "  def disp3(self):\n",
        "    print(\"Areoplane information\")\n",
        "obj2=areoplane()\n",
        "obj2.disp1()\n",
        "#obj2.disp2() #will bot be able to inherate\n",
        "obj2.disp3()"
      ],
      "metadata": {
        "colab": {
          "base_uri": "https://localhost:8080/"
        },
        "id": "lg_rk93iP79m",
        "outputId": "c3597f8b-b036-4ee1-8f74-f642e25a4e0e"
      },
      "execution_count": 89,
      "outputs": [
        {
          "output_type": "stream",
          "name": "stdout",
          "text": [
            "vehical information\n",
            "Areoplane information\n"
          ]
        }
      ]
    },
    {
      "cell_type": "code",
      "source": [
        "#multiple Inheriterance\n",
        "class parent1():\n",
        "  def m1(self):\n",
        "    print(\"Parent1 information\")\n",
        "class parent2():\n",
        "  def m2(self):\n",
        "    print(\"parent2 information\")\n",
        "class child(parent1,parent2):\n",
        "  def m3(self):\n",
        "    print(\"child Information\")\n",
        "obj=child()\n",
        "obj.m1()\n",
        "obj.m2()\n",
        "obj.m3()"
      ],
      "metadata": {
        "colab": {
          "base_uri": "https://localhost:8080/"
        },
        "id": "_2BKljHnP9Lg",
        "outputId": "5eb37a4f-c050-4d95-b607-0f4b15ec85ea"
      },
      "execution_count": 90,
      "outputs": [
        {
          "output_type": "stream",
          "name": "stdout",
          "text": [
            "Parent1 information\n",
            "parent2 information\n",
            "child Information\n"
          ]
        }
      ]
    },
    {
      "cell_type": "code",
      "source": [
        "class School:\n",
        "    def func1(self):\n",
        "        print(\"This function is in school.\")\n",
        "class Student1(School):\n",
        "    def func2(self):\n",
        "        print(\"This function is in student 1. \")\n",
        "class Student2(School):\n",
        "    def func3(self):\n",
        "        print(\"This function is in student 2.\")\n",
        "class Student3(Student2, School):\n",
        "    def func4(self):\n",
        "        print(\"This function is in student 3.\")\n",
        "object = Student3()\n",
        "object.func1()\n",
        "object.func3()"
      ],
      "metadata": {
        "colab": {
          "base_uri": "https://localhost:8080/"
        },
        "id": "RGXsIQhtP-dl",
        "outputId": "9406c266-d7bb-47df-8c5b-6c0137231464"
      },
      "execution_count": 91,
      "outputs": [
        {
          "output_type": "stream",
          "name": "stdout",
          "text": [
            "This function is in school.\n",
            "This function is in student 2.\n"
          ]
        }
      ]
    },
    {
      "cell_type": "code",
      "source": [
        "class person():\n",
        "  def __init__(self,fname,lname):\n",
        "    self.fname=fname\n",
        "    self.lname=lname\n",
        "class emp(person):\n",
        "  def __init__(self,fname,lname,eid):\n",
        "    self.fname=fname\n",
        "    self.lname=lname\n",
        "    self.eid=eid\n",
        "  def disp(self):\n",
        "    print(\"employee id number is:\",self.eid)\n",
        "    print(\"employee first name is:\",self.fname)\n",
        "    print(\"employee last name is:\",self.lname)\n",
        "obj=emp(\"sanad\",\"singh\",2457)\n",
        "obj.disp()"
      ],
      "metadata": {
        "colab": {
          "base_uri": "https://localhost:8080/"
        },
        "id": "lfla_v5lP_ss",
        "outputId": "2741d757-1007-4f5a-bb0c-13f8645e06fe"
      },
      "execution_count": 92,
      "outputs": [
        {
          "output_type": "stream",
          "name": "stdout",
          "text": [
            "employee id number is: 2457\n",
            "employee first name is: sanad\n",
            "employee last name is: singh\n"
          ]
        }
      ]
    },
    {
      "cell_type": "code",
      "source": [
        "class person(): #use of super function\n",
        "  def __init__(self,fname,lname):\n",
        "    self.fname=fname\n",
        "    self.lname=lname\n",
        "class emp(person):\n",
        "  def __init__(self,fname,lname,eid):\n",
        "    #self.fname=fname\n",
        "    #self.lname=lname\n",
        "    super().__init__(fname,lname)\n",
        "    self.eid=eid\n",
        "  def disp(self):\n",
        "    print(\"employee id number is:\",self.eid)\n",
        "    print(\"employee first name is:\",self.fname)\n",
        "    print(\"employee last name is:\",self.lname)\n",
        "obj=emp(\"sanad\",\"singh\",2457)\n",
        "obj.disp()"
      ],
      "metadata": {
        "colab": {
          "base_uri": "https://localhost:8080/"
        },
        "id": "Wc9_2Gn8QA3z",
        "outputId": "4ef43b39-273e-4775-b061-3b561af5488d"
      },
      "execution_count": 93,
      "outputs": [
        {
          "output_type": "stream",
          "name": "stdout",
          "text": [
            "employee id number is: 2457\n",
            "employee first name is: sanad\n",
            "employee last name is: singh\n"
          ]
        }
      ]
    },
    {
      "cell_type": "code",
      "source": [
        "class person():\n",
        "  def __init__(self,fname,lname):\n",
        "    self.fname=fname\n",
        "    self.lname=lname\n",
        "class emp(person):\n",
        "  def __init__(self,fname,lname,eid):\n",
        "    #self.fname=fname\n",
        "    #self.lname=lname\n",
        "    #super().__init__(fname,lname)\n",
        "    person.__init__(self,fname,lname) #use of parent class.\n",
        "    self.eid=eid\n",
        "  def disp(self):\n",
        "    print(\"employee id number is:\",self.eid)\n",
        "    print(\"employee first name is:\",self.fname)\n",
        "    print(\"employee last name is:\",self.lname)\n",
        "obj=emp(\"sanad\",\"singh\",2457)\n",
        "obj.disp()"
      ],
      "metadata": {
        "colab": {
          "base_uri": "https://localhost:8080/"
        },
        "id": "lNALlCXfQCFp",
        "outputId": "272f043e-0a57-4b7e-e76a-8f0b08683f58"
      },
      "execution_count": 94,
      "outputs": [
        {
          "output_type": "stream",
          "name": "stdout",
          "text": [
            "employee id number is: 2457\n",
            "employee first name is: sanad\n",
            "employee last name is: singh\n"
          ]
        }
      ]
    },
    {
      "cell_type": "code",
      "source": [
        "class Mammal():\n",
        "  def __init__(self, mName):\n",
        "    print(mName, 'is a warm-blooded animal.')\n",
        "class Dog(Mammal):\n",
        "  def __init__(self):\n",
        "    print('Dog has four legs.')\n",
        "    super().__init__('Dog') #use of super keyword in single level inheritance.\n",
        "d1 = Dog()"
      ],
      "metadata": {
        "colab": {
          "base_uri": "https://localhost:8080/"
        },
        "id": "0BmYPoBlQDbK",
        "outputId": "93d2d7be-2764-49dd-d721-bb02c817097d"
      },
      "execution_count": 95,
      "outputs": [
        {
          "output_type": "stream",
          "name": "stdout",
          "text": [
            "Dog has four legs.\n",
            "Dog is a warm-blooded animal.\n"
          ]
        }
      ]
    },
    {
      "cell_type": "code",
      "source": [],
      "metadata": {
        "id": "z99aISlCQFCJ"
      },
      "execution_count": null,
      "outputs": []
    }
  ]
}