{
  "nbformat": 4,
  "nbformat_minor": 0,
  "metadata": {
    "colab": {
      "provenance": [],
      "authorship_tag": "ABX9TyMF/LQZClYKhUnsE1J/LCQz",
      "include_colab_link": true
    },
    "kernelspec": {
      "name": "python3",
      "display_name": "Python 3"
    },
    "language_info": {
      "name": "python"
    }
  },
  "cells": [
    {
      "cell_type": "markdown",
      "metadata": {
        "id": "view-in-github",
        "colab_type": "text"
      },
      "source": [
        "<a href=\"https://colab.research.google.com/github/SANAD343/Python_For_DataScience/blob/main/Python_Sets.ipynb\" target=\"_parent\"><img src=\"https://colab.research.google.com/assets/colab-badge.svg\" alt=\"Open In Colab\"/></a>"
      ]
    },
    {
      "cell_type": "markdown",
      "source": [
        "#Set\n",
        "\n",
        "Sets are used to store multiple items in a single variable.\n",
        "\n",
        "A set is a collection which is unordered, unchangeable*, and unindexed.\n",
        "\n",
        "Set items are unchangeable, but you can remove items and add new items.\n",
        "\n",
        "Set items are unordered, unchangeable, and do not allow duplicate values.\n",
        "\n",
        "Unordered means that the items in a set do not have a defined order.\n",
        "\n",
        "Set items can appear in a different order every time you use them, and cannot be referred to by index or key.\n",
        "\n",
        "Set items are unchangeable, meaning that we cannot change the items after the set has been created.\n",
        "\n",
        "Sets cannot have two items with the same value.\n",
        "\n",
        "Once a set is created, you cannot change its items, but you can remove items and add new items.\n",
        "\n",
        "\n",
        "\n",
        "\n",
        "\n"
      ],
      "metadata": {
        "id": "k3K40lA5RKk2"
      }
    },
    {
      "cell_type": "markdown",
      "source": [
        "#Creating Set-->\n",
        "\n",
        "#comma Seprated immutable items with the curlly braces.{}\n",
        "\n",
        "\n",
        "#Python also provide the set frunction. defined as  set()"
      ],
      "metadata": {
        "id": "Sp8SQBG2Rybr"
      }
    },
    {
      "cell_type": "code",
      "source": [
        "data={\"jan\",\"feb\",\"march\",\"april\",\"may\",\"june\",\"july\"}\n",
        "print(data)"
      ],
      "metadata": {
        "colab": {
          "base_uri": "https://localhost:8080/"
        },
        "id": "wGma6mYrR0Z3",
        "outputId": "352df0a2-311d-412a-f991-b90cb3d22a1a"
      },
      "execution_count": 1,
      "outputs": [
        {
          "output_type": "stream",
          "name": "stdout",
          "text": [
            "{'march', 'jan', 'april', 'may', 'june', 'feb', 'july'}\n"
          ]
        }
      ]
    },
    {
      "cell_type": "code",
      "source": [
        "type(data)"
      ],
      "metadata": {
        "colab": {
          "base_uri": "https://localhost:8080/"
        },
        "id": "yWCefWrDR2FI",
        "outputId": "bf3bbeb4-c3a2-4a69-e054-0fa6f2f83a95"
      },
      "execution_count": 2,
      "outputs": [
        {
          "output_type": "execute_result",
          "data": {
            "text/plain": [
              "set"
            ]
          },
          "metadata": {},
          "execution_count": 2
        }
      ]
    },
    {
      "cell_type": "code",
      "source": [
        "for item in data:\n",
        "  print(item)"
      ],
      "metadata": {
        "colab": {
          "base_uri": "https://localhost:8080/"
        },
        "id": "Fd_ObQEVR3Tq",
        "outputId": "ecd1a6e5-3239-4c66-8a50-812622d8e527"
      },
      "execution_count": 3,
      "outputs": [
        {
          "output_type": "stream",
          "name": "stdout",
          "text": [
            "march\n",
            "jan\n",
            "april\n",
            "may\n",
            "june\n",
            "feb\n",
            "july\n"
          ]
        }
      ]
    },
    {
      "cell_type": "code",
      "source": [
        "data1=set([\"sanad\",\"himanshu\",\"suraj\",\"honey\",\"raj\",\"neha\",\"shivan\"]) #for  set function we only use list and tuple"
      ],
      "metadata": {
        "id": "bBKZrABLR4jp"
      },
      "execution_count": 4,
      "outputs": []
    },
    {
      "cell_type": "code",
      "source": [
        "type(data1)"
      ],
      "metadata": {
        "colab": {
          "base_uri": "https://localhost:8080/"
        },
        "id": "7XrQRwzzS0EY",
        "outputId": "83841135-9637-4598-c724-77e6f5d8b966"
      },
      "execution_count": 5,
      "outputs": [
        {
          "output_type": "execute_result",
          "data": {
            "text/plain": [
              "set"
            ]
          },
          "metadata": {},
          "execution_count": 5
        }
      ]
    },
    {
      "cell_type": "code",
      "source": [
        "for item in data1:\n",
        "  print(item)"
      ],
      "metadata": {
        "colab": {
          "base_uri": "https://localhost:8080/"
        },
        "id": "O_Z01_YyS37e",
        "outputId": "dc962394-a1a3-496a-ece3-6ffb6dc98fa6"
      },
      "execution_count": 6,
      "outputs": [
        {
          "output_type": "stream",
          "name": "stdout",
          "text": [
            "raj\n",
            "honey\n",
            "sanad\n",
            "shivan\n",
            "neha\n",
            "himanshu\n",
            "suraj\n"
          ]
        }
      ]
    },
    {
      "cell_type": "code",
      "source": [
        "data2=set((100,200.5,\"raj\",\"datalve\",\"python\"))\n",
        "print(data2)"
      ],
      "metadata": {
        "colab": {
          "base_uri": "https://localhost:8080/"
        },
        "id": "IsKQJM5US5GQ",
        "outputId": "1954ca95-da90-4e54-f42e-d29b195fc9d3"
      },
      "execution_count": 8,
      "outputs": [
        {
          "output_type": "stream",
          "name": "stdout",
          "text": [
            "{'raj', 100, 200.5, 'python', 'datalve'}\n"
          ]
        }
      ]
    },
    {
      "cell_type": "code",
      "source": [
        "type(data2)"
      ],
      "metadata": {
        "colab": {
          "base_uri": "https://localhost:8080/"
        },
        "id": "gMS8t03NS6ZE",
        "outputId": "fd7e2f60-ffd9-46a3-a806-3bf1237104eb"
      },
      "execution_count": 9,
      "outputs": [
        {
          "output_type": "execute_result",
          "data": {
            "text/plain": [
              "set"
            ]
          },
          "metadata": {},
          "execution_count": 9
        }
      ]
    },
    {
      "cell_type": "code",
      "source": [
        "for item in data2:\n",
        "  print(item)"
      ],
      "metadata": {
        "colab": {
          "base_uri": "https://localhost:8080/"
        },
        "id": "84Uaq5dGTbom",
        "outputId": "51f4a977-1df2-4ed2-cb9a-45976ecf7a7e"
      },
      "execution_count": 10,
      "outputs": [
        {
          "output_type": "stream",
          "name": "stdout",
          "text": [
            "raj\n",
            "100\n",
            "200.5\n",
            "python\n",
            "datalve\n"
          ]
        }
      ]
    },
    {
      "cell_type": "code",
      "source": [
        "#it can contain any type of elements such as integer, float, tupple etc. All the data are immutable\n",
        "#but mutable elements(list, and Dictionary, set) cant be a member of set."
      ],
      "metadata": {
        "id": "N1FTGJJoTdAT"
      },
      "execution_count": 11,
      "outputs": []
    },
    {
      "cell_type": "code",
      "source": [
        "data3={200,5+4j,200.6,\"virendra\",\"d\"}\n",
        "print(type(data3))"
      ],
      "metadata": {
        "colab": {
          "base_uri": "https://localhost:8080/"
        },
        "id": "PnvGu26mTfxB",
        "outputId": "603522ba-3907-43a5-b967-b37869640b2e"
      },
      "execution_count": 12,
      "outputs": [
        {
          "output_type": "stream",
          "name": "stdout",
          "text": [
            "<class 'set'>\n"
          ]
        }
      ]
    },
    {
      "cell_type": "code",
      "source": [
        "data4={100,200.5,(\"tcs\",\"infosys\",\"79\"),[\"sanad\",\"himanshu\",6+8j]}\n",
        "type(data4) #error come as list, dictionary are not part of set.\n",
        "\n",
        "#while checking the type of data4, it raised an error(type error), which mean can contain only mutable data."
      ],
      "metadata": {
        "colab": {
          "base_uri": "https://localhost:8080/",
          "height": 219
        },
        "id": "zHweawIhTh_T",
        "outputId": "a26302a3-1fac-4248-cbb1-a6ba7f7ba17d"
      },
      "execution_count": 13,
      "outputs": [
        {
          "output_type": "error",
          "ename": "TypeError",
          "evalue": "unhashable type: 'list'",
          "traceback": [
            "\u001b[0;31m---------------------------------------------------------------------------\u001b[0m",
            "\u001b[0;31mTypeError\u001b[0m                                 Traceback (most recent call last)",
            "\u001b[0;32m<ipython-input-13-8cfe95fb1bdb>\u001b[0m in \u001b[0;36m<cell line: 1>\u001b[0;34m()\u001b[0m\n\u001b[0;32m----> 1\u001b[0;31m \u001b[0mdata4\u001b[0m\u001b[0;34m=\u001b[0m\u001b[0;34m{\u001b[0m\u001b[0;36m100\u001b[0m\u001b[0;34m,\u001b[0m\u001b[0;36m200.5\u001b[0m\u001b[0;34m,\u001b[0m\u001b[0;34m(\u001b[0m\u001b[0;34m\"tcs\"\u001b[0m\u001b[0;34m,\u001b[0m\u001b[0;34m\"infosys\"\u001b[0m\u001b[0;34m,\u001b[0m\u001b[0;34m\"79\"\u001b[0m\u001b[0;34m)\u001b[0m\u001b[0;34m,\u001b[0m\u001b[0;34m[\u001b[0m\u001b[0;34m\"sanad\"\u001b[0m\u001b[0;34m,\u001b[0m\u001b[0;34m\"himanshu\"\u001b[0m\u001b[0;34m,\u001b[0m\u001b[0;36m6\u001b[0m\u001b[0;34m+\u001b[0m\u001b[0;36m8j\u001b[0m\u001b[0;34m]\u001b[0m\u001b[0;34m}\u001b[0m\u001b[0;34m\u001b[0m\u001b[0;34m\u001b[0m\u001b[0m\n\u001b[0m\u001b[1;32m      2\u001b[0m \u001b[0mtype\u001b[0m\u001b[0;34m(\u001b[0m\u001b[0mdata4\u001b[0m\u001b[0;34m)\u001b[0m \u001b[0;31m#error come as list, dictionary are not part of set.\u001b[0m\u001b[0;34m\u001b[0m\u001b[0;34m\u001b[0m\u001b[0m\n\u001b[1;32m      3\u001b[0m \u001b[0;34m\u001b[0m\u001b[0m\n\u001b[1;32m      4\u001b[0m \u001b[0;31m#while checking the type of data4, it raised an error(type error), which mean can contain only mutable data.\u001b[0m\u001b[0;34m\u001b[0m\u001b[0;34m\u001b[0m\u001b[0m\n",
            "\u001b[0;31mTypeError\u001b[0m: unhashable type: 'list'"
          ]
        }
      ]
    },
    {
      "cell_type": "code",
      "source": [
        "data4={100,200.5,(\"tcs\",\"infosys\",\"79\")} #only tupple\n",
        "type(data4)"
      ],
      "metadata": {
        "colab": {
          "base_uri": "https://localhost:8080/"
        },
        "id": "gRWS-42eTymA",
        "outputId": "3cc0c6ce-5a02-4ef6-accd-8e968c8122e7"
      },
      "execution_count": 14,
      "outputs": [
        {
          "output_type": "execute_result",
          "data": {
            "text/plain": [
              "set"
            ]
          },
          "metadata": {},
          "execution_count": 14
        }
      ]
    },
    {
      "cell_type": "code",
      "source": [
        "data5={} #empty dictionary\n",
        "type(data5)"
      ],
      "metadata": {
        "colab": {
          "base_uri": "https://localhost:8080/"
        },
        "id": "bGHWeoLlT6-Q",
        "outputId": "e32fb1f1-1ed7-487b-e697-e15605951e20"
      },
      "execution_count": 15,
      "outputs": [
        {
          "output_type": "execute_result",
          "data": {
            "text/plain": [
              "dict"
            ]
          },
          "metadata": {},
          "execution_count": 15
        }
      ]
    },
    {
      "cell_type": "code",
      "source": [
        "data6=set() #empty set\n",
        "type(data6)"
      ],
      "metadata": {
        "colab": {
          "base_uri": "https://localhost:8080/"
        },
        "id": "TY9ivD5_T-Fq",
        "outputId": "e8e76908-7e59-4d1e-e064-d8b660149114"
      },
      "execution_count": 16,
      "outputs": [
        {
          "output_type": "execute_result",
          "data": {
            "text/plain": [
              "set"
            ]
          },
          "metadata": {},
          "execution_count": 16
        }
      ]
    },
    {
      "cell_type": "code",
      "source": [
        "data7={1000,2000,\"raj\",\"r\",5,8,9,9,9,9,9,10} #automatically remove duplicate data from the set, property of set\n",
        "print(\"return set with unique element\", data7)"
      ],
      "metadata": {
        "colab": {
          "base_uri": "https://localhost:8080/"
        },
        "id": "wg7Xpy9QT_VU",
        "outputId": "53c971e3-449a-4332-a835-f93ed68b7dcb"
      },
      "execution_count": 17,
      "outputs": [
        {
          "output_type": "stream",
          "name": "stdout",
          "text": [
            "return set with unique element {'raj', 5, 1000, 8, 9, 10, 'r', 2000}\n"
          ]
        }
      ]
    },
    {
      "cell_type": "code",
      "source": [
        "#Adding item to the set\n",
        "\n",
        "friends={\"sanad\",\"himashu\",\"honey\",\"suraj\",\"shrikant\"} #set\n",
        "friend2= set((\"sanad\",\"himashu\",\"honey\",\"suraj\",\"shrikant\",\"ankit\")) #set with set fruction we can take list tuple or dictionary for set function\n",
        "friend3= set({\"f1\":\"sanad\",\"f2\":\"himashu\",\"f3\":\"Ankit\"}) #set with dictionary"
      ],
      "metadata": {
        "id": "yHuJRKuKUhAz"
      },
      "execution_count": 18,
      "outputs": []
    },
    {
      "cell_type": "code",
      "source": [
        "print(friend3)"
      ],
      "metadata": {
        "colab": {
          "base_uri": "https://localhost:8080/"
        },
        "id": "7l1c9ahFUro8",
        "outputId": "f75fdadb-9c41-4d4e-cf07-770f3b4d8010"
      },
      "execution_count": 19,
      "outputs": [
        {
          "output_type": "stream",
          "name": "stdout",
          "text": [
            "{'f3', 'f2', 'f1'}\n"
          ]
        }
      ]
    },
    {
      "cell_type": "code",
      "source": [
        "friends.add(\"hello world\")"
      ],
      "metadata": {
        "id": "Br9nMHQBUszc"
      },
      "execution_count": 20,
      "outputs": []
    },
    {
      "cell_type": "code",
      "source": [
        "print(friends)"
      ],
      "metadata": {
        "colab": {
          "base_uri": "https://localhost:8080/"
        },
        "id": "iSa5Bxt0UuGr",
        "outputId": "3eb106e0-7116-47da-dd83-41a7ae210184"
      },
      "execution_count": 21,
      "outputs": [
        {
          "output_type": "stream",
          "name": "stdout",
          "text": [
            "{'hello world', 'honey', 'himashu', 'suraj', 'shrikant', 'sanad'}\n"
          ]
        }
      ]
    },
    {
      "cell_type": "code",
      "source": [
        "friends.update(friend2)"
      ],
      "metadata": {
        "id": "uP-fLL3JUws7"
      },
      "execution_count": 22,
      "outputs": []
    },
    {
      "cell_type": "code",
      "source": [
        "print (friends)"
      ],
      "metadata": {
        "colab": {
          "base_uri": "https://localhost:8080/"
        },
        "id": "s_PmnxR1Uyar",
        "outputId": "91281a3d-4636-4e43-cd4c-36dcb1657207"
      },
      "execution_count": 23,
      "outputs": [
        {
          "output_type": "stream",
          "name": "stdout",
          "text": [
            "{'honey', 'sanad', 'hello world', 'shrikant', 'ankit', 'suraj', 'himashu'}\n"
          ]
        }
      ]
    },
    {
      "cell_type": "code",
      "source": [
        "friends.update({\"f1\":\"sanad\",\"f2\":\"himashu\",\"f3\":\"Ankit\"})"
      ],
      "metadata": {
        "id": "xIN0NHBoUznO"
      },
      "execution_count": 24,
      "outputs": []
    },
    {
      "cell_type": "code",
      "source": [
        "print(friends)"
      ],
      "metadata": {
        "colab": {
          "base_uri": "https://localhost:8080/"
        },
        "id": "Ll7fA8M5U1QE",
        "outputId": "e681c1e5-48c7-41a1-f64d-641886ba51e5"
      },
      "execution_count": 25,
      "outputs": [
        {
          "output_type": "stream",
          "name": "stdout",
          "text": [
            "{'honey', 'f1', 'sanad', 'f2', 'hello world', 'shrikant', 'f3', 'ankit', 'suraj', 'himashu'}\n"
          ]
        }
      ]
    },
    {
      "cell_type": "code",
      "source": [
        "friends.discard(\"suraj\") #deleting the elements"
      ],
      "metadata": {
        "id": "U7MjqphRU2ZO"
      },
      "execution_count": 26,
      "outputs": []
    },
    {
      "cell_type": "code",
      "source": [
        "print(friends)"
      ],
      "metadata": {
        "colab": {
          "base_uri": "https://localhost:8080/"
        },
        "id": "teCFHIJSU--c",
        "outputId": "ff0d62fd-b836-415a-d10e-8477c6053d9c"
      },
      "execution_count": 27,
      "outputs": [
        {
          "output_type": "stream",
          "name": "stdout",
          "text": [
            "{'honey', 'f1', 'sanad', 'f2', 'hello world', 'shrikant', 'f3', 'ankit', 'himashu'}\n"
          ]
        }
      ]
    },
    {
      "cell_type": "code",
      "source": [
        "friends.remove(\"ankit\")"
      ],
      "metadata": {
        "id": "VLT_nEO_VAlR"
      },
      "execution_count": 28,
      "outputs": []
    },
    {
      "cell_type": "code",
      "source": [
        "print(friends)"
      ],
      "metadata": {
        "colab": {
          "base_uri": "https://localhost:8080/"
        },
        "id": "cDUNb9a3VIti",
        "outputId": "47fe6d19-c223-4618-c4f1-d43e7ba6f266"
      },
      "execution_count": 29,
      "outputs": [
        {
          "output_type": "stream",
          "name": "stdout",
          "text": [
            "{'honey', 'f1', 'sanad', 'f2', 'hello world', 'shrikant', 'f3', 'himashu'}\n"
          ]
        }
      ]
    },
    {
      "cell_type": "code",
      "source": [
        "friends.discard(\"ankit\")"
      ],
      "metadata": {
        "id": "QHWv18BgVKhr"
      },
      "execution_count": 30,
      "outputs": []
    },
    {
      "cell_type": "code",
      "source": [
        "friends.remove(\"ankit\")  #will get error as we have already discard ankit"
      ],
      "metadata": {
        "colab": {
          "base_uri": "https://localhost:8080/",
          "height": 146
        },
        "id": "VUEYDYeyVLwU",
        "outputId": "c19b4f9b-0f89-4ece-ca43-d28772848284"
      },
      "execution_count": 31,
      "outputs": [
        {
          "output_type": "error",
          "ename": "KeyError",
          "evalue": "'ankit'",
          "traceback": [
            "\u001b[0;31m---------------------------------------------------------------------------\u001b[0m",
            "\u001b[0;31mKeyError\u001b[0m                                  Traceback (most recent call last)",
            "\u001b[0;32m<ipython-input-31-f0712888cc59>\u001b[0m in \u001b[0;36m<cell line: 1>\u001b[0;34m()\u001b[0m\n\u001b[0;32m----> 1\u001b[0;31m \u001b[0mfriends\u001b[0m\u001b[0;34m.\u001b[0m\u001b[0mremove\u001b[0m\u001b[0;34m(\u001b[0m\u001b[0;34m\"ankit\"\u001b[0m\u001b[0;34m)\u001b[0m\u001b[0;34m\u001b[0m\u001b[0;34m\u001b[0m\u001b[0m\n\u001b[0m",
            "\u001b[0;31mKeyError\u001b[0m: 'ankit'"
          ]
        }
      ]
    },
    {
      "cell_type": "code",
      "source": [
        "friends.pop()"
      ],
      "metadata": {
        "colab": {
          "base_uri": "https://localhost:8080/",
          "height": 36
        },
        "id": "fZh2ZqIYVNjl",
        "outputId": "015177f7-baad-4d9d-9fc8-d439c6d9a20b"
      },
      "execution_count": 32,
      "outputs": [
        {
          "output_type": "execute_result",
          "data": {
            "text/plain": [
              "'honey'"
            ],
            "application/vnd.google.colaboratory.intrinsic+json": {
              "type": "string"
            }
          },
          "metadata": {},
          "execution_count": 32
        }
      ]
    },
    {
      "cell_type": "code",
      "source": [
        "friends.pop()"
      ],
      "metadata": {
        "colab": {
          "base_uri": "https://localhost:8080/",
          "height": 36
        },
        "id": "6fbzb06yVTxn",
        "outputId": "233c4b09-30c2-4893-f04b-0c4e486db070"
      },
      "execution_count": 33,
      "outputs": [
        {
          "output_type": "execute_result",
          "data": {
            "text/plain": [
              "'f1'"
            ],
            "application/vnd.google.colaboratory.intrinsic+json": {
              "type": "string"
            }
          },
          "metadata": {},
          "execution_count": 33
        }
      ]
    },
    {
      "cell_type": "code",
      "source": [
        "friends.pop()"
      ],
      "metadata": {
        "colab": {
          "base_uri": "https://localhost:8080/",
          "height": 36
        },
        "id": "Cuj-vRv3VVGr",
        "outputId": "c179d544-b8ae-4cc9-de2a-1a23f719d544"
      },
      "execution_count": 34,
      "outputs": [
        {
          "output_type": "execute_result",
          "data": {
            "text/plain": [
              "'sanad'"
            ],
            "application/vnd.google.colaboratory.intrinsic+json": {
              "type": "string"
            }
          },
          "metadata": {},
          "execution_count": 34
        }
      ]
    },
    {
      "cell_type": "code",
      "source": [
        "friends.pop()"
      ],
      "metadata": {
        "colab": {
          "base_uri": "https://localhost:8080/",
          "height": 36
        },
        "id": "qLDgpHpqVXZG",
        "outputId": "ff86081b-0ad7-4c7a-d4ad-01f96299504d"
      },
      "execution_count": 35,
      "outputs": [
        {
          "output_type": "execute_result",
          "data": {
            "text/plain": [
              "'f2'"
            ],
            "application/vnd.google.colaboratory.intrinsic+json": {
              "type": "string"
            }
          },
          "metadata": {},
          "execution_count": 35
        }
      ]
    },
    {
      "cell_type": "code",
      "source": [
        "friends.pop()"
      ],
      "metadata": {
        "colab": {
          "base_uri": "https://localhost:8080/",
          "height": 36
        },
        "id": "q9BNJYTYVXmD",
        "outputId": "925ae97c-7504-4c74-c154-001bf34460b1"
      },
      "execution_count": 36,
      "outputs": [
        {
          "output_type": "execute_result",
          "data": {
            "text/plain": [
              "'hello world'"
            ],
            "application/vnd.google.colaboratory.intrinsic+json": {
              "type": "string"
            }
          },
          "metadata": {},
          "execution_count": 36
        }
      ]
    },
    {
      "cell_type": "code",
      "source": [
        "friends.pop()"
      ],
      "metadata": {
        "colab": {
          "base_uri": "https://localhost:8080/",
          "height": 36
        },
        "id": "Huqb8Rz_VXxu",
        "outputId": "b3a6c340-c540-4d6c-f6cc-a38dca31e4bd"
      },
      "execution_count": 37,
      "outputs": [
        {
          "output_type": "execute_result",
          "data": {
            "text/plain": [
              "'shrikant'"
            ],
            "application/vnd.google.colaboratory.intrinsic+json": {
              "type": "string"
            }
          },
          "metadata": {},
          "execution_count": 37
        }
      ]
    },
    {
      "cell_type": "code",
      "source": [
        "friends.pop()"
      ],
      "metadata": {
        "colab": {
          "base_uri": "https://localhost:8080/",
          "height": 36
        },
        "id": "OeNX8prMVX93",
        "outputId": "5ed48162-c2c8-4da7-ad64-de8e79a7947c"
      },
      "execution_count": 38,
      "outputs": [
        {
          "output_type": "execute_result",
          "data": {
            "text/plain": [
              "'f3'"
            ],
            "application/vnd.google.colaboratory.intrinsic+json": {
              "type": "string"
            }
          },
          "metadata": {},
          "execution_count": 38
        }
      ]
    },
    {
      "cell_type": "code",
      "source": [
        "friends.pop()"
      ],
      "metadata": {
        "colab": {
          "base_uri": "https://localhost:8080/",
          "height": 36
        },
        "id": "7j1VSzcNVYzm",
        "outputId": "cb8d1e45-6025-44f6-9f43-3a7b310ea847"
      },
      "execution_count": 39,
      "outputs": [
        {
          "output_type": "execute_result",
          "data": {
            "text/plain": [
              "'himashu'"
            ],
            "application/vnd.google.colaboratory.intrinsic+json": {
              "type": "string"
            }
          },
          "metadata": {},
          "execution_count": 39
        }
      ]
    },
    {
      "cell_type": "code",
      "source": [
        "friends.pop() #here we have an empty set"
      ],
      "metadata": {
        "colab": {
          "base_uri": "https://localhost:8080/",
          "height": 146
        },
        "id": "ezDWbpqTVZoQ",
        "outputId": "e648b7c1-5a5d-4b79-f4f3-b450bd113443"
      },
      "execution_count": 40,
      "outputs": [
        {
          "output_type": "error",
          "ename": "KeyError",
          "evalue": "'pop from an empty set'",
          "traceback": [
            "\u001b[0;31m---------------------------------------------------------------------------\u001b[0m",
            "\u001b[0;31mKeyError\u001b[0m                                  Traceback (most recent call last)",
            "\u001b[0;32m<ipython-input-40-560b9055cf6f>\u001b[0m in \u001b[0;36m<cell line: 1>\u001b[0;34m()\u001b[0m\n\u001b[0;32m----> 1\u001b[0;31m \u001b[0mfriends\u001b[0m\u001b[0;34m.\u001b[0m\u001b[0mpop\u001b[0m\u001b[0;34m(\u001b[0m\u001b[0;34m)\u001b[0m\u001b[0;34m\u001b[0m\u001b[0;34m\u001b[0m\u001b[0m\n\u001b[0m",
            "\u001b[0;31mKeyError\u001b[0m: 'pop from an empty set'"
          ]
        }
      ]
    },
    {
      "cell_type": "code",
      "source": [
        "print(friends)"
      ],
      "metadata": {
        "colab": {
          "base_uri": "https://localhost:8080/"
        },
        "id": "pDQvIjd1Valb",
        "outputId": "22d34966-50ce-41b9-b55d-4b6475e07bb7"
      },
      "execution_count": 41,
      "outputs": [
        {
          "output_type": "stream",
          "name": "stdout",
          "text": [
            "set()\n"
          ]
        }
      ]
    },
    {
      "cell_type": "code",
      "source": [
        "friend3= set({\"f1\":\"sanad\",\"f2\":\"himashu\",\"f3\":\"Ankit\"})"
      ],
      "metadata": {
        "id": "71EJO2n1VfDC"
      },
      "execution_count": 42,
      "outputs": []
    },
    {
      "cell_type": "code",
      "source": [
        "friend3.clear()"
      ],
      "metadata": {
        "id": "IGpa0lEgWBK3"
      },
      "execution_count": 43,
      "outputs": []
    },
    {
      "cell_type": "code",
      "source": [
        "print(friend3)"
      ],
      "metadata": {
        "colab": {
          "base_uri": "https://localhost:8080/"
        },
        "id": "bms7fDavWDH9",
        "outputId": "cc6caa2c-37e9-42b7-a7c2-f6792bae43d0"
      },
      "execution_count": 44,
      "outputs": [
        {
          "output_type": "stream",
          "name": "stdout",
          "text": [
            "set()\n"
          ]
        }
      ]
    },
    {
      "cell_type": "code",
      "source": [
        "i=0   #while statement\n",
        "while(i<10):\n",
        "  print(i,\"hellboy\")\n",
        "  i=i+1"
      ],
      "metadata": {
        "colab": {
          "base_uri": "https://localhost:8080/"
        },
        "id": "pHqiMqH2WEHD",
        "outputId": "fea665bf-287b-4b5e-9ae4-4156644e5366"
      },
      "execution_count": 46,
      "outputs": [
        {
          "output_type": "stream",
          "name": "stdout",
          "text": [
            "0 hellboy\n",
            "1 hellboy\n",
            "2 hellboy\n",
            "3 hellboy\n",
            "4 hellboy\n",
            "5 hellboy\n",
            "6 hellboy\n",
            "7 hellboy\n",
            "8 hellboy\n",
            "9 hellboy\n"
          ]
        }
      ]
    },
    {
      "cell_type": "code",
      "source": [
        "set1={\"sanad\",\"himanshu\",\"honey\",\"suraj\",\"ankit\"}\n",
        "set2={\"pranshu\",\"shrikant\",\"ankit\"}\n",
        "print(set1|set2)"
      ],
      "metadata": {
        "colab": {
          "base_uri": "https://localhost:8080/"
        },
        "id": "p3W_YKFBWFW0",
        "outputId": "42d7a564-6e74-4c66-ae64-c790124e2e70"
      },
      "execution_count": 47,
      "outputs": [
        {
          "output_type": "stream",
          "name": "stdout",
          "text": [
            "{'ankit', 'honey', 'himanshu', 'suraj', 'shrikant', 'pranshu', 'sanad'}\n"
          ]
        }
      ]
    },
    {
      "cell_type": "code",
      "source": [
        "set1.union(set2) #unction of set"
      ],
      "metadata": {
        "colab": {
          "base_uri": "https://localhost:8080/"
        },
        "id": "02cLiAlsWg9j",
        "outputId": "8c37dcc4-e9ef-4960-8b1f-8927dd8acc75"
      },
      "execution_count": 48,
      "outputs": [
        {
          "output_type": "execute_result",
          "data": {
            "text/plain": [
              "{'ankit', 'himanshu', 'honey', 'pranshu', 'sanad', 'shrikant', 'suraj'}"
            ]
          },
          "metadata": {},
          "execution_count": 48
        }
      ]
    },
    {
      "cell_type": "code",
      "source": [
        "print(set1&set2) # &- sign of am% it will give the common elements in the set"
      ],
      "metadata": {
        "colab": {
          "base_uri": "https://localhost:8080/"
        },
        "id": "UjowWFhSWixh",
        "outputId": "1cef758a-fa12-4fc9-a8c7-465dc16ea908"
      },
      "execution_count": 49,
      "outputs": [
        {
          "output_type": "stream",
          "name": "stdout",
          "text": [
            "{'ankit'}\n"
          ]
        }
      ]
    },
    {
      "cell_type": "code",
      "source": [
        "set1.intersection(set2) #function of set"
      ],
      "metadata": {
        "colab": {
          "base_uri": "https://localhost:8080/"
        },
        "id": "CDZRvV0VWj4u",
        "outputId": "a7fa858d-83c1-431b-a2e8-4ca89f583fdf"
      },
      "execution_count": 50,
      "outputs": [
        {
          "output_type": "execute_result",
          "data": {
            "text/plain": [
              "{'ankit'}"
            ]
          },
          "metadata": {},
          "execution_count": 50
        }
      ]
    },
    {
      "cell_type": "code",
      "source": [
        "a={\"devansh\",\"babloo\",\"chetan\"} #intersection_update will work for more then 2 sets. It will not work with two sets\n",
        "b={\"chetan\",\"deva\",\"amway\"}\n",
        "c={\"rahul\",\"chetan\",\"gaurav\"}\n",
        "a.intersection_update(b,c)\n",
        "print(a)"
      ],
      "metadata": {
        "colab": {
          "base_uri": "https://localhost:8080/"
        },
        "id": "VsC1gcTlWlsC",
        "outputId": "b889fec3-c710-4e6c-db91-702cad7f5256"
      },
      "execution_count": 51,
      "outputs": [
        {
          "output_type": "stream",
          "name": "stdout",
          "text": [
            "{'chetan'}\n"
          ]
        }
      ]
    },
    {
      "cell_type": "code",
      "source": [
        "set4={\"jan\",\"feb\",\"march\",\"april\"} #priority\n",
        "set5={\"jan\",\"feb\",\"dec\"}\n",
        "print(set4-set5)"
      ],
      "metadata": {
        "colab": {
          "base_uri": "https://localhost:8080/"
        },
        "id": "usEpUkFoWnCW",
        "outputId": "2defc235-1c12-44e2-99d7-4f70598ff9d6"
      },
      "execution_count": 52,
      "outputs": [
        {
          "output_type": "stream",
          "name": "stdout",
          "text": [
            "{'march', 'april'}\n"
          ]
        }
      ]
    },
    {
      "cell_type": "code",
      "source": [
        "set5.difference(set4)"
      ],
      "metadata": {
        "colab": {
          "base_uri": "https://localhost:8080/"
        },
        "id": "OYbOm44sWrjr",
        "outputId": "0b2029d1-8e24-4d49-b68c-323a0ac891bb"
      },
      "execution_count": 53,
      "outputs": [
        {
          "output_type": "execute_result",
          "data": {
            "text/plain": [
              "{'dec'}"
            ]
          },
          "metadata": {},
          "execution_count": 53
        }
      ]
    },
    {
      "cell_type": "code",
      "source": [
        "print(set4^set5)"
      ],
      "metadata": {
        "colab": {
          "base_uri": "https://localhost:8080/"
        },
        "id": "jx795vB_Wsmp",
        "outputId": "03bc512a-d7f9-421a-a9f2-a1352c9d3e7e"
      },
      "execution_count": 54,
      "outputs": [
        {
          "output_type": "stream",
          "name": "stdout",
          "text": [
            "{'march', 'april', 'dec'}\n"
          ]
        }
      ]
    },
    {
      "cell_type": "code",
      "source": [
        "set1={1,2,3,4,5}\n",
        "set2={1,2}\n",
        "set3={1,2,6}\n",
        "set4={3,4,5}\n",
        "\n",
        "set1>set2"
      ],
      "metadata": {
        "colab": {
          "base_uri": "https://localhost:8080/"
        },
        "id": "OvE6BmjmW7ZV",
        "outputId": "b20e80aa-2009-4dd2-d390-dad4e19479b3"
      },
      "execution_count": 55,
      "outputs": [
        {
          "output_type": "execute_result",
          "data": {
            "text/plain": [
              "True"
            ]
          },
          "metadata": {},
          "execution_count": 55
        }
      ]
    },
    {
      "cell_type": "code",
      "source": [
        "set1<set2"
      ],
      "metadata": {
        "colab": {
          "base_uri": "https://localhost:8080/"
        },
        "id": "EAc78iXSW8dj",
        "outputId": "4a7c247a-3510-47c5-deec-0eee64e2d09e"
      },
      "execution_count": 56,
      "outputs": [
        {
          "output_type": "execute_result",
          "data": {
            "text/plain": [
              "False"
            ]
          },
          "metadata": {},
          "execution_count": 56
        }
      ]
    },
    {
      "cell_type": "code",
      "source": [
        "set1>set4"
      ],
      "metadata": {
        "colab": {
          "base_uri": "https://localhost:8080/"
        },
        "id": "NEhklgOmW9nM",
        "outputId": "c6ab0862-d5e6-41d3-ca6b-3480b66edac8"
      },
      "execution_count": 57,
      "outputs": [
        {
          "output_type": "execute_result",
          "data": {
            "text/plain": [
              "True"
            ]
          },
          "metadata": {},
          "execution_count": 57
        }
      ]
    },
    {
      "cell_type": "code",
      "source": [
        "set1==set2"
      ],
      "metadata": {
        "colab": {
          "base_uri": "https://localhost:8080/"
        },
        "id": "eEnwAtH3XAXk",
        "outputId": "dc28972f-f3e5-4087-bd6b-db3ad55eec97"
      },
      "execution_count": 58,
      "outputs": [
        {
          "output_type": "execute_result",
          "data": {
            "text/plain": [
              "False"
            ]
          },
          "metadata": {},
          "execution_count": 58
        }
      ]
    },
    {
      "cell_type": "code",
      "source": [
        "set1==set3"
      ],
      "metadata": {
        "colab": {
          "base_uri": "https://localhost:8080/"
        },
        "id": "CVSq6NxZXBzH",
        "outputId": "7e4463ff-1364-4568-ca27-588b702b6a0b"
      },
      "execution_count": 59,
      "outputs": [
        {
          "output_type": "execute_result",
          "data": {
            "text/plain": [
              "False"
            ]
          },
          "metadata": {},
          "execution_count": 59
        }
      ]
    }
  ]
}